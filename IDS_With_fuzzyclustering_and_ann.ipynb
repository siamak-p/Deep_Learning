{
 "cells": [
  {
   "cell_type": "code",
   "execution_count": 1,
   "metadata": {},
   "outputs": [
    {
     "name": "stderr",
     "output_type": "stream",
     "text": [
      "Using TensorFlow backend.\n"
     ]
    }
   ],
   "source": [
    "# import the modules that we need\n",
    "import time\n",
    "import os\n",
    "import numpy as np\n",
    "from keras.utils import to_categorical\n",
    "from keras.layers import Dropout\n",
    "from keras.models import Sequential\n",
    "import keras.backend as K\n",
    "import matplotlib.pyplot as plt\n",
    "from keras.layers import Dense, Input\n",
    "from keras.models import Model\n",
    "from keras.layers import Layer\n",
    "from sklearn.cluster import MeanShift\n",
    "from collections import Counter\n",
    "# from sklearn.decomposition import PCA\n",
    "from sklearn.preprocessing import RobustScaler, StandardScaler, MinMaxScaler, Normalizer\n",
    "np.set_printoptions(precision=3, suppress=True)"
   ]
  },
  {
   "cell_type": "code",
   "execution_count": 2,
   "metadata": {},
   "outputs": [],
   "source": [
    "# with this module we can load datasets\n",
    "def load_nsl_kdd_cup_dataset(filename, n_column=41):\n",
    "    with open(filename, 'r')as f:\n",
    "        list1 = []\n",
    "        list2 = []\n",
    "        for i in f:\n",
    "            list1.append(i)\n",
    "            \n",
    "        for i in list1:\n",
    "            i = str(i)\n",
    "            labels = i.split(sep=',')\n",
    "            list2.append(labels[:n_column])\n",
    "        arraylist = np.array(list2)\n",
    "#         print(arraylist.shape)\n",
    "        return arraylist\n",
    "\n",
    "dirs = './NSL_KDD-master'\n",
    "train_X = load_nsl_kdd_cup_dataset(os.path.join(dirs, 'KDDTrain+.txt'))\n",
    "test_X  = load_nsl_kdd_cup_dataset(os.path.join(dirs, 'KDDTest+.txt'))\n",
    "# print(test_X[3])\n",
    "traindata_labels = load_nsl_kdd_cup_dataset(os.path.join(dirs, 'KDDTrain+.txt'), n_column=42)\n",
    "testdata_labels = load_nsl_kdd_cup_dataset(os.path.join(dirs, 'KDDTest+.txt'), n_column=42)"
   ]
  },
  {
   "cell_type": "code",
   "execution_count": 3,
   "metadata": {},
   "outputs": [
    {
     "name": "stdout",
     "output_type": "stream",
     "text": [
      "(125973, 41)\n",
      "(22544, 41)\n"
     ]
    }
   ],
   "source": [
    "print(train_X.shape)\n",
    "print(test_X.shape)"
   ]
  },
  {
   "cell_type": "code",
   "execution_count": 4,
   "metadata": {},
   "outputs": [],
   "source": [
    "# Convert nominal values to numeric values\n",
    "def convert_nominal_to_numerical(sets):\n",
    "    list1 = []\n",
    "    col1, col2, col3 = [], [], []\n",
    "    for i in sets:\n",
    "        # print(i[1])\n",
    "        if i[1] == 'tcp':\n",
    "            i[1] = 1\n",
    "        elif i[1] == 'udp':\n",
    "            i[1] = 2\n",
    "        elif i[1] == 'icmp':\n",
    "            i[1] = 3\n",
    "\n",
    "        if i[2] == 'http':\n",
    "            i[2] = 1\n",
    "        elif i[2] == 'private':\n",
    "            i[2] = 2\n",
    "        elif i[2] == 'domain_u':\n",
    "            i[2] = 3\n",
    "        elif i[2] == 'smtp':\n",
    "            i[2] = 4\n",
    "        elif i[2] == 'ftp_data':\n",
    "            i[2] = 5\n",
    "        elif i[2] == 'eco_i':\n",
    "            i[2] = 6\n",
    "        elif i[2] == 'other':\n",
    "            i[2] = 7\n",
    "        elif i[2] == 'ecr_i':\n",
    "            i[2] = 8\n",
    "        elif i[2] == 'telnet':\n",
    "            i[2] = 9\n",
    "        elif i[2] == 'finger':\n",
    "            i[2] = 10\n",
    "        elif i[2] == 'ftp':\n",
    "            i[2] = 11\n",
    "        elif i[2] == 'auth':\n",
    "            i[2] = 12\n",
    "        elif i[2] == 'Z39_50':\n",
    "            i[2] = 13\n",
    "        elif i[2] == 'uucp':\n",
    "            i[2] = 14\n",
    "        elif i[2] == 'courier':\n",
    "            i[2] = 15\n",
    "        elif i[2] == 'bgp':\n",
    "            i[2] = 16\n",
    "        elif i[2] == 'whois':\n",
    "            i[2] = 17\n",
    "        elif i[2] == 'uucp_path':\n",
    "            i[2] = 18\n",
    "        elif i[2] == 'iso_tsap':\n",
    "            i[2] = 19\n",
    "        elif i[2] == 'time':\n",
    "            i[2] = 20\n",
    "        elif i[2] == 'imap4':\n",
    "            i[2] = 21\n",
    "        elif i[2] == 'nnsp':\n",
    "            i[2] = 22\n",
    "        elif i[2] == 'vmnet':\n",
    "            i[2] = 23\n",
    "        elif i[2] == 'urp_i':\n",
    "            i[2] = 24\n",
    "        elif i[2] == 'domain':\n",
    "            i[2] = 25\n",
    "        elif i[2] == 'ctf':\n",
    "            i[2] = 26\n",
    "        elif i[2] == 'csnet_ns':\n",
    "            i[2] = 27\n",
    "        elif i[2] == 'supdup':\n",
    "            i[2] = 28\n",
    "        elif i[2] == 'discard':\n",
    "            i[2] = 29\n",
    "        elif i[2] == 'http_443':\n",
    "            i[2] = 30\n",
    "        elif i[2] == 'daytime':\n",
    "            i[2] = 31\n",
    "        elif i[2] == 'gopher':\n",
    "            i[2] = 32\n",
    "        elif i[2] == 'efs':\n",
    "            i[2] = 33\n",
    "        elif i[2] == 'systat':\n",
    "            i[2] = 34\n",
    "        elif i[2] == 'link':\n",
    "            i[2] = 35\n",
    "        elif i[2] == 'exec':\n",
    "            i[2] = 36\n",
    "        elif i[2] == 'hostnames':\n",
    "            i[2] = 37\n",
    "        elif i[2] == 'name':\n",
    "            i[2] = 38\n",
    "        elif i[2] == 'mtp':\n",
    "            i[2] = 39\n",
    "        elif i[2] == 'echo':\n",
    "            i[2] = 40\n",
    "        elif i[2] == 'klogin':\n",
    "            i[2] = 41\n",
    "        elif i[2] == 'login':\n",
    "            i[2] = 42\n",
    "        elif i[2] == 'ldap':\n",
    "            i[2] = 43\n",
    "        elif i[2] == 'netbios_dgm':\n",
    "            i[2] = 44\n",
    "        elif i[2] == 'sunrpc':\n",
    "            i[2] = 45\n",
    "        elif i[2] == 'netbios_ssn':\n",
    "            i[2] = 46\n",
    "        elif i[2] == 'netstat':\n",
    "            i[2] = 47\n",
    "        elif i[2] == 'netbios_ns':\n",
    "            i[2] = 48\n",
    "        elif i[2] == 'ssh':\n",
    "            i[2] = 49\n",
    "        elif i[2] == 'kshell':\n",
    "            i[2] = 50\n",
    "        elif i[2] == 'nntp':\n",
    "            i[2] = 51\n",
    "        elif i[2] == 'pop_3':\n",
    "            i[2] = 52\n",
    "        elif i[2] == 'sql_net':\n",
    "            i[2] = 53\n",
    "        elif i[2] == 'IRC':\n",
    "            i[2] = 54\n",
    "        elif i[2] == 'ntp_u':\n",
    "            i[2] = 55\n",
    "        elif i[2] == 'rje':\n",
    "            i[2] = 56\n",
    "        elif i[2] == 'remote_job':\n",
    "            i[2] = 57\n",
    "        elif i[2] == 'pop_2':\n",
    "            i[2] = 58\n",
    "        elif i[2] == 'X11':\n",
    "            i[2] = 59\n",
    "        elif i[2] == 'printer':\n",
    "            i[2] = 60\n",
    "        elif i[2] == 'shell':\n",
    "            i[2] = 61\n",
    "        elif i[2] == 'urh_i':\n",
    "            i[2] = 62\n",
    "        elif i[2] == 'tim_i':\n",
    "            i[2] = 63\n",
    "        elif i[2] == 'red_i':\n",
    "            i[2] = 64\n",
    "        elif i[2] == 'pm_dump':\n",
    "            i[2] = 65\n",
    "        elif i[2] == 'tftp_u':\n",
    "            i[2] = 66\n",
    "        elif i[2] == 'http_8001':\n",
    "            i[2] = 67\n",
    "        elif i[2] == 'aol':\n",
    "            i[2] = 68\n",
    "        elif i[2] == 'harvest':\n",
    "            i[2] = 69\n",
    "        elif i[2] == 'http_2784':\n",
    "            i[2] = 70\n",
    "\n",
    "        if i[3] == 'SF':\n",
    "            i[3] = 1\n",
    "        elif i[3] == 'S0':\n",
    "            i[3] = 2\n",
    "        elif i[3] == 'REJ':\n",
    "            i[3] = 3\n",
    "        elif i[3] == 'RSTR':\n",
    "            i[3] = 4\n",
    "        elif i[3] == 'RSTO':\n",
    "            i[3] = 5\n",
    "        elif i[3] == 'S1':\n",
    "            i[3] = 6\n",
    "        elif i[3] == 'SH':\n",
    "            i[3] = 7\n",
    "        elif i[3] == 'S2':\n",
    "            i[3] = 8\n",
    "        elif i[3] == 'RSTOS0':\n",
    "            i[3] = 9\n",
    "        elif i[3] == 'S3':\n",
    "            i[3] = 10\n",
    "        elif i[3] == 'OTH':\n",
    "            i[3] = 11\n",
    "\n",
    "        # print(i)\n",
    "        list1.append(i)\n",
    "        col1.append(i[1])\n",
    "        col2.append(i[2])\n",
    "        col3.append(i[3])\n",
    "    return list1, col1, col2, col3\n"
   ]
  },
  {
   "cell_type": "code",
   "execution_count": 5,
   "metadata": {},
   "outputs": [],
   "source": [
    "def convert_list_to_array(list1):\n",
    "    arrays = np.array(list1)\n",
    "    return arrays"
   ]
  },
  {
   "cell_type": "code",
   "execution_count": 6,
   "metadata": {},
   "outputs": [],
   "source": [
    "def plots(value1, value2, loss_or_acc, epochs):\n",
    "    plt.plot(epochs, value1, 'b', label='training %s'%loss_or_acc)\n",
    "    plt.plot(epochs, value2, 'bo', label='validation %s'%loss_or_acc)\n",
    "    plt.xlabel('Epochs')\n",
    "    plt.ylabel('%s'%loss_or_acc)\n",
    "    if loss_or_acc == 'Accuracy' or loss_or_acc == 'accuracy' or loss_or_acc == 'acc':\n",
    "        plt.axis([0, 40, 0, 1.1])\n",
    "    plt.title('Training and validation %s'%loss_or_acc)\n",
    "    plt.legend()\n",
    "    plt.show()"
   ]
  },
  {
   "cell_type": "code",
   "execution_count": 7,
   "metadata": {},
   "outputs": [],
   "source": [
    "def make_cluster(labels_with_cluster, num_cluster, n_column):\n",
    "    array_cluster = np.copy(labels_with_cluster)\n",
    "#     print(array_cluster.shape)\n",
    "    clusters = []\n",
    "    for index in range(len(array_cluster)):\n",
    "        if array_cluster[index, n_column] == num_cluster:\n",
    "            clusters.append(array_cluster[index])\n",
    "    return convert_list_to_array(clusters)"
   ]
  },
  {
   "cell_type": "code",
   "execution_count": 8,
   "metadata": {},
   "outputs": [],
   "source": [
    "def cut_cluster_column(cluster_with_cluster_label, cluster_col_num):\n",
    "    list1 = []\n",
    "    for index in cluster_with_cluster_label:\n",
    "        list1.append(index[:cluster_col_num])\n",
    "    return convert_list_to_array(list1)"
   ]
  },
  {
   "cell_type": "code",
   "execution_count": 9,
   "metadata": {},
   "outputs": [],
   "source": [
    "# convert nominal labels to numeric\n",
    "def nominal_labels_2_numeric(labels):\n",
    "    lst_label = np.copy(labels)\n",
    "    for i in range(len(lst_label)):\n",
    "        if lst_label[i] == 'normal':\n",
    "            lst_label[i] = 0\n",
    "        if lst_label[i] == 'dos':\n",
    "            lst_label[i] = 1\n",
    "        if lst_label[i] == 'probe':\n",
    "            lst_label[i] = 2\n",
    "        if lst_label[i] == 'r2l':\n",
    "            lst_label[i] = 3\n",
    "        if lst_label[i] == 'u2r':\n",
    "            lst_label[i] = 4\n",
    "    return(convert_list_to_array(list1=lst_label))"
   ]
  },
  {
   "cell_type": "code",
   "execution_count": 10,
   "metadata": {},
   "outputs": [],
   "source": [
    "def cut_label(cluster_with_label, cut_col):\n",
    "    lst = []\n",
    "    for i in cluster_with_label:\n",
    "        lst.append(i[cut_col:cut_col+1])\n",
    "    return convert_list_to_array(lst)\n",
    "        "
   ]
  },
  {
   "cell_type": "code",
   "execution_count": 11,
   "metadata": {},
   "outputs": [],
   "source": [
    "def get_labels(data):\n",
    "    label_list = []\n",
    "    for i1 in data:\n",
    "        label_list.append(i1[41])\n",
    "    return label_list"
   ]
  },
  {
   "cell_type": "code",
   "execution_count": 12,
   "metadata": {},
   "outputs": [],
   "source": [
    "# make all kind of attack to dos, prob, u2r and r2l\n",
    "def convert_labels_to_5_class(data):\n",
    "    lst_label = np.copy(data)\n",
    "    for index in range(len(lst_label)):\n",
    "        if lst_label[index] == 'back' or lst_label[index] =='land' or lst_label[index] == 'neptune' or lst_label[index] == 'pod' or lst_label[index] == 'smurf' or lst_label[index] == 'teardrop' or lst_label[index] == 'apache2' or lst_label[index] == 'udpstorm' or lst_label[index] == 'processtable' or lst_label[index] == 'worm' or lst_label[index] == 'mailbomb':\n",
    "            lst_label[index] = 'dos'\n",
    "                \n",
    "        if lst_label[index] == 'buffer_overflow' or lst_label[index] == 'loadmodule' or lst_label[index] == 'perl' or lst_label[index] ==  'rootkit' or lst_label[index] == 'sqlattack' or lst_label[index] == 'xterm' or lst_label[index] == 'ps':\n",
    "            lst_label[index] = 'u2r'\n",
    "                \n",
    "        if lst_label[index] == 'guess_passwd' or lst_label[index] == 'ftp_write' or lst_label[index] == 'imap' or lst_label[index] == 'phf' or lst_label[index] == 'multihop' or lst_label[index] == 'spy' or lst_label[index] == 'warezclient' or lst_label[index] == 'warezmaster' or lst_label[index] == 'xlock' or lst_label[index] == 'xsnoop' or lst_label[index] == 'snmpguess' or lst_label[index] == 'snmpgetattack' or lst_label[index] == 'httptunnel' or lst_label[index] == 'sendmail' or lst_label[index] == 'named':\n",
    "            lst_label[index] = 'r2l'\n",
    "            \n",
    "        if lst_label[index] == 'ipsweep' or lst_label[index] == 'nmap' or lst_label[index] == 'portsweep' or lst_label[index] == 'satan' or lst_label[index] == 'mscan' or lst_label[index] == 'saint':\n",
    "            lst_label[index] = 'probe'\n",
    "    return lst_label"
   ]
  },
  {
   "cell_type": "code",
   "execution_count": 13,
   "metadata": {},
   "outputs": [],
   "source": [
    "# in this module initializer will initiate the weights for networks\n",
    "# we define 2  kind of networks, use them and choose the one that better\n",
    "# k fold is for determine hyperparameters\n",
    "\n",
    "\n",
    "# def newsig(weight_matrix):\n",
    "#     return 10 * (1 / (1 + (K.exp(-0.0001 * weight_matrix))))\n",
    "def initializer(weight_matrix):\n",
    "    return K.random_uniform(shape=weight_matrix, minval=-1.2, maxval=0.8, seed=(142))\n",
    "\n",
    "from keras.optimizers import Adam, SGD\n",
    "adam = Adam(lr=0.001, beta_1=0.8, beta_2=0.899, epsilon=None, decay=0.0, amsgrad=False)\n",
    "sgd = SGD(lr=0.01, momentum=0.2, decay=0.0, nesterov=False)\n",
    "\n",
    "\n",
    "def build_model(loss_function):\n",
    "    model = Sequential()\n",
    "    model.add(Dense(25, activation='relu',\n",
    "                    kernel_initializer=initializer,\n",
    "                    bias_initializer='zeros',\n",
    "                    input_shape=(25, )))\n",
    "    model.add(Dense(15, activation='relu',\n",
    "                    kernel_initializer=initializer,\n",
    "                    bias_initializer='zeros'))\n",
    "    \n",
    "    model.add(Dense(5, activation='sigmoid',\n",
    "                    kernel_initializer=initializer,\n",
    "                    bias_initializer='zeros'))\n",
    "    \n",
    "    model.compile(optimizer=adam, loss=loss_function, metrics=['accuracy'])\n",
    "    return model\n",
    "\n",
    "\n",
    "\n",
    "def build_model2(loss_function):\n",
    "    model2 = Sequential()\n",
    "    model2.add(Dense(18, activation='sigmoid',\n",
    "                     kernel_initializer=initializer,\n",
    "                     bias_initializer='zeros',\n",
    "                     input_shape=(41, )))\n",
    "    model2.add(Dense(5, activation='linear',\n",
    "                     kernel_initializer=initializer,\n",
    "                     bias_initializer='zeros'))\n",
    "    \n",
    "    model2.compile(optimizer=sgd, loss=loss_function, metrics=['accuracy'])\n",
    "    return model2\n",
    "\n",
    "\n",
    "\n",
    "\n",
    "def k_fold(k_num, train_datas, train_labels, epochs, build_models, loss_func='categorical_crossentropy',\n",
    "           batch_size=128):\n",
    "    num_validation_samples = len(train_datas) // k_num\n",
    "    loss_list = []\n",
    "    val_loss_list = []\n",
    "    acc_list = []\n",
    "    val_acc_list = []\n",
    "    all_scores = []\n",
    "    print('training... please wait')\n",
    "    for i in range(k_num):\n",
    "        val_datas = train_datas[i * num_validation_samples:(i + 1) * num_validation_samples]\n",
    "        val_labels = train_labels[i * num_validation_samples:(i + 1) * num_validation_samples]\n",
    "        \n",
    "        partial_train_datas = np.concatenate([train_datas[:i * num_validation_samples],\n",
    "                                              train_datas[(i + 1) * num_validation_samples:]],\n",
    "                                             axis=0)\n",
    "        partial_train_labels = np.concatenate([train_labels[:i * num_validation_samples],\n",
    "                                               train_labels[(i + 1) * num_validation_samples:]],\n",
    "                                              axis=0)\n",
    "        network = build_models(loss_function=loss_func)\n",
    "        historys = network.fit(partial_train_datas, partial_train_labels,\n",
    "                              epochs=epochs,\n",
    "                              batch_size=batch_size,\n",
    "                              verbose=0,\n",
    "                              validation_data=(val_datas, val_labels))\n",
    "        _, val_accus = network.evaluate(val_datas, val_labels)\n",
    "        losses = historys.history['loss']\n",
    "        val_losses = historys.history['val_loss']\n",
    "        accs = historys.history['acc']\n",
    "        val_accs = historys.history['val_acc']\n",
    "        \n",
    "        loss_list.append(losses)\n",
    "        val_loss_list.append(val_losses)\n",
    "        acc_list.append(accs)\n",
    "        val_acc_list.append(val_accs)\n",
    "        all_scores.append(val_accus)\n",
    "    print('train finished')\n",
    "    return all_scores, loss_list, val_loss_list, acc_list, val_acc_list\n",
    "\n",
    "def averages(data, num_epochs):\n",
    "    avrg = [np.mean([x[i] for x in data]) for i in range(num_epochs)]\n",
    "    return avrg"
   ]
  },
  {
   "cell_type": "code",
   "execution_count": 14,
   "metadata": {},
   "outputs": [],
   "source": [
    "# this module calculate the metrics such as precision, accuracy,recall and ...\n",
    "\n",
    "def metrics_binary_1node(y_pred, y_test):\n",
    "    if not np.array(y_pred).shape[0] == np.array(y_test).shape[0]:\n",
    "        print('Error, prediction shape must be equal to y_test shape')\n",
    "        exit(-1)\n",
    "\n",
    "    TP = 0.\n",
    "    TN = 0.\n",
    "    FP = 0.\n",
    "    FN = 0.\n",
    "#     for i in range(len(y_test)):\n",
    "    for i in range(y_test.shape[0]):\n",
    "        if np.argmax(y_pred[i]) == np.argmax(y_test[i]):\n",
    "            if np.argmax(y_test[i]) == 0:\n",
    "                TN += 1\n",
    "            else:\n",
    "                TP += 1\n",
    "        else:\n",
    "            if np.argmax(y_test[i]) == 0:\n",
    "                FP += 1\n",
    "            else:\n",
    "                FN += 1\n",
    "    confuion_matrix = np.array([[TP, FP], [FN, TN]])\n",
    "    P = TP + FN\n",
    "    N = FP + TN\n",
    "    P_hat = TP + FP\n",
    "    N_hat = FN + TN\n",
    "    # precision = positive predictive value (PPV) = TP / P-hat\n",
    "    precision = TP / (P_hat + 1e-7)  # P_hat = TP + FP -> TP / (TP + FP)\n",
    "    print('precision', precision)\n",
    "    # False pos rate = false acceptance = type I error rate = FP / N = 1-spec\n",
    "    FPR = FP / (N + 1e-7)  # -> FP / (FP + TN)\n",
    "    print('FPR', FPR)\n",
    "    # Sensitivity = recall = True pos rate = hit rate = TP / P = 1-FNR\n",
    "    TPR = sensitivity = recall = TP / (P + 1e-7)  # -> TP / (TP + FN)\n",
    "    # TPR = sensitivity  # Recall\n",
    "    print('TPR', TPR)\n",
    "    print('Recall', recall)\n",
    "    # False neg rate = false rejection = type II error rate = FN / P = 1-TPR\n",
    "    FNR = FN / (P + 1e-7)  # -> FN / (TP + FN)\n",
    "    print('FNR', FNR)\n",
    "    # Specificity = TN / N = 1 - FPR\n",
    "    specificity = TN / (N + 1e-7)  # -> TN / (FP + TN)\n",
    "    print('specificity', specificity)\n",
    "    # Accuracy = (TP+TN)/(P+N) -> same as success rate\n",
    "    accuracy = (TP + TN) / (P + N + 1e-7)  # -> (TP + TN) / (TP + FN + FP + TN)\n",
    "    print('accuracy', accuracy)\n",
    "    # F-score or F-measure is the harmonic mean of the precision and recall\n",
    "    # F_score = (2 * precision * TPR) / (precision + TPR)\n",
    "    F_score = (2.0 * precision * recall) / (precision + recall + 1e-7)\n",
    "    print('F_score', F_score)\n",
    "    print('FN', FN)\n",
    "    print('FP', FP)\n",
    "    print('TP', TP)\n",
    "    print('TN', TN)\n",
    "    \n",
    "    observed_accuracy = (TP + TN) / (TP + FP + FN + TN)\n",
    "    po=observed_accuracy\n",
    "    denominator=np.power((TP + FP + FN + TN),2)\n",
    "    expected_accuracy = [(TP + FP)*(TP + FN) + (FN + TN)*(FP + TN)] / denominator\n",
    "    pe=expected_accuracy\n",
    "    Cohens_kappa = (po - pe)/(1 - pe)\n",
    "    print('Cohens_kappa',Cohens_kappa)\n",
    "\n",
    "    return F_score,accuracy,specificity,FNR,TPR,FPR,precision,Cohens_kappa"
   ]
  },
  {
   "cell_type": "code",
   "execution_count": 15,
   "metadata": {},
   "outputs": [],
   "source": [
    "import tensorflow as tf\n",
    "import random as rn\n",
    "\n",
    "os.environ['PYTHONHASHSEED'] = '0'\n",
    "\n",
    "# Setting the seed for numpy-generated random numbers\n",
    "np.random.seed(37)\n",
    "\n",
    "# Setting the seed for python random numbers\n",
    "rn.seed(1254)\n",
    "\n",
    "# Setting the graph-level random seed.\n",
    "tf.set_random_seed(89)\n",
    "\n",
    "from keras import backend as K\n",
    "\n",
    "session_conf = tf.ConfigProto(\n",
    "      intra_op_parallelism_threads=1,\n",
    "      inter_op_parallelism_threads=1)\n",
    "\n",
    "#Force Tensorflow to use a single thread\n",
    "sess = tf.Session(graph=tf.get_default_graph(), config=session_conf)\n",
    "\n",
    "K.set_session(sess)"
   ]
  },
  {
   "cell_type": "code",
   "execution_count": 16,
   "metadata": {},
   "outputs": [],
   "source": [
    "X_train_data, _, _, _ = convert_nominal_to_numerical(train_X)\n",
    "X_test_data, _, _, _ = convert_nominal_to_numerical(test_X)"
   ]
  },
  {
   "cell_type": "code",
   "execution_count": 17,
   "metadata": {},
   "outputs": [
    {
     "name": "stdout",
     "output_type": "stream",
     "text": [
      "['0' '1' '1' '1' '287' '2251' '0' '0' '0' '0' '0' '1' '0' '0' '0' '0' '0'\n",
      " '0' '0' '0' '0' '0' '3' '7' '0.00' '0.00' '0.00' '0.00' '1.00' '0.00'\n",
      " '0.43' '8' '219' '1.00' '0.00' '0.12' '0.03' '0.00' '0.00' '0.00' '0.00']\n",
      "(22544, 41)\n"
     ]
    }
   ],
   "source": [
    "print(X_train_data[12])\n",
    "print(np.array(X_test_data).shape)"
   ]
  },
  {
   "cell_type": "code",
   "execution_count": 18,
   "metadata": {},
   "outputs": [],
   "source": [
    "# define normalizer\n",
    "normalizer_scalers = MinMaxScaler()"
   ]
  },
  {
   "cell_type": "code",
   "execution_count": 19,
   "metadata": {},
   "outputs": [
    {
     "data": {
      "text/plain": [
       "MinMaxScaler(copy=True, feature_range=(0, 1))"
      ]
     },
     "execution_count": 19,
     "metadata": {},
     "output_type": "execute_result"
    }
   ],
   "source": [
    "normalizer_scalers.fit(X_train_data)"
   ]
  },
  {
   "cell_type": "code",
   "execution_count": 20,
   "metadata": {},
   "outputs": [],
   "source": [
    "normalizer_normalized_X = normalizer_scalers.transform(X_train_data)\n",
    "normalizer_normalized_X_test = normalizer_scalers.transform(X_test_data)\n",
    "normalizer_normalized_X = normalizer_normalized_X.astype('float32')\n",
    "normalizer_normalized_X_test = normalizer_normalized_X_test.astype('float32')"
   ]
  },
  {
   "cell_type": "code",
   "execution_count": 21,
   "metadata": {},
   "outputs": [
    {
     "name": "stdout",
     "output_type": "stream",
     "text": [
      "[0.    0.    0.    0.    0.    0.    0.    0.    0.    0.    0.    1.\n",
      " 0.    0.    0.    0.    0.    0.    0.    0.    0.    0.    0.006 0.014\n",
      " 0.    0.    0.    0.    1.    0.    0.43  0.031 0.859 1.    0.    0.12\n",
      " 0.03  0.    0.    0.    0.   ]\n"
     ]
    }
   ],
   "source": [
    "print(normalizer_normalized_X[12])"
   ]
  },
  {
   "cell_type": "code",
   "execution_count": 22,
   "metadata": {},
   "outputs": [],
   "source": [
    "import random\n",
    "import operator\n",
    "import math"
   ]
  },
  {
   "cell_type": "code",
   "execution_count": 23,
   "metadata": {},
   "outputs": [],
   "source": [
    "train_labels_list = get_labels(traindata_labels)\n",
    "test_labels_list = get_labels(testdata_labels)\n",
    "train_labels = convert_labels_to_5_class(train_labels_list)\n",
    "test_labels = convert_labels_to_5_class(test_labels_list)\n",
    "\n",
    "train_numerical_label = nominal_labels_2_numeric(train_labels)\n",
    "test_numerical_label = nominal_labels_2_numeric(test_labels)"
   ]
  },
  {
   "cell_type": "code",
   "execution_count": 24,
   "metadata": {},
   "outputs": [],
   "source": [
    "class_labels = np.copy(train_numerical_label)"
   ]
  },
  {
   "cell_type": "code",
   "execution_count": 25,
   "metadata": {},
   "outputs": [],
   "source": [
    "# define fuzzy clustering\n",
    "\n",
    "# df_full = pd.read_csv(\"SPECTF_New.csv\")\n",
    "# columns = list(df_full.columns)\n",
    "# features = columns[:len(columns)-1]\n",
    "# class_labels = list(df_full[columns[-1]])\n",
    "# df = df_full[features]\n",
    "\n",
    "# Number of Attributes\n",
    "num_attr = 41\n",
    "\n",
    "# Number of Clusters\n",
    "k = 6\n",
    "\n",
    "# Maximum number of iterations\n",
    "MAX_ITER = 50\n",
    "\n",
    "# Number of data points\n",
    "n = len(normalizer_normalized_X)\n",
    "\n",
    "# Fuzzy parameter\n",
    "m = 2.00\n",
    "\n",
    "def initializeMembershipMatrix():\n",
    "    membership_mat = list()\n",
    "    for i in range(n):\n",
    "        random_num_list = [random.random() for i in range(k)]\n",
    "        summation = sum(random_num_list)\n",
    "        temp_list = [x/summation for x in random_num_list]\n",
    "        membership_mat.append(temp_list)\n",
    "    return membership_mat\n",
    "\n",
    "\n",
    "def calculateClusterCenter(membership_mat, data):\n",
    "    cluster_mem_val = list(zip(*membership_mat))\n",
    "    cluster_centers = list()\n",
    "    for j in range(k):\n",
    "        x = list(cluster_mem_val[j])\n",
    "        xraised = [e ** m for e in x]\n",
    "        denominator = sum(xraised)\n",
    "        temp_num = list()\n",
    "        for i in range(n):\n",
    "            data_point = list(data[i])\n",
    "            prod = [xraised[i] * val for val in data_point]\n",
    "            temp_num.append(prod)\n",
    "        numerator = list(map(sum, list(zip(*temp_num))))\n",
    "        center = [z/denominator for z in numerator]\n",
    "        cluster_centers.append(center)\n",
    "    return cluster_centers\n",
    "\n",
    "\n",
    "def updateMembershipValue(membership_mat, cluster_centers, data):\n",
    "    p = float(2/(m-1))\n",
    "    for i in range(n):\n",
    "        x = list(data[i])\n",
    "        distances = [np.linalg.norm(list(map(operator.sub, x, cluster_centers[j]))) for j in range(k)]\n",
    "        for j in range(k):\n",
    "            den = sum([math.pow(float(distances[j]/distances[c]), p) for c in range(k)])\n",
    "            membership_mat[i][j] = float(1/den)       \n",
    "    return membership_mat\n",
    "\n",
    "\n",
    "def getClusters(membership_mat):\n",
    "    cluster_labels = list()\n",
    "    for i in range(n):\n",
    "        max_val, idx = max((val, idx) for (idx, val) in enumerate(membership_mat[i]))\n",
    "        cluster_labels.append(idx)\n",
    "    return cluster_labels\n",
    "\n",
    "\n",
    "def fuzzyCMeansClustering():\n",
    "    # Membership Matrix\n",
    "    membership_mat = initializeMembershipMatrix()\n",
    "    curr = 0\n",
    "    while curr <= MAX_ITER:\n",
    "        cluster_centers = calculateClusterCenter(membership_mat, normalizer_normalized_X)\n",
    "        membership_mat = updateMembershipValue(membership_mat, cluster_centers, normalizer_normalized_X)\n",
    "        cluster_labels = getClusters(membership_mat)\n",
    "        curr += 1\n",
    "#     print(membership_mat)\n",
    "    return cluster_labels, cluster_centers"
   ]
  },
  {
   "cell_type": "code",
   "execution_count": 26,
   "metadata": {},
   "outputs": [
    {
     "name": "stdout",
     "output_type": "stream",
     "text": [
      "13184.142191648483\n"
     ]
    }
   ],
   "source": [
    "t1 = time.time()\n",
    "labels, centers = fuzzyCMeansClustering()\n",
    "t2 = time.time()\n",
    "print(t2 - t1)"
   ]
  },
  {
   "cell_type": "code",
   "execution_count": 27,
   "metadata": {},
   "outputs": [],
   "source": [
    "# acc, precision, recall = accuracy(labels, class_labels, normalizer_normalized_X)\n",
    "\n",
    "# print(\"Accuracy = \" + str(acc))\n",
    "# print(\"Precision = \" + str(precision))\n",
    "# print(\"Recall = \" + str(recall))"
   ]
  },
  {
   "cell_type": "code",
   "execution_count": 28,
   "metadata": {},
   "outputs": [
    {
     "name": "stdout",
     "output_type": "stream",
     "text": [
      "Counter({1: 34936, 4: 25263, 3: 20678, 0: 18316, 5: 14669, 2: 12111})\n"
     ]
    }
   ],
   "source": [
    "print(Counter(labels))"
   ]
  },
  {
   "cell_type": "code",
   "execution_count": 29,
   "metadata": {},
   "outputs": [],
   "source": [
    "cp_labels = np.copy(labels)\n",
    "cp_centers = np.copy(centers)"
   ]
  },
  {
   "cell_type": "code",
   "execution_count": 30,
   "metadata": {},
   "outputs": [],
   "source": [
    "train_labels = np.reshape(cp_labels, (-1, 1))\n",
    "reshaped_train_numerical_label = np.reshape(train_numerical_label, (-1, 1))\n",
    "stacked_train_array = np.hstack((normalizer_normalized_X, reshaped_train_numerical_label, train_labels))"
   ]
  },
  {
   "cell_type": "code",
   "execution_count": 31,
   "metadata": {},
   "outputs": [
    {
     "name": "stdout",
     "output_type": "stream",
     "text": [
      "(125973, 43)\n"
     ]
    }
   ],
   "source": [
    "print(stacked_train_array.shape)"
   ]
  },
  {
   "cell_type": "code",
   "execution_count": 32,
   "metadata": {},
   "outputs": [],
   "source": [
    "# make train cluster\n",
    "cluster_train_0 = make_cluster(stacked_train_array, str(0), 42)\n",
    "cluster_train_1 = make_cluster(stacked_train_array, str(1), 42)\n",
    "cluster_train_2 = make_cluster(stacked_train_array, str(2), 42)\n",
    "cluster_train_3 = make_cluster(stacked_train_array, str(3), 42)\n",
    "cluster_train_4 = make_cluster(stacked_train_array, str(4), 42)\n",
    "cluster_train_5 = make_cluster(stacked_train_array, str(5), 42)\n",
    "\n",
    "cluster_train_0_ready = cut_cluster_column(cluster_train_0, 41)\n",
    "cluster_train_1_ready = cut_cluster_column(cluster_train_1, 41)\n",
    "cluster_train_2_ready = cut_cluster_column(cluster_train_2, 41)\n",
    "cluster_train_3_ready = cut_cluster_column(cluster_train_3, 41)\n",
    "cluster_train_4_ready = cut_cluster_column(cluster_train_4, 41)\n",
    "cluster_train_5_ready = cut_cluster_column(cluster_train_5, 41)"
   ]
  },
  {
   "cell_type": "code",
   "execution_count": 33,
   "metadata": {},
   "outputs": [
    {
     "name": "stdout",
     "output_type": "stream",
     "text": [
      "(18316, 41)\n"
     ]
    }
   ],
   "source": [
    "print(cluster_train_0_ready.shape)"
   ]
  },
  {
   "cell_type": "code",
   "execution_count": 34,
   "metadata": {},
   "outputs": [],
   "source": [
    "# label ready for each cluster\n",
    "label_train0 = cut_label(cluster_train_0, 41) \n",
    "label_train1 = cut_label(cluster_train_1, 41)\n",
    "label_train2 = cut_label(cluster_train_2, 41)\n",
    "label_train3 = cut_label(cluster_train_3, 41)\n",
    "label_train4 = cut_label(cluster_train_4, 41)\n",
    "label_train5 = cut_label(cluster_train_5, 41)\n",
    "\n",
    "cat_train_numerical_label = to_categorical(train_numerical_label, num_classes=5)"
   ]
  },
  {
   "cell_type": "code",
   "execution_count": 35,
   "metadata": {},
   "outputs": [],
   "source": [
    "cat_test_numerical_label = to_categorical(test_numerical_label, num_classes=5)"
   ]
  },
  {
   "cell_type": "code",
   "execution_count": 36,
   "metadata": {},
   "outputs": [
    {
     "name": "stdout",
     "output_type": "stream",
     "text": [
      "(18316, 1)\n"
     ]
    }
   ],
   "source": [
    "print(label_train0.shape)"
   ]
  },
  {
   "cell_type": "code",
   "execution_count": 37,
   "metadata": {},
   "outputs": [],
   "source": [
    "cat_label_train0 = to_categorical(label_train0, num_classes=5)\n",
    "cat_label_train1 = to_categorical(label_train1, num_classes=5)\n",
    "cat_label_train2 = to_categorical(label_train2, num_classes=5)\n",
    "cat_label_train3 = to_categorical(label_train3, num_classes=5)\n",
    "cat_label_train4 = to_categorical(label_train4, num_classes=5)\n",
    "cat_label_train5 = to_categorical(label_train5, num_classes=5)"
   ]
  },
  {
   "cell_type": "code",
   "execution_count": 38,
   "metadata": {},
   "outputs": [
    {
     "name": "stdout",
     "output_type": "stream",
     "text": [
      "training... please wait\n",
      "3663/3663 [==============================] - 0s 41us/step\n",
      "3663/3663 [==============================] - 0s 39us/step\n",
      "3663/3663 [==============================] - 0s 36us/step\n",
      "3663/3663 [==============================] - 0s 36us/step\n",
      "3663/3663 [==============================] - 0s 41us/step\n",
      "train finished\n"
     ]
    }
   ],
   "source": [
    "# faze train\n",
    "# cluster 0\n",
    "scores0, loss0, val_loss0, acc0, val_acc0 = k_fold(5, cluster_train_0_ready, cat_label_train0, 40, build_model2, 'mse', 128)"
   ]
  },
  {
   "cell_type": "code",
   "execution_count": 39,
   "metadata": {},
   "outputs": [
    {
     "name": "stdout",
     "output_type": "stream",
     "text": [
      "0.7995631996087614\n"
     ]
    }
   ],
   "source": [
    "print(np.mean(scores0))"
   ]
  },
  {
   "cell_type": "code",
   "execution_count": 40,
   "metadata": {},
   "outputs": [],
   "source": [
    "epochs = range(len(loss0[0]))\n",
    "avg_loss0 = averages(loss0, 40)\n",
    "avg_val_loss0 = averages(val_loss0, 40)\n",
    "avg_acc0 = averages(acc0, 40)\n",
    "avg_val_acc0 = averages(val_acc0, 40) "
   ]
  },
  {
   "cell_type": "code",
   "execution_count": 41,
   "metadata": {},
   "outputs": [
    {
     "data": {
      "image/png": "[encoded data removed]",
      "text/plain": [
       "<Figure size 432x288 with 1 Axes>"
      ]
     },
     "metadata": {},
     "output_type": "display_data"
    }
   ],
   "source": [
    "plots(avg_loss0, avg_val_loss0, 'Loss', epochs)"
   ]
  },
  {
   "cell_type": "code",
   "execution_count": 42,
   "metadata": {},
   "outputs": [
    {
     "data": {
      "image/png": "[encoded data removed]",
      "text/plain": [
       "<Figure size 432x288 with 1 Axes>"
      ]
     },
     "metadata": {},
     "output_type": "display_data"
    }
   ],
   "source": [
    "plots(avg_acc0, avg_val_acc0, 'Accuracy', epochs)"
   ]
  },
  {
   "cell_type": "code",
   "execution_count": 43,
   "metadata": {
    "scrolled": false
   },
   "outputs": [
    {
     "name": "stdout",
     "output_type": "stream",
     "text": [
      "Epoch 1/60\n",
      "18316/18316 [==============================] - 1s 59us/step - loss: 0.1954 - acc: 0.6652\n",
      "Epoch 2/60\n",
      "18316/18316 [==============================] - 1s 51us/step - loss: 0.1073 - acc: 0.7551\n",
      "Epoch 3/60\n",
      "18316/18316 [==============================] - 1s 54us/step - loss: 0.0929 - acc: 0.7795\n",
      "Epoch 4/60\n",
      "18316/18316 [==============================] - 1s 52us/step - loss: 0.0846 - acc: 0.7859\n",
      "Epoch 5/60\n",
      "18316/18316 [==============================] - 1s 51us/step - loss: 0.0791 - acc: 0.7910\n",
      "Epoch 6/60\n",
      "18316/18316 [==============================] - 1s 54us/step - loss: 0.0750 - acc: 0.7937\n",
      "Epoch 7/60\n",
      "18316/18316 [==============================] - 1s 50us/step - loss: 0.0717 - acc: 0.7973\n",
      "Epoch 8/60\n",
      "18316/18316 [==============================] - 1s 52us/step - loss: 0.0689 - acc: 0.7990\n",
      "Epoch 9/60\n",
      "18316/18316 [==============================] - 1s 53us/step - loss: 0.0665 - acc: 0.8008\n",
      "Epoch 10/60\n",
      "18316/18316 [==============================] - 1s 50us/step - loss: 0.0644 - acc: 0.8090\n",
      "Epoch 11/60\n",
      "18316/18316 [==============================] - 1s 52us/step - loss: 0.0625 - acc: 0.8206\n",
      "Epoch 12/60\n",
      "18316/18316 [==============================] - 1s 55us/step - loss: 0.0609 - acc: 0.8277\n",
      "Epoch 13/60\n",
      "18316/18316 [==============================] - 1s 52us/step - loss: 0.0594 - acc: 0.8331\n",
      "Epoch 14/60\n",
      "18316/18316 [==============================] - 1s 52us/step - loss: 0.0580 - acc: 0.8389\n",
      "Epoch 15/60\n",
      "18316/18316 [==============================] - 1s 50us/step - loss: 0.0567 - acc: 0.8424\n",
      "Epoch 16/60\n",
      "18316/18316 [==============================] - 1s 53us/step - loss: 0.0555 - acc: 0.8451\n",
      "Epoch 17/60\n",
      "18316/18316 [==============================] - 1s 51us/step - loss: 0.0544 - acc: 0.8480\n",
      "Epoch 18/60\n",
      "18316/18316 [==============================] - 1s 53us/step - loss: 0.0534 - acc: 0.8510\n",
      "Epoch 19/60\n",
      "18316/18316 [==============================] - 1s 54us/step - loss: 0.0525 - acc: 0.8542\n",
      "Epoch 20/60\n",
      "18316/18316 [==============================] - 1s 54us/step - loss: 0.0516 - acc: 0.8572\n",
      "Epoch 21/60\n",
      "18316/18316 [==============================] - 1s 52us/step - loss: 0.0508 - acc: 0.8604\n",
      "Epoch 22/60\n",
      "18316/18316 [==============================] - 1s 53us/step - loss: 0.0500 - acc: 0.8633\n",
      "Epoch 23/60\n",
      "18316/18316 [==============================] - 1s 51us/step - loss: 0.0493 - acc: 0.8651\n",
      "Epoch 24/60\n",
      "18316/18316 [==============================] - 1s 52us/step - loss: 0.0486 - acc: 0.8679\n",
      "Epoch 25/60\n",
      "18316/18316 [==============================] - 1s 52us/step - loss: 0.0479 - acc: 0.8707\n",
      "Epoch 26/60\n",
      "18316/18316 [==============================] - 1s 53us/step - loss: 0.0473 - acc: 0.8720\n",
      "Epoch 27/60\n",
      "18316/18316 [==============================] - 1s 51us/step - loss: 0.0467 - acc: 0.8732\n",
      "Epoch 28/60\n",
      "18316/18316 [==============================] - 1s 51us/step - loss: 0.0462 - acc: 0.8750\n",
      "Epoch 29/60\n",
      "18316/18316 [==============================] - 1s 51us/step - loss: 0.0456 - acc: 0.8748\n",
      "Epoch 30/60\n",
      "18316/18316 [==============================] - 1s 52us/step - loss: 0.0451 - acc: 0.8766\n",
      "Epoch 31/60\n",
      "18316/18316 [==============================] - 1s 51us/step - loss: 0.0446 - acc: 0.8776\n",
      "Epoch 32/60\n",
      "18316/18316 [==============================] - 1s 51us/step - loss: 0.0442 - acc: 0.8798\n",
      "Epoch 33/60\n",
      "18316/18316 [==============================] - 1s 52us/step - loss: 0.0437 - acc: 0.8814\n",
      "Epoch 34/60\n",
      "18316/18316 [==============================] - 1s 49us/step - loss: 0.0433 - acc: 0.8817\n",
      "Epoch 35/60\n",
      "18316/18316 [==============================] - 1s 52us/step - loss: 0.0429 - acc: 0.8828\n",
      "Epoch 36/60\n",
      "18316/18316 [==============================] - 1s 51us/step - loss: 0.0426 - acc: 0.8832\n",
      "Epoch 37/60\n",
      "18316/18316 [==============================] - 1s 54us/step - loss: 0.0422 - acc: 0.8841\n",
      "Epoch 38/60\n",
      "18316/18316 [==============================] - 1s 52us/step - loss: 0.0418 - acc: 0.8846\n",
      "Epoch 39/60\n",
      "18316/18316 [==============================] - 1s 51us/step - loss: 0.0415 - acc: 0.8853\n",
      "Epoch 40/60\n",
      "18316/18316 [==============================] - 1s 52us/step - loss: 0.0412 - acc: 0.8867\n",
      "Epoch 41/60\n",
      "18316/18316 [==============================] - 1s 53us/step - loss: 0.0409 - acc: 0.8869\n",
      "Epoch 42/60\n",
      "18316/18316 [==============================] - 1s 50us/step - loss: 0.0406 - acc: 0.8870\n",
      "Epoch 43/60\n",
      "18316/18316 [==============================] - 1s 50us/step - loss: 0.0403 - acc: 0.8875\n",
      "Epoch 44/60\n",
      "18316/18316 [==============================] - 1s 52us/step - loss: 0.0400 - acc: 0.8889\n",
      "Epoch 45/60\n",
      "18316/18316 [==============================] - 1s 51us/step - loss: 0.0398 - acc: 0.8886\n",
      "Epoch 46/60\n",
      "18316/18316 [==============================] - 1s 53us/step - loss: 0.0395 - acc: 0.8897\n",
      "Epoch 47/60\n",
      "18316/18316 [==============================] - 1s 51us/step - loss: 0.0393 - acc: 0.8908\n",
      "Epoch 48/60\n",
      "18316/18316 [==============================] - 1s 53us/step - loss: 0.0390 - acc: 0.8914\n",
      "Epoch 49/60\n",
      "18316/18316 [==============================] - 1s 52us/step - loss: 0.0388 - acc: 0.8917\n",
      "Epoch 50/60\n",
      "18316/18316 [==============================] - 1s 51us/step - loss: 0.0386 - acc: 0.8916\n",
      "Epoch 51/60\n",
      "18316/18316 [==============================] - 1s 51us/step - loss: 0.0384 - acc: 0.8926\n",
      "Epoch 52/60\n",
      "18316/18316 [==============================] - 1s 52us/step - loss: 0.0382 - acc: 0.8923\n",
      "Epoch 53/60\n",
      "18316/18316 [==============================] - 1s 48us/step - loss: 0.0380 - acc: 0.8934\n",
      "Epoch 54/60\n",
      "18316/18316 [==============================] - 1s 49us/step - loss: 0.0378 - acc: 0.8934\n",
      "Epoch 55/60\n",
      "18316/18316 [==============================] - 1s 51us/step - loss: 0.0376 - acc: 0.8929\n",
      "Epoch 56/60\n",
      "18316/18316 [==============================] - 1s 49us/step - loss: 0.0374 - acc: 0.8944\n",
      "Epoch 57/60\n",
      "18316/18316 [==============================] - 1s 51us/step - loss: 0.0372 - acc: 0.8941\n",
      "Epoch 58/60\n",
      "18316/18316 [==============================] - 1s 51us/step - loss: 0.0370 - acc: 0.8945\n",
      "Epoch 59/60\n",
      "18316/18316 [==============================] - 1s 54us/step - loss: 0.0369 - acc: 0.8946\n",
      "Epoch 60/60\n",
      "18316/18316 [==============================] - 1s 53us/step - loss: 0.0367 - acc: 0.8948\n"
     ]
    },
    {
     "data": {
      "text/plain": [
       "<keras.callbacks.History at 0x7fbd0ae5acc0>"
      ]
     },
     "execution_count": 43,
     "metadata": {},
     "output_type": "execute_result"
    }
   ],
   "source": [
    "ms_train_c0_network = 0\n",
    "ms_train_c0_network = build_model2('mse')\n",
    "ms_train_c0_network.fit(cluster_train_0_ready, cat_label_train0, epochs=60, batch_size=32)"
   ]
  },
  {
   "cell_type": "code",
   "execution_count": 44,
   "metadata": {},
   "outputs": [
    {
     "name": "stdout",
     "output_type": "stream",
     "text": [
      "125973/125973 [==============================] - 2s 12us/step\n",
      "[0.09048907844355494, 0.7519627221734628]\n"
     ]
    }
   ],
   "source": [
    "print(ms_train_c0_network.evaluate(normalizer_normalized_X, cat_train_numerical_label))"
   ]
  },
  {
   "cell_type": "code",
   "execution_count": 45,
   "metadata": {},
   "outputs": [
    {
     "name": "stdout",
     "output_type": "stream",
     "text": [
      "training... please wait\n",
      "6987/6987 [==============================] - 0s 38us/step\n",
      "6987/6987 [==============================] - 0s 39us/step\n",
      "6987/6987 [==============================] - 0s 37us/step\n",
      "6987/6987 [==============================] - 0s 37us/step\n",
      "6987/6987 [==============================] - 0s 38us/step\n",
      "train finished\n"
     ]
    }
   ],
   "source": [
    "# cluster 1\n",
    "scores1, loss1, val_loss1, acc1, val_acc1 = k_fold(5, cluster_train_1_ready, cat_label_train1, 40, build_model2, 'mse', 128)"
   ]
  },
  {
   "cell_type": "code",
   "execution_count": 46,
   "metadata": {},
   "outputs": [
    {
     "name": "stdout",
     "output_type": "stream",
     "text": [
      "0.9859453270529854\n"
     ]
    }
   ],
   "source": [
    "print(np.mean(scores1))"
   ]
  },
  {
   "cell_type": "code",
   "execution_count": 47,
   "metadata": {},
   "outputs": [],
   "source": [
    "avg_loss1 = averages(loss1, 40)\n",
    "avg_val_loss1 = averages(val_loss1, 40)\n",
    "avg_acc1 = averages(acc1, 40)\n",
    "avg_val_acc1 = averages(val_acc1, 40) "
   ]
  },
  {
   "cell_type": "code",
   "execution_count": 48,
   "metadata": {},
   "outputs": [
    {
     "data": {
      "image/png": "[encoded data removed]",
      "text/plain": [
       "<Figure size 432x288 with 1 Axes>"
      ]
     },
     "metadata": {},
     "output_type": "display_data"
    }
   ],
   "source": [
    "plots(avg_loss1, avg_val_loss1, 'Loss', epochs)"
   ]
  },
  {
   "cell_type": "code",
   "execution_count": 49,
   "metadata": {},
   "outputs": [
    {
     "data": {
      "image/png": "[encoded data removed]",
      "text/plain": [
       "<Figure size 432x288 with 1 Axes>"
      ]
     },
     "metadata": {},
     "output_type": "display_data"
    }
   ],
   "source": [
    "plots(avg_acc1, avg_val_acc1, 'Accuracy', epochs)"
   ]
  },
  {
   "cell_type": "code",
   "execution_count": 50,
   "metadata": {},
   "outputs": [
    {
     "name": "stdout",
     "output_type": "stream",
     "text": [
      "Epoch 1/40\n",
      "34936/34936 [==============================] - 1s 38us/step - loss: 0.1657 - acc: 0.8673\n",
      "Epoch 2/40\n",
      "34936/34936 [==============================] - 1s 31us/step - loss: 0.0158 - acc: 0.9837\n",
      "Epoch 3/40\n",
      "34936/34936 [==============================] - 1s 32us/step - loss: 0.0152 - acc: 0.9837\n",
      "Epoch 4/40\n",
      "34936/34936 [==============================] - 1s 33us/step - loss: 0.0147 - acc: 0.9837\n",
      "Epoch 5/40\n",
      "34936/34936 [==============================] - 1s 33us/step - loss: 0.0142 - acc: 0.9837\n",
      "Epoch 6/40\n",
      "34936/34936 [==============================] - 1s 32us/step - loss: 0.0138 - acc: 0.9837\n",
      "Epoch 7/40\n",
      "34936/34936 [==============================] - 1s 32us/step - loss: 0.0133 - acc: 0.9837\n",
      "Epoch 8/40\n",
      "34936/34936 [==============================] - 1s 32us/step - loss: 0.0129 - acc: 0.9838\n",
      "Epoch 9/40\n",
      "34936/34936 [==============================] - 1s 32us/step - loss: 0.0125 - acc: 0.9838\n",
      "Epoch 10/40\n",
      "34936/34936 [==============================] - 1s 33us/step - loss: 0.0122 - acc: 0.9838\n",
      "Epoch 11/40\n",
      "34936/34936 [==============================] - 1s 32us/step - loss: 0.0118 - acc: 0.9838\n",
      "Epoch 12/40\n",
      "34936/34936 [==============================] - 1s 32us/step - loss: 0.0115 - acc: 0.9839\n",
      "Epoch 13/40\n",
      "34936/34936 [==============================] - 1s 33us/step - loss: 0.0112 - acc: 0.9839\n",
      "Epoch 14/40\n",
      "34936/34936 [==============================] - 1s 32us/step - loss: 0.0109 - acc: 0.9840\n",
      "Epoch 15/40\n",
      "34936/34936 [==============================] - 1s 32us/step - loss: 0.0106 - acc: 0.9841\n",
      "Epoch 16/40\n",
      "34936/34936 [==============================] - 1s 33us/step - loss: 0.0104 - acc: 0.9841\n",
      "Epoch 17/40\n",
      "34936/34936 [==============================] - 1s 32us/step - loss: 0.0101 - acc: 0.9841\n",
      "Epoch 18/40\n",
      "34936/34936 [==============================] - 1s 31us/step - loss: 0.0099 - acc: 0.9842\n",
      "Epoch 19/40\n",
      "34936/34936 [==============================] - 1s 32us/step - loss: 0.0097 - acc: 0.9844\n",
      "Epoch 20/40\n",
      "34936/34936 [==============================] - 1s 34us/step - loss: 0.0095 - acc: 0.9845\n",
      "Epoch 21/40\n",
      "34936/34936 [==============================] - 1s 31us/step - loss: 0.0093 - acc: 0.9845\n",
      "Epoch 22/40\n",
      "34936/34936 [==============================] - 1s 33us/step - loss: 0.0091 - acc: 0.9846\n",
      "Epoch 23/40\n",
      "34936/34936 [==============================] - 1s 31us/step - loss: 0.0089 - acc: 0.9849\n",
      "Epoch 24/40\n",
      "34936/34936 [==============================] - 1s 32us/step - loss: 0.0087 - acc: 0.9850\n",
      "Epoch 25/40\n",
      "34936/34936 [==============================] - 1s 32us/step - loss: 0.0085 - acc: 0.9851\n",
      "Epoch 26/40\n",
      "34936/34936 [==============================] - 1s 32us/step - loss: 0.0083 - acc: 0.9853\n",
      "Epoch 27/40\n",
      "34936/34936 [==============================] - 1s 33us/step - loss: 0.0082 - acc: 0.9853\n",
      "Epoch 28/40\n",
      "34936/34936 [==============================] - 1s 32us/step - loss: 0.0080 - acc: 0.9854\n",
      "Epoch 29/40\n",
      "34936/34936 [==============================] - 1s 31us/step - loss: 0.0079 - acc: 0.9855\n",
      "Epoch 30/40\n",
      "34936/34936 [==============================] - 1s 32us/step - loss: 0.0077 - acc: 0.9855\n",
      "Epoch 31/40\n",
      "34936/34936 [==============================] - 1s 31us/step - loss: 0.0076 - acc: 0.9856\n",
      "Epoch 32/40\n",
      "34936/34936 [==============================] - 1s 31us/step - loss: 0.0075 - acc: 0.9859\n",
      "Epoch 33/40\n",
      "34936/34936 [==============================] - 1s 31us/step - loss: 0.0074 - acc: 0.9859\n",
      "Epoch 34/40\n",
      "34936/34936 [==============================] - 1s 31us/step - loss: 0.0072 - acc: 0.9861\n",
      "Epoch 35/40\n",
      "34936/34936 [==============================] - 1s 32us/step - loss: 0.0071 - acc: 0.9862\n",
      "Epoch 36/40\n",
      "34936/34936 [==============================] - 1s 33us/step - loss: 0.0070 - acc: 0.9864\n",
      "Epoch 37/40\n",
      "34936/34936 [==============================] - 1s 32us/step - loss: 0.0069 - acc: 0.9867\n",
      "Epoch 38/40\n",
      "34936/34936 [==============================] - 1s 33us/step - loss: 0.0068 - acc: 0.9867\n",
      "Epoch 39/40\n",
      "34936/34936 [==============================] - 1s 32us/step - loss: 0.0067 - acc: 0.9869\n",
      "Epoch 40/40\n",
      "34936/34936 [==============================] - 1s 34us/step - loss: 0.0066 - acc: 0.9869\n"
     ]
    },
    {
     "data": {
      "text/plain": [
       "<keras.callbacks.History at 0x7fbd0908cdd8>"
      ]
     },
     "execution_count": 50,
     "metadata": {},
     "output_type": "execute_result"
    }
   ],
   "source": [
    "ms_train_c1_network = 0\n",
    "ms_train_c1_network = build_model2('mse')\n",
    "ms_train_c1_network.fit(cluster_train_1_ready, cat_label_train1, epochs=40, batch_size=128)"
   ]
  },
  {
   "cell_type": "code",
   "execution_count": 51,
   "metadata": {},
   "outputs": [
    {
     "name": "stdout",
     "output_type": "stream",
     "text": [
      "125973/125973 [==============================] - 2s 13us/step\n",
      "[0.13706217454479552, 0.7440721424441683]\n"
     ]
    }
   ],
   "source": [
    "print(ms_train_c1_network.evaluate(normalizer_normalized_X, cat_train_numerical_label))"
   ]
  },
  {
   "cell_type": "code",
   "execution_count": 52,
   "metadata": {},
   "outputs": [
    {
     "name": "stdout",
     "output_type": "stream",
     "text": [
      "training... please wait\n",
      "2422/2422 [==============================] - 0s 40us/step\n",
      "2422/2422 [==============================] - 0s 37us/step\n",
      "2422/2422 [==============================] - 0s 41us/step\n",
      "2422/2422 [==============================] - 0s 40us/step\n",
      "2422/2422 [==============================] - 0s 38us/step\n",
      "train finished\n"
     ]
    }
   ],
   "source": [
    "# cluster 2\n",
    "scores2, loss2, val_loss2, acc2, val_acc2 = k_fold(5, cluster_train_2_ready, cat_label_train2, 40, build_model2, 'mse', 128)"
   ]
  },
  {
   "cell_type": "code",
   "execution_count": 53,
   "metadata": {},
   "outputs": [
    {
     "name": "stdout",
     "output_type": "stream",
     "text": [
      "0.9431874483208535\n"
     ]
    }
   ],
   "source": [
    "print(np.mean(scores2))"
   ]
  },
  {
   "cell_type": "code",
   "execution_count": 54,
   "metadata": {},
   "outputs": [],
   "source": [
    "avg_loss2 = averages(loss2, 40)\n",
    "avg_val_loss2 = averages(val_loss2, 40)\n",
    "avg_acc2 = averages(acc2, 40)\n",
    "avg_val_acc2 = averages(val_acc2, 40) "
   ]
  },
  {
   "cell_type": "code",
   "execution_count": 55,
   "metadata": {},
   "outputs": [
    {
     "data": {
      "image/png": "[encoded data removed]",
      "text/plain": [
       "<Figure size 432x288 with 1 Axes>"
      ]
     },
     "metadata": {},
     "output_type": "display_data"
    }
   ],
   "source": [
    "plots(avg_loss2, avg_val_loss2, 'Loss', epochs)"
   ]
  },
  {
   "cell_type": "code",
   "execution_count": 56,
   "metadata": {},
   "outputs": [
    {
     "data": {
      "image/png": "[encoded data removed]",
      "text/plain": [
       "<Figure size 432x288 with 1 Axes>"
      ]
     },
     "metadata": {},
     "output_type": "display_data"
    }
   ],
   "source": [
    "plots(avg_acc2, avg_val_acc2, 'Accuracy', epochs)"
   ]
  },
  {
   "cell_type": "code",
   "execution_count": 57,
   "metadata": {},
   "outputs": [
    {
     "name": "stdout",
     "output_type": "stream",
     "text": [
      "Epoch 1/50\n",
      "12111/12111 [==============================] - 1s 73us/step - loss: 0.1960 - acc: 0.7626\n",
      "Epoch 2/50\n",
      "12111/12111 [==============================] - 1s 54us/step - loss: 0.0882 - acc: 0.7846\n",
      "Epoch 3/50\n",
      "12111/12111 [==============================] - 1s 57us/step - loss: 0.0709 - acc: 0.7846\n",
      "Epoch 4/50\n",
      "12111/12111 [==============================] - 1s 54us/step - loss: 0.0583 - acc: 0.7872\n",
      "Epoch 5/50\n",
      "12111/12111 [==============================] - 1s 55us/step - loss: 0.0488 - acc: 0.8434\n",
      "Epoch 6/50\n",
      "12111/12111 [==============================] - 1s 53us/step - loss: 0.0416 - acc: 0.8873\n",
      "Epoch 7/50\n",
      "12111/12111 [==============================] - 1s 55us/step - loss: 0.0363 - acc: 0.9198\n",
      "Epoch 8/50\n",
      "12111/12111 [==============================] - 1s 51us/step - loss: 0.0322 - acc: 0.9388\n",
      "Epoch 9/50\n",
      "12111/12111 [==============================] - 1s 53us/step - loss: 0.0292 - acc: 0.9443\n",
      "Epoch 10/50\n",
      "12111/12111 [==============================] - 1s 54us/step - loss: 0.0269 - acc: 0.9464\n",
      "Epoch 11/50\n",
      "12111/12111 [==============================] - 1s 53us/step - loss: 0.0252 - acc: 0.9487\n",
      "Epoch 12/50\n",
      "12111/12111 [==============================] - 1s 51us/step - loss: 0.0239 - acc: 0.9515\n",
      "Epoch 13/50\n",
      "12111/12111 [==============================] - 1s 52us/step - loss: 0.0229 - acc: 0.9540\n",
      "Epoch 14/50\n",
      "12111/12111 [==============================] - 1s 56us/step - loss: 0.0220 - acc: 0.9557\n",
      "Epoch 15/50\n",
      "12111/12111 [==============================] - 1s 55us/step - loss: 0.0213 - acc: 0.9557\n",
      "Epoch 16/50\n",
      "12111/12111 [==============================] - 1s 50us/step - loss: 0.0208 - acc: 0.9552\n",
      "Epoch 17/50\n",
      "12111/12111 [==============================] - 1s 53us/step - loss: 0.0203 - acc: 0.9546\n",
      "Epoch 18/50\n",
      "12111/12111 [==============================] - 1s 58us/step - loss: 0.0198 - acc: 0.9540\n",
      "Epoch 19/50\n",
      "12111/12111 [==============================] - 1s 57us/step - loss: 0.0194 - acc: 0.9538\n",
      "Epoch 20/50\n",
      "12111/12111 [==============================] - 1s 55us/step - loss: 0.0191 - acc: 0.9538\n",
      "Epoch 21/50\n",
      "12111/12111 [==============================] - 1s 54us/step - loss: 0.0188 - acc: 0.9532\n",
      "Epoch 22/50\n",
      "12111/12111 [==============================] - 1s 55us/step - loss: 0.0185 - acc: 0.9536\n",
      "Epoch 23/50\n",
      "12111/12111 [==============================] - 1s 57us/step - loss: 0.0182 - acc: 0.9543\n",
      "Epoch 24/50\n",
      "12111/12111 [==============================] - 1s 57us/step - loss: 0.0180 - acc: 0.9546\n",
      "Epoch 25/50\n",
      "12111/12111 [==============================] - 1s 52us/step - loss: 0.0177 - acc: 0.9551\n",
      "Epoch 26/50\n",
      "12111/12111 [==============================] - 1s 51us/step - loss: 0.0175 - acc: 0.9552\n",
      "Epoch 27/50\n",
      "12111/12111 [==============================] - 1s 49us/step - loss: 0.0173 - acc: 0.9559\n",
      "Epoch 28/50\n",
      "12111/12111 [==============================] - 1s 50us/step - loss: 0.0171 - acc: 0.9562\n",
      "Epoch 29/50\n",
      "12111/12111 [==============================] - 1s 53us/step - loss: 0.0169 - acc: 0.9564\n",
      "Epoch 30/50\n",
      "12111/12111 [==============================] - 1s 56us/step - loss: 0.0167 - acc: 0.9569\n",
      "Epoch 31/50\n",
      "12111/12111 [==============================] - 1s 56us/step - loss: 0.0165 - acc: 0.9570\n",
      "Epoch 32/50\n",
      "12111/12111 [==============================] - 1s 53us/step - loss: 0.0164 - acc: 0.9577\n",
      "Epoch 33/50\n",
      "12111/12111 [==============================] - 1s 55us/step - loss: 0.0162 - acc: 0.9578\n",
      "Epoch 34/50\n",
      "12111/12111 [==============================] - 1s 52us/step - loss: 0.0161 - acc: 0.9585\n",
      "Epoch 35/50\n",
      "12111/12111 [==============================] - 1s 53us/step - loss: 0.0159 - acc: 0.9590\n",
      "Epoch 36/50\n",
      "12111/12111 [==============================] - 1s 52us/step - loss: 0.0158 - acc: 0.9590\n",
      "Epoch 37/50\n",
      "12111/12111 [==============================] - 1s 54us/step - loss: 0.0157 - acc: 0.9595\n",
      "Epoch 38/50\n",
      "12111/12111 [==============================] - 1s 54us/step - loss: 0.0155 - acc: 0.9600\n",
      "Epoch 39/50\n",
      "12111/12111 [==============================] - 1s 51us/step - loss: 0.0154 - acc: 0.9602\n",
      "Epoch 40/50\n",
      "12111/12111 [==============================] - 1s 51us/step - loss: 0.0153 - acc: 0.9609\n",
      "Epoch 41/50\n",
      "12111/12111 [==============================] - 1s 52us/step - loss: 0.0152 - acc: 0.9610\n",
      "Epoch 42/50\n",
      "12111/12111 [==============================] - 1s 53us/step - loss: 0.0151 - acc: 0.9613\n",
      "Epoch 43/50\n",
      "12111/12111 [==============================] - 1s 52us/step - loss: 0.0150 - acc: 0.9619\n",
      "Epoch 44/50\n",
      "12111/12111 [==============================] - 1s 54us/step - loss: 0.0149 - acc: 0.9625\n",
      "Epoch 45/50\n",
      "12111/12111 [==============================] - 1s 51us/step - loss: 0.0148 - acc: 0.9628\n",
      "Epoch 46/50\n",
      "12111/12111 [==============================] - 1s 53us/step - loss: 0.0147 - acc: 0.9630\n",
      "Epoch 47/50\n",
      "12111/12111 [==============================] - 1s 54us/step - loss: 0.0146 - acc: 0.9634\n",
      "Epoch 48/50\n",
      "12111/12111 [==============================] - 1s 50us/step - loss: 0.0145 - acc: 0.9639\n",
      "Epoch 49/50\n",
      "12111/12111 [==============================] - 1s 55us/step - loss: 0.0144 - acc: 0.9638\n",
      "Epoch 50/50\n",
      "12111/12111 [==============================] - 1s 52us/step - loss: 0.0143 - acc: 0.9647\n"
     ]
    },
    {
     "data": {
      "text/plain": [
       "<keras.callbacks.History at 0x7fbd076854a8>"
      ]
     },
     "execution_count": 57,
     "metadata": {},
     "output_type": "execute_result"
    }
   ],
   "source": [
    "ms_train_c2_network = 0\n",
    "ms_train_c2_network = build_model2('mse')\n",
    "ms_train_c2_network.fit(cluster_train_2_ready, cat_label_train2, epochs=50, batch_size=32)"
   ]
  },
  {
   "cell_type": "code",
   "execution_count": 58,
   "metadata": {},
   "outputs": [
    {
     "name": "stdout",
     "output_type": "stream",
     "text": [
      "125973/125973 [==============================] - 2s 14us/step\n",
      "[0.18732875772108873, 0.8015050844233257]\n"
     ]
    }
   ],
   "source": [
    "print(ms_train_c2_network.evaluate(normalizer_normalized_X, cat_train_numerical_label))"
   ]
  },
  {
   "cell_type": "code",
   "execution_count": 59,
   "metadata": {},
   "outputs": [
    {
     "name": "stdout",
     "output_type": "stream",
     "text": [
      "training... please wait\n",
      "4135/4135 [==============================] - 0s 38us/step\n",
      "4135/4135 [==============================] - 0s 43us/step\n",
      "4135/4135 [==============================] - 0s 39us/step\n",
      "4135/4135 [==============================] - 0s 38us/step\n",
      "4135/4135 [==============================] - 0s 43us/step\n",
      "train finished\n"
     ]
    }
   ],
   "source": [
    "# cluster 3\n",
    "scores3, loss3, val_loss3, acc3, val_acc3 = k_fold(5, cluster_train_3_ready, cat_label_train3, 40, build_model2, 'mse', 128)"
   ]
  },
  {
   "cell_type": "code",
   "execution_count": 60,
   "metadata": {},
   "outputs": [
    {
     "name": "stdout",
     "output_type": "stream",
     "text": [
      "0.9643047158432699\n"
     ]
    }
   ],
   "source": [
    "print(np.mean(scores3))"
   ]
  },
  {
   "cell_type": "code",
   "execution_count": 61,
   "metadata": {},
   "outputs": [],
   "source": [
    "avg_loss3 = averages(loss3, 40)\n",
    "avg_val_loss3 = averages(val_loss3, 40)\n",
    "avg_acc3 = averages(acc3, 40)\n",
    "avg_val_acc3 = averages(val_acc3, 40) "
   ]
  },
  {
   "cell_type": "code",
   "execution_count": 62,
   "metadata": {},
   "outputs": [
    {
     "data": {
      "image/png": "[encoded data removed]",
      "text/plain": [
       "<Figure size 432x288 with 1 Axes>"
      ]
     },
     "metadata": {},
     "output_type": "display_data"
    }
   ],
   "source": [
    "plots(avg_loss3, avg_val_loss3, 'Loss', epochs)"
   ]
  },
  {
   "cell_type": "code",
   "execution_count": 63,
   "metadata": {},
   "outputs": [
    {
     "data": {
      "image/png": "[encoded data removed]",
      "text/plain": [
       "<Figure size 432x288 with 1 Axes>"
      ]
     },
     "metadata": {},
     "output_type": "display_data"
    }
   ],
   "source": [
    "plots(avg_acc3, avg_val_acc3, 'Accuracy', epochs)"
   ]
  },
  {
   "cell_type": "code",
   "execution_count": 64,
   "metadata": {
    "scrolled": false
   },
   "outputs": [
    {
     "name": "stdout",
     "output_type": "stream",
     "text": [
      "Epoch 1/40\n",
      "20678/20678 [==============================] - 3s 163us/step - loss: 0.0336 - acc: 0.9644\n",
      "Epoch 2/40\n",
      "20678/20678 [==============================] - 3s 140us/step - loss: 0.0181 - acc: 0.9644\n",
      "Epoch 3/40\n",
      "20678/20678 [==============================] - 3s 145us/step - loss: 0.0164 - acc: 0.9643\n",
      "Epoch 4/40\n",
      "20678/20678 [==============================] - 3s 138us/step - loss: 0.0155 - acc: 0.9643\n",
      "Epoch 5/40\n",
      "20678/20678 [==============================] - 3s 142us/step - loss: 0.0149 - acc: 0.9643\n",
      "Epoch 6/40\n",
      "20678/20678 [==============================] - 3s 147us/step - loss: 0.0145 - acc: 0.9643\n",
      "Epoch 7/40\n",
      "20678/20678 [==============================] - 3s 142us/step - loss: 0.0141 - acc: 0.9643\n",
      "Epoch 8/40\n",
      "20678/20678 [==============================] - 3s 141us/step - loss: 0.0138 - acc: 0.9644\n",
      "Epoch 9/40\n",
      "20678/20678 [==============================] - 3s 145us/step - loss: 0.0136 - acc: 0.9644\n",
      "Epoch 10/40\n",
      "20678/20678 [==============================] - 3s 141us/step - loss: 0.0134 - acc: 0.9644\n",
      "Epoch 11/40\n",
      "20678/20678 [==============================] - 3s 143us/step - loss: 0.0132 - acc: 0.9644\n",
      "Epoch 12/40\n",
      "20678/20678 [==============================] - 3s 147us/step - loss: 0.0130 - acc: 0.9644\n",
      "Epoch 13/40\n",
      "20678/20678 [==============================] - 3s 139us/step - loss: 0.0129 - acc: 0.9644\n",
      "Epoch 14/40\n",
      "20678/20678 [==============================] - 3s 139us/step - loss: 0.0128 - acc: 0.9643\n",
      "Epoch 15/40\n",
      "20678/20678 [==============================] - 3s 140us/step - loss: 0.0126 - acc: 0.9643\n",
      "Epoch 16/40\n",
      "20678/20678 [==============================] - 3s 139us/step - loss: 0.0125 - acc: 0.9643\n",
      "Epoch 17/40\n",
      "20678/20678 [==============================] - 3s 142us/step - loss: 0.0124 - acc: 0.9643\n",
      "Epoch 18/40\n",
      "20678/20678 [==============================] - 3s 138us/step - loss: 0.0124 - acc: 0.9643\n",
      "Epoch 19/40\n",
      "20678/20678 [==============================] - 3s 138us/step - loss: 0.0123 - acc: 0.9643\n",
      "Epoch 20/40\n",
      "20678/20678 [==============================] - 3s 136us/step - loss: 0.0122 - acc: 0.9643\n",
      "Epoch 21/40\n",
      "20678/20678 [==============================] - 3s 138us/step - loss: 0.0121 - acc: 0.9643\n",
      "Epoch 22/40\n",
      "20678/20678 [==============================] - 3s 133us/step - loss: 0.0120 - acc: 0.9643\n",
      "Epoch 23/40\n",
      "20678/20678 [==============================] - 3s 136us/step - loss: 0.0120 - acc: 0.9643\n",
      "Epoch 24/40\n",
      "20678/20678 [==============================] - 3s 139us/step - loss: 0.0119 - acc: 0.9643\n",
      "Epoch 25/40\n",
      "20678/20678 [==============================] - 3s 135us/step - loss: 0.0118 - acc: 0.9643\n",
      "Epoch 26/40\n",
      "20678/20678 [==============================] - 3s 141us/step - loss: 0.0118 - acc: 0.9642\n",
      "Epoch 27/40\n",
      "20678/20678 [==============================] - 3s 135us/step - loss: 0.0117 - acc: 0.9642\n",
      "Epoch 28/40\n",
      "20678/20678 [==============================] - 3s 138us/step - loss: 0.0117 - acc: 0.9642\n",
      "Epoch 29/40\n",
      "20678/20678 [==============================] - 3s 139us/step - loss: 0.0116 - acc: 0.9642\n",
      "Epoch 30/40\n",
      "20678/20678 [==============================] - 3s 141us/step - loss: 0.0116 - acc: 0.9642\n",
      "Epoch 31/40\n",
      "20678/20678 [==============================] - 3s 136us/step - loss: 0.0115 - acc: 0.9642\n",
      "Epoch 32/40\n",
      "20678/20678 [==============================] - 3s 141us/step - loss: 0.0115 - acc: 0.9642\n",
      "Epoch 33/40\n",
      "20678/20678 [==============================] - 3s 137us/step - loss: 0.0115 - acc: 0.9639\n",
      "Epoch 34/40\n",
      "20678/20678 [==============================] - 3s 138us/step - loss: 0.0114 - acc: 0.9635\n",
      "Epoch 35/40\n",
      "20678/20678 [==============================] - 3s 138us/step - loss: 0.0114 - acc: 0.9634\n",
      "Epoch 36/40\n",
      "20678/20678 [==============================] - 3s 140us/step - loss: 0.0113 - acc: 0.9634\n",
      "Epoch 37/40\n",
      "20678/20678 [==============================] - 3s 139us/step - loss: 0.0113 - acc: 0.9634\n",
      "Epoch 38/40\n",
      "20678/20678 [==============================] - 3s 138us/step - loss: 0.0113 - acc: 0.9634\n",
      "Epoch 39/40\n",
      "20678/20678 [==============================] - 3s 135us/step - loss: 0.0112 - acc: 0.9634\n",
      "Epoch 40/40\n",
      "20678/20678 [==============================] - 3s 139us/step - loss: 0.0112 - acc: 0.9634\n"
     ]
    },
    {
     "data": {
      "text/plain": [
       "<keras.callbacks.History at 0x7fbd0e68d160>"
      ]
     },
     "execution_count": 64,
     "metadata": {},
     "output_type": "execute_result"
    }
   ],
   "source": [
    "ms_train_c3_network = 0\n",
    "ms_train_c3_network = build_model2('mse')\n",
    "ms_train_c3_network.fit(cluster_train_3_ready, cat_label_train3, epochs=40, batch_size=8)"
   ]
  },
  {
   "cell_type": "code",
   "execution_count": 65,
   "metadata": {},
   "outputs": [
    {
     "name": "stdout",
     "output_type": "stream",
     "text": [
      "125973/125973 [==============================] - 2s 15us/step\n",
      "[0.1501913111749672, 0.5240964333664899]\n"
     ]
    }
   ],
   "source": [
    "print(ms_train_c3_network.evaluate(normalizer_normalized_X, cat_train_numerical_label))"
   ]
  },
  {
   "cell_type": "code",
   "execution_count": 66,
   "metadata": {},
   "outputs": [
    {
     "name": "stdout",
     "output_type": "stream",
     "text": [
      "training... please wait\n",
      "5052/5052 [==============================] - 0s 39us/step\n",
      "5052/5052 [==============================] - 0s 40us/step\n",
      "5052/5052 [==============================] - 0s 45us/step\n",
      "5052/5052 [==============================] - 0s 42us/step\n",
      "5052/5052 [==============================] - 0s 38us/step\n",
      "train finished\n"
     ]
    }
   ],
   "source": [
    "# cluster 4\n",
    "scores4, loss4, val_loss4, acc4, val_acc4 = k_fold(5, cluster_train_4_ready, cat_label_train4, 40, build_model2, 'mse', 128)"
   ]
  },
  {
   "cell_type": "code",
   "execution_count": 67,
   "metadata": {},
   "outputs": [
    {
     "name": "stdout",
     "output_type": "stream",
     "text": [
      "0.9585510689402419\n"
     ]
    }
   ],
   "source": [
    "print(np.mean(scores4))"
   ]
  },
  {
   "cell_type": "code",
   "execution_count": 68,
   "metadata": {},
   "outputs": [],
   "source": [
    "avg_loss4 = averages(loss4, 40)\n",
    "avg_val_loss4 = averages(val_loss4, 40)\n",
    "avg_acc4 = averages(acc4, 40)\n",
    "avg_val_acc4 = averages(val_acc4, 40) "
   ]
  },
  {
   "cell_type": "code",
   "execution_count": 69,
   "metadata": {},
   "outputs": [
    {
     "data": {
      "image/png": "[encoded data removed]",
      "text/plain": [
       "<Figure size 432x288 with 1 Axes>"
      ]
     },
     "metadata": {},
     "output_type": "display_data"
    }
   ],
   "source": [
    "plots(avg_loss4, avg_val_loss4, 'Loss', epochs)"
   ]
  },
  {
   "cell_type": "code",
   "execution_count": 70,
   "metadata": {},
   "outputs": [
    {
     "data": {
      "image/png": "[encoded data removed]",
      "text/plain": [
       "<Figure size 432x288 with 1 Axes>"
      ]
     },
     "metadata": {},
     "output_type": "display_data"
    }
   ],
   "source": [
    "plots(avg_acc4, avg_val_acc4, 'Accuracy', epochs)"
   ]
  },
  {
   "cell_type": "code",
   "execution_count": 71,
   "metadata": {},
   "outputs": [
    {
     "name": "stdout",
     "output_type": "stream",
     "text": [
      "Epoch 1/40\n",
      "25263/25263 [==============================] - 4s 162us/step - loss: 0.0394 - acc: 0.9576\n",
      "Epoch 2/40\n",
      "25263/25263 [==============================] - 4s 148us/step - loss: 0.0202 - acc: 0.9584\n",
      "Epoch 3/40\n",
      "25263/25263 [==============================] - 4s 145us/step - loss: 0.0169 - acc: 0.9586\n",
      "Epoch 4/40\n",
      "25263/25263 [==============================] - 4s 145us/step - loss: 0.0155 - acc: 0.9585\n",
      "Epoch 5/40\n",
      "25263/25263 [==============================] - 4s 148us/step - loss: 0.0147 - acc: 0.9582\n",
      "Epoch 6/40\n",
      "25263/25263 [==============================] - 4s 148us/step - loss: 0.0141 - acc: 0.9582\n",
      "Epoch 7/40\n",
      "25263/25263 [==============================] - 4s 142us/step - loss: 0.0137 - acc: 0.9581\n",
      "Epoch 8/40\n",
      "25263/25263 [==============================] - 4s 144us/step - loss: 0.0134 - acc: 0.9582\n",
      "Epoch 9/40\n",
      "25263/25263 [==============================] - 4s 145us/step - loss: 0.0131 - acc: 0.9583\n",
      "Epoch 10/40\n",
      "25263/25263 [==============================] - 4s 141us/step - loss: 0.0129 - acc: 0.9583\n",
      "Epoch 11/40\n",
      "25263/25263 [==============================] - 4s 140us/step - loss: 0.0127 - acc: 0.9584\n",
      "Epoch 12/40\n",
      "25263/25263 [==============================] - 4s 139us/step - loss: 0.0125 - acc: 0.9584\n",
      "Epoch 13/40\n",
      "25263/25263 [==============================] - 4s 144us/step - loss: 0.0123 - acc: 0.9585\n",
      "Epoch 14/40\n",
      "25263/25263 [==============================] - 4s 146us/step - loss: 0.0122 - acc: 0.9586\n",
      "Epoch 15/40\n",
      "25263/25263 [==============================] - 4s 141us/step - loss: 0.0121 - acc: 0.9586\n",
      "Epoch 16/40\n",
      "25263/25263 [==============================] - 4s 145us/step - loss: 0.0120 - acc: 0.9586\n",
      "Epoch 17/40\n",
      "25263/25263 [==============================] - 4s 144us/step - loss: 0.0119 - acc: 0.9588\n",
      "Epoch 18/40\n",
      "25263/25263 [==============================] - 4s 143us/step - loss: 0.0118 - acc: 0.9590\n",
      "Epoch 19/40\n",
      "25263/25263 [==============================] - 4s 143us/step - loss: 0.0117 - acc: 0.9590\n",
      "Epoch 20/40\n",
      "25263/25263 [==============================] - 4s 143us/step - loss: 0.0116 - acc: 0.9591\n",
      "Epoch 21/40\n",
      "25263/25263 [==============================] - 4s 145us/step - loss: 0.0116 - acc: 0.9590\n",
      "Epoch 22/40\n",
      "25263/25263 [==============================] - 4s 145us/step - loss: 0.0115 - acc: 0.9591\n",
      "Epoch 23/40\n",
      "25263/25263 [==============================] - 4s 143us/step - loss: 0.0114 - acc: 0.9594\n",
      "Epoch 24/40\n",
      "25263/25263 [==============================] - 4s 140us/step - loss: 0.0114 - acc: 0.9592\n",
      "Epoch 25/40\n",
      "25263/25263 [==============================] - 4s 144us/step - loss: 0.0113 - acc: 0.9595\n",
      "Epoch 26/40\n",
      "25263/25263 [==============================] - 4s 146us/step - loss: 0.0113 - acc: 0.9596\n",
      "Epoch 27/40\n",
      "25263/25263 [==============================] - 4s 139us/step - loss: 0.0112 - acc: 0.9598\n",
      "Epoch 28/40\n",
      "25263/25263 [==============================] - 4s 143us/step - loss: 0.0112 - acc: 0.9600\n",
      "Epoch 29/40\n",
      "25263/25263 [==============================] - 4s 144us/step - loss: 0.0111 - acc: 0.9602\n",
      "Epoch 30/40\n",
      "25263/25263 [==============================] - 4s 139us/step - loss: 0.0111 - acc: 0.9600\n",
      "Epoch 31/40\n",
      "25263/25263 [==============================] - 4s 140us/step - loss: 0.0110 - acc: 0.9607\n",
      "Epoch 32/40\n",
      "25263/25263 [==============================] - 4s 141us/step - loss: 0.0110 - acc: 0.9606\n",
      "Epoch 33/40\n",
      "25263/25263 [==============================] - 4s 141us/step - loss: 0.0110 - acc: 0.9607\n",
      "Epoch 34/40\n",
      "25263/25263 [==============================] - 4s 141us/step - loss: 0.0109 - acc: 0.9612\n",
      "Epoch 35/40\n",
      "25263/25263 [==============================] - 4s 142us/step - loss: 0.0109 - acc: 0.9610\n",
      "Epoch 36/40\n",
      "25263/25263 [==============================] - 4s 139us/step - loss: 0.0108 - acc: 0.9613\n",
      "Epoch 37/40\n",
      "25263/25263 [==============================] - 4s 141us/step - loss: 0.0108 - acc: 0.9618\n",
      "Epoch 38/40\n",
      "25263/25263 [==============================] - 4s 139us/step - loss: 0.0108 - acc: 0.9615\n",
      "Epoch 39/40\n",
      "25263/25263 [==============================] - 4s 139us/step - loss: 0.0107 - acc: 0.9620\n",
      "Epoch 40/40\n",
      "25263/25263 [==============================] - 4s 141us/step - loss: 0.0107 - acc: 0.9621\n"
     ]
    },
    {
     "data": {
      "text/plain": [
       "<keras.callbacks.History at 0x7fbcf6557c50>"
      ]
     },
     "execution_count": 71,
     "metadata": {},
     "output_type": "execute_result"
    }
   ],
   "source": [
    "ms_train_c4_network = 0\n",
    "ms_train_c4_network = build_model2('mse')\n",
    "ms_train_c4_network.fit(cluster_train_4_ready, cat_label_train4, epochs=40, batch_size=8)"
   ]
  },
  {
   "cell_type": "code",
   "execution_count": 72,
   "metadata": {},
   "outputs": [
    {
     "name": "stdout",
     "output_type": "stream",
     "text": [
      "125973/125973 [==============================] - 2s 16us/step\n",
      "[0.08671279893423829, 0.8042755193577957]\n"
     ]
    }
   ],
   "source": [
    "print(ms_train_c4_network.evaluate(normalizer_normalized_X, cat_train_numerical_label))"
   ]
  },
  {
   "cell_type": "code",
   "execution_count": 73,
   "metadata": {},
   "outputs": [
    {
     "name": "stdout",
     "output_type": "stream",
     "text": [
      "training... please wait\n",
      "2933/2933 [==============================] - 0s 42us/step\n",
      "2933/2933 [==============================] - 0s 43us/step\n",
      "2933/2933 [==============================] - 0s 40us/step\n",
      "2933/2933 [==============================] - 0s 39us/step\n",
      "2933/2933 [==============================] - 0s 41us/step\n",
      "train finished\n"
     ]
    }
   ],
   "source": [
    "# cluster 5\n",
    "scores5, loss5, val_loss5, acc5, val_acc5 = k_fold(5, cluster_train_5_ready, cat_label_train5, 40, build_model2, 'mse', 128)"
   ]
  },
  {
   "cell_type": "code",
   "execution_count": 74,
   "metadata": {},
   "outputs": [
    {
     "name": "stdout",
     "output_type": "stream",
     "text": [
      "0.9568360041076318\n"
     ]
    }
   ],
   "source": [
    "print(np.mean(scores5))"
   ]
  },
  {
   "cell_type": "code",
   "execution_count": 75,
   "metadata": {},
   "outputs": [],
   "source": [
    "avg_loss5 = averages(loss5, 40)\n",
    "avg_val_loss5 = averages(val_loss5, 40)\n",
    "avg_acc5 = averages(acc5, 40)\n",
    "avg_val_acc5 = averages(val_acc5, 40) "
   ]
  },
  {
   "cell_type": "code",
   "execution_count": 76,
   "metadata": {},
   "outputs": [
    {
     "data": {
      "image/png": "[encoded data removed]",
      "text/plain": [
       "<Figure size 432x288 with 1 Axes>"
      ]
     },
     "metadata": {},
     "output_type": "display_data"
    }
   ],
   "source": [
    "plots(avg_loss5, avg_val_loss5, 'Loss', epochs)"
   ]
  },
  {
   "cell_type": "code",
   "execution_count": 77,
   "metadata": {},
   "outputs": [
    {
     "data": {
      "image/png": "[encoded data removed]",
      "text/plain": [
       "<Figure size 432x288 with 1 Axes>"
      ]
     },
     "metadata": {},
     "output_type": "display_data"
    }
   ],
   "source": [
    "plots(avg_acc5, avg_val_acc5, 'Accuracy', epochs)"
   ]
  },
  {
   "cell_type": "code",
   "execution_count": 78,
   "metadata": {
    "scrolled": false
   },
   "outputs": [
    {
     "name": "stdout",
     "output_type": "stream",
     "text": [
      "Epoch 1/60\n",
      "14669/14669 [==============================] - 1s 72us/step - loss: 0.3042 - acc: 0.2811\n",
      "Epoch 2/60\n",
      "14669/14669 [==============================] - 1s 44us/step - loss: 0.1371 - acc: 0.5217\n",
      "Epoch 3/60\n",
      "14669/14669 [==============================] - 1s 42us/step - loss: 0.1228 - acc: 0.5672\n",
      "Epoch 4/60\n",
      "14669/14669 [==============================] - 1s 42us/step - loss: 0.1110 - acc: 0.6208\n",
      "Epoch 5/60\n",
      "14669/14669 [==============================] - 1s 40us/step - loss: 0.1006 - acc: 0.6880\n",
      "Epoch 6/60\n",
      "14669/14669 [==============================] - 1s 40us/step - loss: 0.0915 - acc: 0.7592\n",
      "Epoch 7/60\n",
      "14669/14669 [==============================] - 1s 41us/step - loss: 0.0833 - acc: 0.8223\n",
      "Epoch 8/60\n",
      "14669/14669 [==============================] - 1s 42us/step - loss: 0.0759 - acc: 0.8791\n",
      "Epoch 9/60\n",
      "14669/14669 [==============================] - 1s 42us/step - loss: 0.0693 - acc: 0.8973\n",
      "Epoch 10/60\n",
      "14669/14669 [==============================] - 1s 41us/step - loss: 0.0633 - acc: 0.9114\n",
      "Epoch 11/60\n",
      "14669/14669 [==============================] - 1s 40us/step - loss: 0.0579 - acc: 0.9194\n",
      "Epoch 12/60\n",
      "14669/14669 [==============================] - 1s 42us/step - loss: 0.0530 - acc: 0.9270\n",
      "Epoch 13/60\n",
      "14669/14669 [==============================] - 1s 41us/step - loss: 0.0487 - acc: 0.9312\n",
      "Epoch 14/60\n",
      "14669/14669 [==============================] - 1s 42us/step - loss: 0.0449 - acc: 0.9348\n",
      "Epoch 15/60\n",
      "14669/14669 [==============================] - 1s 41us/step - loss: 0.0415 - acc: 0.9446\n",
      "Epoch 16/60\n",
      "14669/14669 [==============================] - 1s 41us/step - loss: 0.0386 - acc: 0.9546\n",
      "Epoch 17/60\n",
      "14669/14669 [==============================] - 1s 41us/step - loss: 0.0360 - acc: 0.9583\n",
      "Epoch 18/60\n",
      "14669/14669 [==============================] - 1s 41us/step - loss: 0.0337 - acc: 0.9609\n",
      "Epoch 19/60\n",
      "14669/14669 [==============================] - 1s 40us/step - loss: 0.0317 - acc: 0.9623\n",
      "Epoch 20/60\n",
      "14669/14669 [==============================] - 1s 40us/step - loss: 0.0299 - acc: 0.9643\n",
      "Epoch 21/60\n",
      "14669/14669 [==============================] - 1s 39us/step - loss: 0.0284 - acc: 0.9656\n",
      "Epoch 22/60\n",
      "14669/14669 [==============================] - 1s 40us/step - loss: 0.0271 - acc: 0.9668\n",
      "Epoch 23/60\n",
      "14669/14669 [==============================] - 1s 41us/step - loss: 0.0259 - acc: 0.9672\n",
      "Epoch 24/60\n",
      "14669/14669 [==============================] - 1s 41us/step - loss: 0.0248 - acc: 0.9676\n",
      "Epoch 25/60\n",
      "14669/14669 [==============================] - 1s 41us/step - loss: 0.0239 - acc: 0.9680\n",
      "Epoch 26/60\n",
      "14669/14669 [==============================] - 1s 40us/step - loss: 0.0230 - acc: 0.9682\n",
      "Epoch 27/60\n",
      "14669/14669 [==============================] - 1s 42us/step - loss: 0.0223 - acc: 0.9684\n",
      "Epoch 28/60\n",
      "14669/14669 [==============================] - 1s 41us/step - loss: 0.0216 - acc: 0.9692\n",
      "Epoch 29/60\n",
      "14669/14669 [==============================] - 1s 39us/step - loss: 0.0210 - acc: 0.9696\n",
      "Epoch 30/60\n",
      "14669/14669 [==============================] - 1s 41us/step - loss: 0.0204 - acc: 0.9700\n",
      "Epoch 31/60\n",
      "14669/14669 [==============================] - 1s 41us/step - loss: 0.0199 - acc: 0.9701\n",
      "Epoch 32/60\n",
      "14669/14669 [==============================] - 1s 40us/step - loss: 0.0194 - acc: 0.9710\n",
      "Epoch 33/60\n",
      "14669/14669 [==============================] - 1s 43us/step - loss: 0.0190 - acc: 0.9713\n",
      "Epoch 34/60\n",
      "14669/14669 [==============================] - 1s 41us/step - loss: 0.0186 - acc: 0.9719\n",
      "Epoch 35/60\n",
      "14669/14669 [==============================] - 1s 44us/step - loss: 0.0182 - acc: 0.9725\n",
      "Epoch 36/60\n",
      "14669/14669 [==============================] - 1s 41us/step - loss: 0.0178 - acc: 0.9727\n",
      "Epoch 37/60\n",
      "14669/14669 [==============================] - 1s 40us/step - loss: 0.0175 - acc: 0.9733\n",
      "Epoch 38/60\n",
      "14669/14669 [==============================] - 1s 40us/step - loss: 0.0172 - acc: 0.9738\n",
      "Epoch 39/60\n",
      "14669/14669 [==============================] - 1s 43us/step - loss: 0.0169 - acc: 0.9747\n",
      "Epoch 40/60\n",
      "14669/14669 [==============================] - 1s 40us/step - loss: 0.0166 - acc: 0.9753\n",
      "Epoch 41/60\n",
      "14669/14669 [==============================] - 1s 38us/step - loss: 0.0164 - acc: 0.9759\n",
      "Epoch 42/60\n",
      "14669/14669 [==============================] - 1s 40us/step - loss: 0.0161 - acc: 0.9765\n",
      "Epoch 43/60\n",
      "14669/14669 [==============================] - 1s 40us/step - loss: 0.0159 - acc: 0.9772\n",
      "Epoch 44/60\n",
      "14669/14669 [==============================] - 1s 41us/step - loss: 0.0157 - acc: 0.9778\n",
      "Epoch 45/60\n",
      "14669/14669 [==============================] - 1s 40us/step - loss: 0.0155 - acc: 0.9787\n",
      "Epoch 46/60\n",
      "14669/14669 [==============================] - 1s 42us/step - loss: 0.0153 - acc: 0.9792\n",
      "Epoch 47/60\n",
      "14669/14669 [==============================] - 1s 42us/step - loss: 0.0151 - acc: 0.9800\n",
      "Epoch 48/60\n",
      "14669/14669 [==============================] - 1s 42us/step - loss: 0.0149 - acc: 0.9802\n",
      "Epoch 49/60\n",
      "14669/14669 [==============================] - 1s 42us/step - loss: 0.0147 - acc: 0.9807\n",
      "Epoch 50/60\n",
      "14669/14669 [==============================] - 1s 40us/step - loss: 0.0146 - acc: 0.9808\n",
      "Epoch 51/60\n",
      "14669/14669 [==============================] - 1s 43us/step - loss: 0.0144 - acc: 0.9810\n",
      "Epoch 52/60\n",
      "14669/14669 [==============================] - 1s 41us/step - loss: 0.0142 - acc: 0.9810\n",
      "Epoch 53/60\n",
      "14669/14669 [==============================] - 1s 42us/step - loss: 0.0141 - acc: 0.9811\n",
      "Epoch 54/60\n",
      "14669/14669 [==============================] - 1s 40us/step - loss: 0.0140 - acc: 0.9812\n",
      "Epoch 55/60\n",
      "14669/14669 [==============================] - 1s 39us/step - loss: 0.0138 - acc: 0.9813\n",
      "Epoch 56/60\n",
      "14669/14669 [==============================] - 1s 40us/step - loss: 0.0137 - acc: 0.9811\n",
      "Epoch 57/60\n",
      "14669/14669 [==============================] - 1s 42us/step - loss: 0.0136 - acc: 0.9812\n",
      "Epoch 58/60\n",
      "14669/14669 [==============================] - 1s 42us/step - loss: 0.0134 - acc: 0.9811\n",
      "Epoch 59/60\n",
      "14669/14669 [==============================] - 1s 39us/step - loss: 0.0133 - acc: 0.9812\n",
      "Epoch 60/60\n",
      "14669/14669 [==============================] - 1s 41us/step - loss: 0.0132 - acc: 0.9813\n"
     ]
    },
    {
     "data": {
      "text/plain": [
       "<keras.callbacks.History at 0x7fbcf5b37470>"
      ]
     },
     "execution_count": 78,
     "metadata": {},
     "output_type": "execute_result"
    }
   ],
   "source": [
    "ms_train_c5_network = 0\n",
    "ms_train_c5_network = build_model2('mse')\n",
    "ms_train_c5_network.fit(cluster_train_5_ready, cat_label_train5, epochs=60, batch_size=64)"
   ]
  },
  {
   "cell_type": "code",
   "execution_count": 79,
   "metadata": {},
   "outputs": [
    {
     "name": "stdout",
     "output_type": "stream",
     "text": [
      "125973/125973 [==============================] - 2s 17us/step\n",
      "[0.197510378061625, 0.8940249101002564]\n"
     ]
    }
   ],
   "source": [
    "print(ms_train_c5_network.evaluate(normalizer_normalized_X, cat_train_numerical_label))"
   ]
  },
  {
   "cell_type": "code",
   "execution_count": 106,
   "metadata": {},
   "outputs": [],
   "source": [
    "prd_c0_0 = ms_train_c0_network.predict(cluster_train_0_ready)\n",
    "prd_c0_1 = ms_train_c0_network.predict(cluster_train_1_ready)\n",
    "prd_c0_2 = ms_train_c0_network.predict(cluster_train_2_ready)\n",
    "prd_c0_3 = ms_train_c0_network.predict(cluster_train_3_ready)\n",
    "prd_c0_4 = ms_train_c0_network.predict(cluster_train_4_ready)\n",
    "prd_c0_5 = ms_train_c0_network.predict(cluster_train_5_ready)\n",
    "\n",
    "prd_c1_0 = ms_train_c1_network.predict(cluster_train_0_ready)\n",
    "prd_c1_1 = ms_train_c1_network.predict(cluster_train_1_ready)\n",
    "prd_c1_2 = ms_train_c1_network.predict(cluster_train_2_ready)\n",
    "prd_c1_3 = ms_train_c1_network.predict(cluster_train_3_ready)\n",
    "prd_c1_4 = ms_train_c1_network.predict(cluster_train_4_ready)\n",
    "prd_c1_5 = ms_train_c1_network.predict(cluster_train_5_ready)\n",
    "\n",
    "prd_c2_0 = ms_train_c2_network.predict(cluster_train_0_ready)\n",
    "prd_c2_1 = ms_train_c2_network.predict(cluster_train_1_ready)\n",
    "prd_c2_2 = ms_train_c2_network.predict(cluster_train_2_ready)\n",
    "prd_c2_3 = ms_train_c2_network.predict(cluster_train_3_ready)\n",
    "prd_c2_4 = ms_train_c2_network.predict(cluster_train_4_ready)\n",
    "prd_c2_5 = ms_train_c2_network.predict(cluster_train_5_ready)\n",
    "\n",
    "prd_c3_0 = ms_train_c3_network.predict(cluster_train_0_ready)\n",
    "prd_c3_1 = ms_train_c3_network.predict(cluster_train_1_ready)\n",
    "prd_c3_2 = ms_train_c3_network.predict(cluster_train_2_ready)\n",
    "prd_c3_3 = ms_train_c3_network.predict(cluster_train_3_ready)\n",
    "prd_c3_4 = ms_train_c3_network.predict(cluster_train_4_ready)\n",
    "prd_c3_5 = ms_train_c3_network.predict(cluster_train_5_ready)\n",
    "\n",
    "prd_c4_0 = ms_train_c4_network.predict(cluster_train_0_ready)\n",
    "prd_c4_1 = ms_train_c4_network.predict(cluster_train_1_ready)\n",
    "prd_c4_2 = ms_train_c4_network.predict(cluster_train_2_ready)\n",
    "prd_c4_3 = ms_train_c4_network.predict(cluster_train_3_ready)\n",
    "prd_c4_4 = ms_train_c4_network.predict(cluster_train_4_ready)\n",
    "prd_c4_5 = ms_train_c4_network.predict(cluster_train_5_ready)\n",
    "\n",
    "prd_c5_0 = ms_train_c5_network.predict(cluster_train_0_ready)\n",
    "prd_c5_1 = ms_train_c5_network.predict(cluster_train_1_ready)\n",
    "prd_c5_2 = ms_train_c5_network.predict(cluster_train_2_ready)\n",
    "prd_c5_3 = ms_train_c5_network.predict(cluster_train_3_ready)\n",
    "prd_c5_4 = ms_train_c5_network.predict(cluster_train_4_ready)\n",
    "prd_c5_5 = ms_train_c5_network.predict(cluster_train_5_ready)"
   ]
  },
  {
   "cell_type": "code",
   "execution_count": 107,
   "metadata": {},
   "outputs": [],
   "source": [
    "prd_c0_stacked = np.vstack((prd_c0_0, prd_c0_1, prd_c0_2, prd_c0_3, prd_c0_4, prd_c0_5))\n",
    "prd_c1_stacked = np.vstack((prd_c1_0, prd_c1_1, prd_c1_2, prd_c1_3, prd_c1_4, prd_c1_5))\n",
    "prd_c2_stacked = np.vstack((prd_c2_0, prd_c2_1, prd_c2_2, prd_c2_3, prd_c2_4, prd_c2_5))\n",
    "prd_c3_stacked = np.vstack((prd_c3_0, prd_c3_1, prd_c3_2, prd_c3_3, prd_c3_4, prd_c3_5))\n",
    "prd_c4_stacked = np.vstack((prd_c4_0, prd_c4_1, prd_c4_2, prd_c4_3, prd_c4_4, prd_c4_5))\n",
    "prd_c5_stacked = np.vstack((prd_c5_0, prd_c5_1, prd_c5_2, prd_c5_3, prd_c5_4, prd_c5_5))"
   ]
  },
  {
   "cell_type": "code",
   "execution_count": 108,
   "metadata": {},
   "outputs": [],
   "source": [
    "train_data_label = np.vstack((cat_label_train0, cat_label_train1, cat_label_train2, cat_label_train3, cat_label_train4, cat_label_train5))"
   ]
  },
  {
   "cell_type": "code",
   "execution_count": 134,
   "metadata": {},
   "outputs": [],
   "source": [
    "train_data_label = np.vstack((train_data_label, train_data_label, train_data_label, train_data_label, train_data_label, train_data_label))"
   ]
  },
  {
   "cell_type": "code",
   "execution_count": 135,
   "metadata": {},
   "outputs": [
    {
     "data": {
      "text/plain": [
       "(755838, 5)"
      ]
     },
     "execution_count": 135,
     "metadata": {},
     "output_type": "execute_result"
    }
   ],
   "source": [
    "train_data_label.shape"
   ]
  },
  {
   "cell_type": "code",
   "execution_count": 109,
   "metadata": {},
   "outputs": [],
   "source": [
    "memb_mat = initializeMembershipMatrix()\n",
    "upd_memb = np.array(updateMembershipValue(memb_mat, cp_centers, normalizer_normalized_X))"
   ]
  },
  {
   "cell_type": "code",
   "execution_count": 110,
   "metadata": {},
   "outputs": [
    {
     "name": "stdout",
     "output_type": "stream",
     "text": [
      "(125973, 6)\n",
      "(125973, 6)\n"
     ]
    }
   ],
   "source": [
    "print(np.array(memb_mat).shape)\n",
    "print(upd_memb.shape)"
   ]
  },
  {
   "cell_type": "code",
   "execution_count": 111,
   "metadata": {},
   "outputs": [],
   "source": [
    "upd_memb_fix = np.reshape(upd_memb, (6, 125973))"
   ]
  },
  {
   "cell_type": "code",
   "execution_count": 112,
   "metadata": {},
   "outputs": [
    {
     "name": "stdout",
     "output_type": "stream",
     "text": [
      "(125973, 5)\n",
      "(125973, 1)\n"
     ]
    }
   ],
   "source": [
    "print(prd_c0_stacked.shape)\n",
    "print(np.reshape(upd_memb_fix[0], (-1, 1)).shape)"
   ]
  },
  {
   "cell_type": "code",
   "execution_count": 113,
   "metadata": {},
   "outputs": [],
   "source": [
    "prd_c0_result = prd_c0_stacked * np.reshape(upd_memb_fix[0], (-1, 1))\n",
    "prd_c1_result = prd_c1_stacked * np.reshape(upd_memb_fix[1], (-1, 1))\n",
    "prd_c2_result = prd_c2_stacked * np.reshape(upd_memb_fix[2], (-1, 1))\n",
    "prd_c3_result = prd_c3_stacked * np.reshape(upd_memb_fix[3], (-1, 1))\n",
    "prd_c4_result = prd_c4_stacked * np.reshape(upd_memb_fix[4], (-1, 1))\n",
    "prd_c5_result = prd_c5_stacked * np.reshape(upd_memb_fix[5], (-1, 1))"
   ]
  },
  {
   "cell_type": "code",
   "execution_count": 114,
   "metadata": {},
   "outputs": [
    {
     "name": "stdout",
     "output_type": "stream",
     "text": [
      "(125973, 5)\n"
     ]
    }
   ],
   "source": [
    "print(prd_c1_result.shape)"
   ]
  },
  {
   "cell_type": "code",
   "execution_count": 127,
   "metadata": {},
   "outputs": [],
   "source": [
    "final_data = np.vstack((prd_c0_result, prd_c1_result, prd_c2_result, prd_c3_result, prd_c4_result, prd_c5_result))"
   ]
  },
  {
   "cell_type": "code",
   "execution_count": 128,
   "metadata": {},
   "outputs": [
    {
     "name": "stdout",
     "output_type": "stream",
     "text": [
      "(755838, 5)\n"
     ]
    }
   ],
   "source": [
    "print(final_data.shape)"
   ]
  },
  {
   "cell_type": "code",
   "execution_count": 118,
   "metadata": {},
   "outputs": [],
   "source": [
    "def updateMembershipValue_test(membership_mat, cluster_centers, data):\n",
    "    p = float(2/(m-1))\n",
    "    for i in range(len(data)):\n",
    "        x = list(data[i])\n",
    "        distances = [np.linalg.norm(list(map(operator.sub, x, cluster_centers[j]))) for j in range(k)]\n",
    "        for j in range(k):\n",
    "            den = sum([math.pow(float(distances[j]/distances[c]), p) for c in range(k)])\n",
    "            membership_mat[i][j] = float(1/den)       \n",
    "    return membership_mat\n",
    "\n",
    "\n",
    "def initializeMembershipMatrix_test(data):\n",
    "    membership_mat = list()\n",
    "    for i in range(len(data)):\n",
    "        random_num_list = [random.random() for i in range(k)]\n",
    "        summation = sum(random_num_list)\n",
    "        temp_list = [x/summation for x in random_num_list]\n",
    "        membership_mat.append(temp_list)\n",
    "    return membership_mat"
   ]
  },
  {
   "cell_type": "code",
   "execution_count": 119,
   "metadata": {},
   "outputs": [],
   "source": [
    "memb_mat_test = initializeMembershipMatrix_test(normalizer_normalized_X_test)\n",
    "upd_memb_test = updateMembershipValue_test(memb_mat_test, cp_centers, normalizer_normalized_X_test)"
   ]
  },
  {
   "cell_type": "code",
   "execution_count": 120,
   "metadata": {},
   "outputs": [
    {
     "name": "stdout",
     "output_type": "stream",
     "text": [
      "(125973, 6)\n",
      "(125973, 6)\n"
     ]
    }
   ],
   "source": [
    "print(np.array(memb_mat).shape)\n",
    "print(np.array(upd_memb).shape)"
   ]
  },
  {
   "cell_type": "code",
   "execution_count": 121,
   "metadata": {},
   "outputs": [],
   "source": [
    "prd_c0_test = ms_train_c0_network.predict(normalizer_normalized_X_test)\n",
    "prd_c1_test = ms_train_c1_network.predict(normalizer_normalized_X_test)\n",
    "prd_c2_test = ms_train_c2_network.predict(normalizer_normalized_X_test)\n",
    "prd_c3_test = ms_train_c3_network.predict(normalizer_normalized_X_test)\n",
    "prd_c4_test = ms_train_c4_network.predict(normalizer_normalized_X_test)\n",
    "prd_c5_test = ms_train_c5_network.predict(normalizer_normalized_X_test)"
   ]
  },
  {
   "cell_type": "code",
   "execution_count": 129,
   "metadata": {},
   "outputs": [],
   "source": [
    "final_data_test = np.vstack((prd_c0_test, prd_c1_test, prd_c2_test, prd_c3_test, prd_c4_test, prd_c5_test))"
   ]
  },
  {
   "cell_type": "code",
   "execution_count": 143,
   "metadata": {},
   "outputs": [],
   "source": [
    "test_data_label = np.vstack((cat_test_numerical_label, cat_test_numerical_label, cat_test_numerical_label, cat_test_numerical_label, cat_test_numerical_label, cat_test_numerical_label))"
   ]
  },
  {
   "cell_type": "code",
   "execution_count": 144,
   "metadata": {},
   "outputs": [
    {
     "name": "stdout",
     "output_type": "stream",
     "text": [
      "(135264, 5)\n",
      "(135264, 5)\n"
     ]
    }
   ],
   "source": [
    "print(final_data_test.shape)\n",
    "print(test_data_label.shape)"
   ]
  },
  {
   "cell_type": "code",
   "execution_count": 136,
   "metadata": {},
   "outputs": [],
   "source": [
    "from sklearn.model_selection import train_test_split\n",
    "partial_X, val_X, partial_y, val_y = train_test_split(final_data, train_data_label, test_size=0.25, random_state=42)\n",
    "# val_X = final_data[:20000]\n",
    "# val_y = cat_train_numerical_label[:20000]\n",
    "# partial_X = final_data[20000:]\n",
    "# partial_y = cat_train_numerical_label[20000:]"
   ]
  },
  {
   "cell_type": "code",
   "execution_count": 154,
   "metadata": {
    "scrolled": false
   },
   "outputs": [
    {
     "name": "stdout",
     "output_type": "stream",
     "text": [
      "Train on 566878 samples, validate on 188960 samples\n",
      "Epoch 1/40\n",
      "566878/566878 [==============================] - 3s 5us/step - loss: 0.1509 - acc: 0.5316 - val_loss: 0.1165 - val_acc: 0.5373\n",
      "Epoch 2/40\n",
      "566878/566878 [==============================] - 2s 4us/step - loss: 0.1149 - acc: 0.5421 - val_loss: 0.1133 - val_acc: 0.5475\n",
      "Epoch 3/40\n",
      "566878/566878 [==============================] - 2s 4us/step - loss: 0.1122 - acc: 0.5485 - val_loss: 0.1109 - val_acc: 0.5518\n",
      "Epoch 4/40\n",
      "566878/566878 [==============================] - 2s 4us/step - loss: 0.1101 - acc: 0.5548 - val_loss: 0.1092 - val_acc: 0.5590\n",
      "Epoch 5/40\n",
      "566878/566878 [==============================] - 2s 4us/step - loss: 0.1086 - acc: 0.5615 - val_loss: 0.1078 - val_acc: 0.5660\n",
      "Epoch 6/40\n",
      "566878/566878 [==============================] - 2s 4us/step - loss: 0.1074 - acc: 0.5668 - val_loss: 0.1068 - val_acc: 0.5727\n",
      "Epoch 7/40\n",
      "566878/566878 [==============================] - 2s 4us/step - loss: 0.1065 - acc: 0.5714 - val_loss: 0.1060 - val_acc: 0.5748\n",
      "Epoch 8/40\n",
      "566878/566878 [==============================] - 2s 4us/step - loss: 0.1058 - acc: 0.5755 - val_loss: 0.1053 - val_acc: 0.5784\n",
      "Epoch 9/40\n",
      "566878/566878 [==============================] - 2s 4us/step - loss: 0.1052 - acc: 0.5791 - val_loss: 0.1048 - val_acc: 0.5800\n",
      "Epoch 10/40\n",
      "566878/566878 [==============================] - 2s 4us/step - loss: 0.1047 - acc: 0.5824 - val_loss: 0.1044 - val_acc: 0.5866\n",
      "Epoch 11/40\n",
      "566878/566878 [==============================] - 2s 4us/step - loss: 0.1043 - acc: 0.5857 - val_loss: 0.1041 - val_acc: 0.5891\n",
      "Epoch 12/40\n",
      "566878/566878 [==============================] - 2s 4us/step - loss: 0.1040 - acc: 0.5884 - val_loss: 0.1038 - val_acc: 0.5927\n",
      "Epoch 13/40\n",
      "566878/566878 [==============================] - 2s 4us/step - loss: 0.1037 - acc: 0.5911 - val_loss: 0.1035 - val_acc: 0.5920\n",
      "Epoch 14/40\n",
      "566878/566878 [==============================] - 2s 4us/step - loss: 0.1035 - acc: 0.5930 - val_loss: 0.1033 - val_acc: 0.5949\n",
      "Epoch 15/40\n",
      "566878/566878 [==============================] - 2s 4us/step - loss: 0.1033 - acc: 0.5947 - val_loss: 0.1031 - val_acc: 0.5993\n",
      "Epoch 16/40\n",
      "566878/566878 [==============================] - 2s 4us/step - loss: 0.1031 - acc: 0.5967 - val_loss: 0.1029 - val_acc: 0.5963\n",
      "Epoch 17/40\n",
      "566878/566878 [==============================] - 2s 4us/step - loss: 0.1029 - acc: 0.5977 - val_loss: 0.1027 - val_acc: 0.6018\n",
      "Epoch 18/40\n",
      "566878/566878 [==============================] - 2s 4us/step - loss: 0.1027 - acc: 0.5992 - val_loss: 0.1026 - val_acc: 0.6012\n",
      "Epoch 19/40\n",
      "566878/566878 [==============================] - 2s 4us/step - loss: 0.1026 - acc: 0.6002 - val_loss: 0.1024 - val_acc: 0.6033\n",
      "Epoch 20/40\n",
      "566878/566878 [==============================] - 2s 4us/step - loss: 0.1024 - acc: 0.6016 - val_loss: 0.1023 - val_acc: 0.5975\n",
      "Epoch 21/40\n",
      "566878/566878 [==============================] - 2s 4us/step - loss: 0.1023 - acc: 0.6022 - val_loss: 0.1021 - val_acc: 0.6029\n",
      "Epoch 22/40\n",
      "566878/566878 [==============================] - 2s 4us/step - loss: 0.1021 - acc: 0.6033 - val_loss: 0.1020 - val_acc: 0.6023\n",
      "Epoch 23/40\n",
      "566878/566878 [==============================] - 2s 4us/step - loss: 0.1020 - acc: 0.6041 - val_loss: 0.1019 - val_acc: 0.6037\n",
      "Epoch 24/40\n",
      "566878/566878 [==============================] - 2s 4us/step - loss: 0.1019 - acc: 0.6050 - val_loss: 0.1017 - val_acc: 0.6061\n",
      "Epoch 25/40\n",
      "566878/566878 [==============================] - 2s 4us/step - loss: 0.1018 - acc: 0.6059 - val_loss: 0.1016 - val_acc: 0.6070\n",
      "Epoch 26/40\n",
      "566878/566878 [==============================] - 2s 4us/step - loss: 0.1016 - acc: 0.6067 - val_loss: 0.1015 - val_acc: 0.6054\n",
      "Epoch 27/40\n",
      "566878/566878 [==============================] - 2s 4us/step - loss: 0.1015 - acc: 0.6072 - val_loss: 0.1014 - val_acc: 0.6092\n",
      "Epoch 28/40\n",
      "566878/566878 [==============================] - 2s 4us/step - loss: 0.1014 - acc: 0.6080 - val_loss: 0.1013 - val_acc: 0.6109\n",
      "Epoch 29/40\n",
      "566878/566878 [==============================] - 2s 4us/step - loss: 0.1013 - acc: 0.6088 - val_loss: 0.1012 - val_acc: 0.6097\n",
      "Epoch 30/40\n",
      "566878/566878 [==============================] - 2s 4us/step - loss: 0.1012 - acc: 0.6094 - val_loss: 0.1011 - val_acc: 0.6084\n",
      "Epoch 31/40\n",
      "566878/566878 [==============================] - 2s 4us/step - loss: 0.1011 - acc: 0.6099 - val_loss: 0.1010 - val_acc: 0.6085\n",
      "Epoch 32/40\n",
      "566878/566878 [==============================] - 2s 3us/step - loss: 0.1010 - acc: 0.6105 - val_loss: 0.1009 - val_acc: 0.6099\n",
      "Epoch 33/40\n",
      "566878/566878 [==============================] - 2s 4us/step - loss: 0.1009 - acc: 0.6109 - val_loss: 0.1008 - val_acc: 0.6142\n",
      "Epoch 34/40\n",
      "566878/566878 [==============================] - 2s 4us/step - loss: 0.1008 - acc: 0.6117 - val_loss: 0.1007 - val_acc: 0.6122\n",
      "Epoch 35/40\n",
      "566878/566878 [==============================] - 2s 4us/step - loss: 0.1007 - acc: 0.6120 - val_loss: 0.1006 - val_acc: 0.6165\n",
      "Epoch 36/40\n",
      "566878/566878 [==============================] - 2s 4us/step - loss: 0.1006 - acc: 0.6127 - val_loss: 0.1005 - val_acc: 0.6128\n",
      "Epoch 37/40\n",
      "566878/566878 [==============================] - 2s 3us/step - loss: 0.1005 - acc: 0.6128 - val_loss: 0.1004 - val_acc: 0.6146\n",
      "Epoch 38/40\n",
      "566878/566878 [==============================] - 2s 4us/step - loss: 0.1004 - acc: 0.6134 - val_loss: 0.1003 - val_acc: 0.6132\n",
      "Epoch 39/40\n",
      "566878/566878 [==============================] - 2s 4us/step - loss: 0.1003 - acc: 0.6137 - val_loss: 0.1002 - val_acc: 0.6157\n",
      "Epoch 40/40\n",
      "566878/566878 [==============================] - 2s 3us/step - loss: 0.1002 - acc: 0.6142 - val_loss: 0.1001 - val_acc: 0.6172\n"
     ]
    }
   ],
   "source": [
    "final_model = 0\n",
    "final_model = Sequential()\n",
    "final_model.add(Dense(13, activation='sigmoid', kernel_initializer=initializer, input_shape=(5,)))\n",
    "final_model.add(Dense(5, activation='linear', kernel_initializer=initializer))\n",
    "final_model.compile(optimizer=sgd, loss='mse', metrics=['accuracy'])\n",
    "\n",
    "histor = final_model.fit(partial_X, partial_y, epochs=40, batch_size=512, validation_data=(val_X, val_y))"
   ]
  },
  {
   "cell_type": "code",
   "execution_count": 155,
   "metadata": {},
   "outputs": [],
   "source": [
    "val_loss = histor.history['val_loss']\n",
    "loss = histor.history['loss']\n",
    "\n",
    "accuracy = histor.history['acc']\n",
    "val_accuracy = histor.history['val_acc']"
   ]
  },
  {
   "cell_type": "code",
   "execution_count": 156,
   "metadata": {},
   "outputs": [
    {
     "data": {
      "image/png": "[encoded data removed]",
      "text/plain": [
       "<Figure size 432x288 with 1 Axes>"
      ]
     },
     "metadata": {},
     "output_type": "display_data"
    }
   ],
   "source": [
    "plots(loss, val_loss, 'Loss', epochs)"
   ]
  },
  {
   "cell_type": "code",
   "execution_count": 157,
   "metadata": {},
   "outputs": [
    {
     "data": {
      "image/png": "[encoded data removed]",
      "text/plain": [
       "<Figure size 432x288 with 1 Axes>"
      ]
     },
     "metadata": {},
     "output_type": "display_data"
    }
   ],
   "source": [
    "plots(accuracy, val_accuracy, 'Accuracy', epochs)"
   ]
  },
  {
   "cell_type": "code",
   "execution_count": 152,
   "metadata": {
    "scrolled": false
   },
   "outputs": [
    {
     "name": "stdout",
     "output_type": "stream",
     "text": [
      "Epoch 1/80\n",
      "755838/755838 [==============================] - 3s 4us/step - loss: 0.1422 - acc: 0.5335\n",
      "Epoch 2/80\n",
      "755838/755838 [==============================] - 2s 3us/step - loss: 0.1134 - acc: 0.5461\n",
      "Epoch 3/80\n",
      "755838/755838 [==============================] - 2s 3us/step - loss: 0.1104 - acc: 0.5539\n",
      "Epoch 4/80\n",
      "755838/755838 [==============================] - 2s 3us/step - loss: 0.1084 - acc: 0.5627\n",
      "Epoch 5/80\n",
      "755838/755838 [==============================] - 2s 3us/step - loss: 0.1069 - acc: 0.5693\n",
      "Epoch 6/80\n",
      "755838/755838 [==============================] - 2s 3us/step - loss: 0.1058 - acc: 0.5750\n",
      "Epoch 7/80\n",
      "755838/755838 [==============================] - 2s 3us/step - loss: 0.1051 - acc: 0.5798\n",
      "Epoch 8/80\n",
      "755838/755838 [==============================] - 2s 3us/step - loss: 0.1045 - acc: 0.5844\n",
      "Epoch 9/80\n",
      "755838/755838 [==============================] - 2s 3us/step - loss: 0.1040 - acc: 0.5880\n",
      "Epoch 10/80\n",
      "755838/755838 [==============================] - 2s 3us/step - loss: 0.1037 - acc: 0.5913\n",
      "Epoch 11/80\n",
      "755838/755838 [==============================] - 2s 3us/step - loss: 0.1034 - acc: 0.5939\n",
      "Epoch 12/80\n",
      "755838/755838 [==============================] - 2s 3us/step - loss: 0.1031 - acc: 0.5960\n",
      "Epoch 13/80\n",
      "755838/755838 [==============================] - 2s 3us/step - loss: 0.1029 - acc: 0.5980\n",
      "Epoch 14/80\n",
      "755838/755838 [==============================] - 2s 3us/step - loss: 0.1026 - acc: 0.5997\n",
      "Epoch 15/80\n",
      "755838/755838 [==============================] - 2s 3us/step - loss: 0.1024 - acc: 0.6010\n",
      "Epoch 16/80\n",
      "755838/755838 [==============================] - 2s 3us/step - loss: 0.1022 - acc: 0.6024\n",
      "Epoch 17/80\n",
      "755838/755838 [==============================] - 2s 3us/step - loss: 0.1021 - acc: 0.6038\n",
      "Epoch 18/80\n",
      "755838/755838 [==============================] - 2s 3us/step - loss: 0.1019 - acc: 0.6049\n",
      "Epoch 19/80\n",
      "755838/755838 [==============================] - 2s 3us/step - loss: 0.1017 - acc: 0.6059\n",
      "Epoch 20/80\n",
      "755838/755838 [==============================] - 2s 3us/step - loss: 0.1016 - acc: 0.6070\n",
      "Epoch 21/80\n",
      "755838/755838 [==============================] - 2s 3us/step - loss: 0.1014 - acc: 0.6078\n",
      "Epoch 22/80\n",
      "755838/755838 [==============================] - 2s 3us/step - loss: 0.1013 - acc: 0.6087\n",
      "Epoch 23/80\n",
      "755838/755838 [==============================] - 2s 3us/step - loss: 0.1011 - acc: 0.6096\n",
      "Epoch 24/80\n",
      "755838/755838 [==============================] - 2s 3us/step - loss: 0.1010 - acc: 0.6104\n",
      "Epoch 25/80\n",
      "755838/755838 [==============================] - 2s 3us/step - loss: 0.1008 - acc: 0.6110\n",
      "Epoch 26/80\n",
      "755838/755838 [==============================] - 2s 3us/step - loss: 0.1007 - acc: 0.6117\n",
      "Epoch 27/80\n",
      "755838/755838 [==============================] - 2s 3us/step - loss: 0.1006 - acc: 0.6124\n",
      "Epoch 28/80\n",
      "755838/755838 [==============================] - 2s 3us/step - loss: 0.1004 - acc: 0.6130\n",
      "Epoch 29/80\n",
      "755838/755838 [==============================] - 2s 3us/step - loss: 0.1003 - acc: 0.6135\n",
      "Epoch 30/80\n",
      "755838/755838 [==============================] - 2s 3us/step - loss: 0.1002 - acc: 0.6142\n",
      "Epoch 31/80\n",
      "755838/755838 [==============================] - 2s 3us/step - loss: 0.1001 - acc: 0.6148\n",
      "Epoch 32/80\n",
      "755838/755838 [==============================] - 2s 3us/step - loss: 0.1000 - acc: 0.6153\n",
      "Epoch 33/80\n",
      "755838/755838 [==============================] - 2s 3us/step - loss: 0.0999 - acc: 0.6157\n",
      "Epoch 34/80\n",
      "755838/755838 [==============================] - 2s 3us/step - loss: 0.0997 - acc: 0.6164\n",
      "Epoch 35/80\n",
      "755838/755838 [==============================] - 2s 3us/step - loss: 0.0996 - acc: 0.6167\n",
      "Epoch 36/80\n",
      "755838/755838 [==============================] - 2s 3us/step - loss: 0.0995 - acc: 0.6172\n",
      "Epoch 37/80\n",
      "755838/755838 [==============================] - 2s 3us/step - loss: 0.0994 - acc: 0.6175\n",
      "Epoch 38/80\n",
      "755838/755838 [==============================] - 2s 3us/step - loss: 0.0993 - acc: 0.6182\n",
      "Epoch 39/80\n",
      "755838/755838 [==============================] - 2s 3us/step - loss: 0.0992 - acc: 0.6184\n",
      "Epoch 40/80\n",
      "755838/755838 [==============================] - 2s 3us/step - loss: 0.0991 - acc: 0.6188\n",
      "Epoch 41/80\n",
      "755838/755838 [==============================] - 2s 3us/step - loss: 0.0991 - acc: 0.6193\n",
      "Epoch 42/80\n",
      "755838/755838 [==============================] - 2s 3us/step - loss: 0.0990 - acc: 0.6197\n",
      "Epoch 43/80\n",
      "755838/755838 [==============================] - 2s 3us/step - loss: 0.0989 - acc: 0.6201\n",
      "Epoch 44/80\n",
      "755838/755838 [==============================] - 2s 3us/step - loss: 0.0988 - acc: 0.6204\n",
      "Epoch 45/80\n",
      "755838/755838 [==============================] - 2s 3us/step - loss: 0.0987 - acc: 0.6208\n",
      "Epoch 46/80\n",
      "755838/755838 [==============================] - 2s 3us/step - loss: 0.0986 - acc: 0.6210\n",
      "Epoch 47/80\n",
      "755838/755838 [==============================] - 2s 3us/step - loss: 0.0985 - acc: 0.6216\n",
      "Epoch 48/80\n",
      "755838/755838 [==============================] - 2s 3us/step - loss: 0.0985 - acc: 0.6219\n",
      "Epoch 49/80\n",
      "755838/755838 [==============================] - 2s 3us/step - loss: 0.0984 - acc: 0.6222\n",
      "Epoch 50/80\n",
      "755838/755838 [==============================] - 2s 3us/step - loss: 0.0983 - acc: 0.6225\n",
      "Epoch 51/80\n",
      "755838/755838 [==============================] - 2s 3us/step - loss: 0.0982 - acc: 0.6229\n",
      "Epoch 52/80\n",
      "755838/755838 [==============================] - 2s 3us/step - loss: 0.0982 - acc: 0.6233\n",
      "Epoch 53/80\n",
      "755838/755838 [==============================] - 2s 3us/step - loss: 0.0981 - acc: 0.6235\n",
      "Epoch 54/80\n",
      "755838/755838 [==============================] - 2s 3us/step - loss: 0.0980 - acc: 0.6237\n",
      "Epoch 55/80\n",
      "755838/755838 [==============================] - 2s 3us/step - loss: 0.0979 - acc: 0.6241\n",
      "Epoch 56/80\n",
      "755838/755838 [==============================] - 2s 3us/step - loss: 0.0979 - acc: 0.6245\n",
      "Epoch 57/80\n",
      "755838/755838 [==============================] - 2s 3us/step - loss: 0.0978 - acc: 0.6247\n",
      "Epoch 58/80\n",
      "755838/755838 [==============================] - 2s 3us/step - loss: 0.0978 - acc: 0.6250\n",
      "Epoch 59/80\n",
      "755838/755838 [==============================] - 2s 3us/step - loss: 0.0977 - acc: 0.6253\n",
      "Epoch 60/80\n",
      "755838/755838 [==============================] - 2s 3us/step - loss: 0.0976 - acc: 0.6256\n",
      "Epoch 61/80\n",
      "755838/755838 [==============================] - 2s 3us/step - loss: 0.0976 - acc: 0.6258\n",
      "Epoch 62/80\n",
      "755838/755838 [==============================] - 2s 3us/step - loss: 0.0975 - acc: 0.6260\n",
      "Epoch 63/80\n",
      "755838/755838 [==============================] - 2s 3us/step - loss: 0.0974 - acc: 0.6264\n",
      "Epoch 64/80\n",
      "755838/755838 [==============================] - 2s 3us/step - loss: 0.0974 - acc: 0.6268\n",
      "Epoch 65/80\n",
      "755838/755838 [==============================] - 2s 3us/step - loss: 0.0973 - acc: 0.6268\n",
      "Epoch 66/80\n",
      "755838/755838 [==============================] - 2s 3us/step - loss: 0.0973 - acc: 0.6272\n",
      "Epoch 67/80\n",
      "755838/755838 [==============================] - 2s 3us/step - loss: 0.0972 - acc: 0.6273\n",
      "Epoch 68/80\n",
      "755838/755838 [==============================] - 2s 3us/step - loss: 0.0972 - acc: 0.6276\n",
      "Epoch 69/80\n",
      "755838/755838 [==============================] - 2s 3us/step - loss: 0.0971 - acc: 0.6279\n",
      "Epoch 70/80\n",
      "755838/755838 [==============================] - 2s 3us/step - loss: 0.0971 - acc: 0.6281\n",
      "Epoch 71/80\n",
      "755838/755838 [==============================] - 2s 3us/step - loss: 0.0970 - acc: 0.6283\n",
      "Epoch 72/80\n",
      "755838/755838 [==============================] - 2s 3us/step - loss: 0.0970 - acc: 0.6285\n",
      "Epoch 73/80\n",
      "755838/755838 [==============================] - 2s 3us/step - loss: 0.0969 - acc: 0.6288\n",
      "Epoch 74/80\n",
      "755838/755838 [==============================] - 2s 3us/step - loss: 0.0969 - acc: 0.6289\n",
      "Epoch 75/80\n",
      "755838/755838 [==============================] - 2s 3us/step - loss: 0.0968 - acc: 0.6291\n",
      "Epoch 76/80\n",
      "755838/755838 [==============================] - 2s 3us/step - loss: 0.0968 - acc: 0.6293\n",
      "Epoch 77/80\n",
      "755838/755838 [==============================] - 2s 3us/step - loss: 0.0967 - acc: 0.6297\n",
      "Epoch 78/80\n",
      "755838/755838 [==============================] - 2s 3us/step - loss: 0.0967 - acc: 0.6298\n",
      "Epoch 79/80\n",
      "755838/755838 [==============================] - 2s 3us/step - loss: 0.0966 - acc: 0.6299\n",
      "Epoch 80/80\n",
      "755838/755838 [==============================] - 2s 3us/step - loss: 0.0966 - acc: 0.6302\n"
     ]
    },
    {
     "data": {
      "text/plain": [
       "<keras.callbacks.History at 0x7fbcf5ad76a0>"
      ]
     },
     "execution_count": 152,
     "metadata": {},
     "output_type": "execute_result"
    }
   ],
   "source": [
    "final_model = 0\n",
    "final_model = Sequential()\n",
    "final_model.add(Dense(13, activation='sigmoid', kernel_initializer=initializer, input_shape=(5,)))\n",
    "final_model.add(Dense(5, activation='linear', kernel_initializer=initializer))\n",
    "final_model.compile(optimizer=sgd, loss='mse', metrics=['accuracy'])\n",
    "\n",
    "final_model.fit(final_data, train_data_label, epochs=80, batch_size=512)"
   ]
  },
  {
   "cell_type": "code",
   "execution_count": 153,
   "metadata": {},
   "outputs": [
    {
     "name": "stdout",
     "output_type": "stream",
     "text": [
      "135264/135264 [==============================] - 2s 18us/step\n",
      "[0.13484674368713775, 0.6420407499408564]\n"
     ]
    }
   ],
   "source": [
    "print(final_model.evaluate(final_data_test, test_data_label))"
   ]
  }
 ],
 "metadata": {
  "kernelspec": {
   "display_name": "Python 3",
   "language": "python",
   "name": "python3"
  },
  "language_info": {
   "codemirror_mode": {
    "name": "ipython",
    "version": 3
   },
   "file_extension": ".py",
   "mimetype": "text/x-python",
   "name": "python",
   "nbconvert_exporter": "python",
   "pygments_lexer": "ipython3",
   "version": "3.6.6"
  }
 },
 "nbformat": 4,
 "nbformat_minor": 2
}
