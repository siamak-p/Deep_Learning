{
 "cells": [
  {
   "cell_type": "code",
   "execution_count": 1,
   "metadata": {},
   "outputs": [
    {
     "name": "stderr",
     "output_type": "stream",
     "text": [
      "Using TensorFlow backend.\n"
     ]
    }
   ],
   "source": [
    "import time\n",
    "siamak = time.time()\n",
    "import os\n",
    "import numpy as np\n",
    "from keras.utils import to_categorical\n",
    "from keras.layers import Dropout\n",
    "from keras.models import Sequential\n",
    "import keras.backend as K\n",
    "import matplotlib.pyplot as plt\n",
    "from keras.layers import Dense, Input\n",
    "from keras.models import Model\n",
    "from keras.layers import Layer\n",
    "from sklearn.cluster import MeanShift\n",
    "from collections import Counter\n",
    "# from sklearn.decomposition import PCA\n",
    "from sklearn.preprocessing import RobustScaler, StandardScaler, MinMaxScaler, Normalizer\n",
    "np.set_printoptions(precision=3, suppress=True)"
   ]
  },
  {
   "cell_type": "code",
   "execution_count": 2,
   "metadata": {},
   "outputs": [],
   "source": [
    "def load_nsl_kdd_cup_dataset(filename, n_column=41):\n",
    "    with open(filename, 'r')as f:\n",
    "        list1 = []\n",
    "        list2 = []\n",
    "        for i in f:\n",
    "            list1.append(i)\n",
    "            \n",
    "        for i in list1:\n",
    "            i = str(i)\n",
    "            labels = i.split(sep=',')\n",
    "            list2.append(labels[:n_column])\n",
    "        arraylist = np.array(list2)\n",
    "#         print(arraylist.shape)\n",
    "        return arraylist\n",
    "\n",
    "dirs = './NSL_KDD-master'\n",
    "train_X = load_nsl_kdd_cup_dataset(os.path.join(dirs, 'KDDTrain+.txt'))\n",
    "test_X  = load_nsl_kdd_cup_dataset(os.path.join(dirs, 'KDDTest+.txt'))\n",
    "# print(test_X[3])\n",
    "traindata_labels = load_nsl_kdd_cup_dataset(os.path.join(dirs, 'KDDTrain+.txt'), n_column=42)\n",
    "testdata_labels = load_nsl_kdd_cup_dataset(os.path.join(dirs, 'KDDTest+.txt'), n_column=42)"
   ]
  },
  {
   "cell_type": "code",
   "execution_count": 3,
   "metadata": {},
   "outputs": [
    {
     "name": "stdout",
     "output_type": "stream",
     "text": [
      "(125973, 41)\n",
      "(22544, 41)\n"
     ]
    }
   ],
   "source": [
    "print(train_X.shape)\n",
    "print(test_X.shape)"
   ]
  },
  {
   "cell_type": "code",
   "execution_count": 4,
   "metadata": {},
   "outputs": [
    {
     "name": "stdout",
     "output_type": "stream",
     "text": [
      "neptune\n"
     ]
    }
   ],
   "source": [
    "print(traindata_labels[40][41])"
   ]
  },
  {
   "cell_type": "code",
   "execution_count": 5,
   "metadata": {},
   "outputs": [],
   "source": [
    "# Preprocessing phase 1\n",
    "# Convert nominal values to numeric values\n",
    "def convert_nominal_to_numerical(sets):\n",
    "    list1 = []\n",
    "    col1, col2, col3 = [], [], []\n",
    "    for i in sets:\n",
    "        # print(i[1])\n",
    "        if i[1] == 'tcp':\n",
    "            i[1] = 1\n",
    "        elif i[1] == 'udp':\n",
    "            i[1] = 2\n",
    "        elif i[1] == 'icmp':\n",
    "            i[1] = 3\n",
    "\n",
    "        if i[2] == 'http':\n",
    "            i[2] = 1\n",
    "        elif i[2] == 'private':\n",
    "            i[2] = 2\n",
    "        elif i[2] == 'domain_u':\n",
    "            i[2] = 3\n",
    "        elif i[2] == 'smtp':\n",
    "            i[2] = 4\n",
    "        elif i[2] == 'ftp_data':\n",
    "            i[2] = 5\n",
    "        elif i[2] == 'eco_i':\n",
    "            i[2] = 6\n",
    "        elif i[2] == 'other':\n",
    "            i[2] = 7\n",
    "        elif i[2] == 'ecr_i':\n",
    "            i[2] = 8\n",
    "        elif i[2] == 'telnet':\n",
    "            i[2] = 9\n",
    "        elif i[2] == 'finger':\n",
    "            i[2] = 10\n",
    "        elif i[2] == 'ftp':\n",
    "            i[2] = 11\n",
    "        elif i[2] == 'auth':\n",
    "            i[2] = 12\n",
    "        elif i[2] == 'Z39_50':\n",
    "            i[2] = 13\n",
    "        elif i[2] == 'uucp':\n",
    "            i[2] = 14\n",
    "        elif i[2] == 'courier':\n",
    "            i[2] = 15\n",
    "        elif i[2] == 'bgp':\n",
    "            i[2] = 16\n",
    "        elif i[2] == 'whois':\n",
    "            i[2] = 17\n",
    "        elif i[2] == 'uucp_path':\n",
    "            i[2] = 18\n",
    "        elif i[2] == 'iso_tsap':\n",
    "            i[2] = 19\n",
    "        elif i[2] == 'time':\n",
    "            i[2] = 20\n",
    "        elif i[2] == 'imap4':\n",
    "            i[2] = 21\n",
    "        elif i[2] == 'nnsp':\n",
    "            i[2] = 22\n",
    "        elif i[2] == 'vmnet':\n",
    "            i[2] = 23\n",
    "        elif i[2] == 'urp_i':\n",
    "            i[2] = 24\n",
    "        elif i[2] == 'domain':\n",
    "            i[2] = 25\n",
    "        elif i[2] == 'ctf':\n",
    "            i[2] = 26\n",
    "        elif i[2] == 'csnet_ns':\n",
    "            i[2] = 27\n",
    "        elif i[2] == 'supdup':\n",
    "            i[2] = 28\n",
    "        elif i[2] == 'discard':\n",
    "            i[2] = 29\n",
    "        elif i[2] == 'http_443':\n",
    "            i[2] = 30\n",
    "        elif i[2] == 'daytime':\n",
    "            i[2] = 31\n",
    "        elif i[2] == 'gopher':\n",
    "            i[2] = 32\n",
    "        elif i[2] == 'efs':\n",
    "            i[2] = 33\n",
    "        elif i[2] == 'systat':\n",
    "            i[2] = 34\n",
    "        elif i[2] == 'link':\n",
    "            i[2] = 35\n",
    "        elif i[2] == 'exec':\n",
    "            i[2] = 36\n",
    "        elif i[2] == 'hostnames':\n",
    "            i[2] = 37\n",
    "        elif i[2] == 'name':\n",
    "            i[2] = 38\n",
    "        elif i[2] == 'mtp':\n",
    "            i[2] = 39\n",
    "        elif i[2] == 'echo':\n",
    "            i[2] = 40\n",
    "        elif i[2] == 'klogin':\n",
    "            i[2] = 41\n",
    "        elif i[2] == 'login':\n",
    "            i[2] = 42\n",
    "        elif i[2] == 'ldap':\n",
    "            i[2] = 43\n",
    "        elif i[2] == 'netbios_dgm':\n",
    "            i[2] = 44\n",
    "        elif i[2] == 'sunrpc':\n",
    "            i[2] = 45\n",
    "        elif i[2] == 'netbios_ssn':\n",
    "            i[2] = 46\n",
    "        elif i[2] == 'netstat':\n",
    "            i[2] = 47\n",
    "        elif i[2] == 'netbios_ns':\n",
    "            i[2] = 48\n",
    "        elif i[2] == 'ssh':\n",
    "            i[2] = 49\n",
    "        elif i[2] == 'kshell':\n",
    "            i[2] = 50\n",
    "        elif i[2] == 'nntp':\n",
    "            i[2] = 51\n",
    "        elif i[2] == 'pop_3':\n",
    "            i[2] = 52\n",
    "        elif i[2] == 'sql_net':\n",
    "            i[2] = 53\n",
    "        elif i[2] == 'IRC':\n",
    "            i[2] = 54\n",
    "        elif i[2] == 'ntp_u':\n",
    "            i[2] = 55\n",
    "        elif i[2] == 'rje':\n",
    "            i[2] = 56\n",
    "        elif i[2] == 'remote_job':\n",
    "            i[2] = 57\n",
    "        elif i[2] == 'pop_2':\n",
    "            i[2] = 58\n",
    "        elif i[2] == 'X11':\n",
    "            i[2] = 59\n",
    "        elif i[2] == 'printer':\n",
    "            i[2] = 60\n",
    "        elif i[2] == 'shell':\n",
    "            i[2] = 61\n",
    "        elif i[2] == 'urh_i':\n",
    "            i[2] = 62\n",
    "        elif i[2] == 'tim_i':\n",
    "            i[2] = 63\n",
    "        elif i[2] == 'red_i':\n",
    "            i[2] = 64\n",
    "        elif i[2] == 'pm_dump':\n",
    "            i[2] = 65\n",
    "        elif i[2] == 'tftp_u':\n",
    "            i[2] = 66\n",
    "        elif i[2] == 'http_8001':\n",
    "            i[2] = 67\n",
    "        elif i[2] == 'aol':\n",
    "            i[2] = 68\n",
    "        elif i[2] == 'harvest':\n",
    "            i[2] = 69\n",
    "        elif i[2] == 'http_2784':\n",
    "            i[2] = 70\n",
    "\n",
    "        if i[3] == 'SF':\n",
    "            i[3] = 1\n",
    "        elif i[3] == 'S0':\n",
    "            i[3] = 2\n",
    "        elif i[3] == 'REJ':\n",
    "            i[3] = 3\n",
    "        elif i[3] == 'RSTR':\n",
    "            i[3] = 4\n",
    "        elif i[3] == 'RSTO':\n",
    "            i[3] = 5\n",
    "        elif i[3] == 'S1':\n",
    "            i[3] = 6\n",
    "        elif i[3] == 'SH':\n",
    "            i[3] = 7\n",
    "        elif i[3] == 'S2':\n",
    "            i[3] = 8\n",
    "        elif i[3] == 'RSTOS0':\n",
    "            i[3] = 9\n",
    "        elif i[3] == 'S3':\n",
    "            i[3] = 10\n",
    "        elif i[3] == 'OTH':\n",
    "            i[3] = 11\n",
    "\n",
    "        # print(i)\n",
    "        list1.append(i)\n",
    "        col1.append(i[1])\n",
    "        col2.append(i[2])\n",
    "        col3.append(i[3])\n",
    "    return list1, col1, col2, col3\n"
   ]
  },
  {
   "cell_type": "code",
   "execution_count": 6,
   "metadata": {},
   "outputs": [],
   "source": [
    "def convert_list_to_array(list1):\n",
    "    arrays = np.array(list1)\n",
    "    return arrays"
   ]
  },
  {
   "cell_type": "code",
   "execution_count": 7,
   "metadata": {},
   "outputs": [],
   "source": [
    "def plots(value1, value2, loss_or_acc, epochs):\n",
    "    plt.plot(epochs, value1, 'b', label='training %s'%loss_or_acc)\n",
    "    plt.plot(epochs, value2, 'bo', label='validation %s'%loss_or_acc)\n",
    "    plt.xlabel('Epochs')\n",
    "    plt.ylabel('%s'%loss_or_acc)\n",
    "    if loss_or_acc == 'Accuracy' or loss_or_acc == 'accuracy' or loss_or_acc == 'acc':\n",
    "        plt.axis([0, 40, 0, 1.1])\n",
    "    plt.title('Training and validation %s'%loss_or_acc)\n",
    "    plt.legend()\n",
    "    plt.show()"
   ]
  },
  {
   "cell_type": "code",
   "execution_count": 8,
   "metadata": {},
   "outputs": [],
   "source": [
    "def make_cluster(labels_with_cluster, num_cluster, n_column):\n",
    "    array_cluster = np.copy(labels_with_cluster)\n",
    "#     print(array_cluster.shape)\n",
    "    clusters = []\n",
    "    for index in range(len(array_cluster)):\n",
    "        if array_cluster[index, n_column] == num_cluster:\n",
    "            clusters.append(array_cluster[index])\n",
    "    return convert_list_to_array(clusters)"
   ]
  },
  {
   "cell_type": "code",
   "execution_count": 9,
   "metadata": {},
   "outputs": [],
   "source": [
    "def cut_cluster_column(cluster_with_cluster_label, cluster_col_num):\n",
    "    list1 = []\n",
    "    for index in cluster_with_cluster_label:\n",
    "        list1.append(index[:cluster_col_num])\n",
    "    return convert_list_to_array(list1)"
   ]
  },
  {
   "cell_type": "code",
   "execution_count": 10,
   "metadata": {},
   "outputs": [],
   "source": [
    "def nominal_labels_2_numeric(labels):\n",
    "    lst_label = np.copy(labels)\n",
    "    for i in range(len(lst_label)):\n",
    "        if lst_label[i] == 'normal':\n",
    "            lst_label[i] = 0\n",
    "        if lst_label[i] == 'dos':\n",
    "            lst_label[i] = 1\n",
    "        if lst_label[i] == 'probe':\n",
    "            lst_label[i] = 2\n",
    "        if lst_label[i] == 'r2l':\n",
    "            lst_label[i] = 3\n",
    "        if lst_label[i] == 'u2r':\n",
    "            lst_label[i] = 4\n",
    "    return(convert_list_to_array(list1=lst_label))"
   ]
  },
  {
   "cell_type": "code",
   "execution_count": 11,
   "metadata": {},
   "outputs": [],
   "source": [
    "def cut_label(cluster_with_label, cut_col):\n",
    "    lst = []\n",
    "    for i in cluster_with_label:\n",
    "        lst.append(i[cut_col:cut_col+1])\n",
    "    return convert_list_to_array(lst)\n",
    "        "
   ]
  },
  {
   "cell_type": "code",
   "execution_count": 12,
   "metadata": {},
   "outputs": [],
   "source": [
    "def get_labels(data):\n",
    "    label_list = []\n",
    "    for i1 in data:\n",
    "        label_list.append(i1[41])\n",
    "    return label_list"
   ]
  },
  {
   "cell_type": "code",
   "execution_count": 13,
   "metadata": {},
   "outputs": [],
   "source": [
    "def convert_labels_to_5_class(data):\n",
    "    lst_label = np.copy(data)\n",
    "    for index in range(len(lst_label)):\n",
    "        if lst_label[index] == 'back' or lst_label[index] =='land' or lst_label[index] == 'neptune' or lst_label[index] == 'pod' or lst_label[index] == 'smurf' or lst_label[index] == 'teardrop' or lst_label[index] == 'apache2' or lst_label[index] == 'udpstorm' or lst_label[index] == 'processtable' or lst_label[index] == 'worm' or lst_label[index] == 'mailbomb':\n",
    "            lst_label[index] = 'dos'\n",
    "                \n",
    "        if lst_label[index] == 'buffer_overflow' or lst_label[index] == 'loadmodule' or lst_label[index] == 'perl' or lst_label[index] ==  'rootkit' or lst_label[index] == 'sqlattack' or lst_label[index] == 'xterm' or lst_label[index] == 'ps':\n",
    "            lst_label[index] = 'u2r'\n",
    "                \n",
    "        if lst_label[index] == 'guess_passwd' or lst_label[index] == 'ftp_write' or lst_label[index] == 'imap' or lst_label[index] == 'phf' or lst_label[index] == 'multihop' or lst_label[index] == 'spy' or lst_label[index] == 'warezclient' or lst_label[index] == 'warezmaster' or lst_label[index] == 'xlock' or lst_label[index] == 'xsnoop' or lst_label[index] == 'snmpguess' or lst_label[index] == 'snmpgetattack' or lst_label[index] == 'httptunnel' or lst_label[index] == 'sendmail' or lst_label[index] == 'named':\n",
    "            lst_label[index] = 'r2l'\n",
    "            \n",
    "        if lst_label[index] == 'ipsweep' or lst_label[index] == 'nmap' or lst_label[index] == 'portsweep' or lst_label[index] == 'satan' or lst_label[index] == 'mscan' or lst_label[index] == 'saint':\n",
    "            lst_label[index] = 'probe'\n",
    "    return lst_label"
   ]
  },
  {
   "cell_type": "code",
   "execution_count": 14,
   "metadata": {},
   "outputs": [],
   "source": [
    "# def newsig(weight_matrix):\n",
    "#     return 10 * (1 / (1 + (K.exp(-0.0001 * weight_matrix))))\n",
    "def initializer(weight_matrix):\n",
    "    return K.random_uniform(shape=weight_matrix, minval=-1.2, maxval=0.8, seed=(142))\n",
    "\n",
    "from keras.optimizers import Adam, SGD\n",
    "adam = Adam(lr=0.001, beta_1=0.8, beta_2=0.899, epsilon=None, decay=0.0, amsgrad=False)\n",
    "def build_model(loss_function):\n",
    "    model = Sequential()\n",
    "    model.add(Dense(25, activation='relu',\n",
    "                    kernel_initializer=initializer,\n",
    "                    bias_initializer='zeros',\n",
    "                    input_shape=(25, )))\n",
    "    model.add(Dense(15, activation='relu',\n",
    "                    kernel_initializer=initializer,\n",
    "                    bias_initializer='zeros'))\n",
    "    model.add(Dense(15, activation='relu',\n",
    "                    kernel_initializer=initializer,\n",
    "                    bias_initializer='zeros'))\n",
    "    model.add(Dense(25, activation='relu',\n",
    "                    kernel_initializer=initializer,\n",
    "                    bias_initializer='zeros'))\n",
    "    model.add(Dense(15, activation='relu',\n",
    "                    kernel_initializer=initializer,\n",
    "                    bias_initializer='zeros'))\n",
    "    model.add(Dense(10, activation='relu',\n",
    "                    kernel_initializer=initializer,\n",
    "                    bias_initializer='zeros'))\n",
    "    model.add(Dense(5, activation='sigmoid',\n",
    "                    kernel_initializer=initializer,\n",
    "                    bias_initializer='zeros'))\n",
    "    \n",
    "    model.compile(optimizer=adam, loss=loss_function, metrics=['accuracy'])\n",
    "    return model\n",
    "\n",
    "\n",
    "\n",
    "def build_model2(loss_function):\n",
    "    model2 = Sequential()\n",
    "    model2.add(Dense(25, activation='sigmoid',\n",
    "                     kernel_initializer=initializer,\n",
    "                     bias_initializer='zeros',\n",
    "                     input_shape=(25, )))\n",
    "    model2.add(Dense(15, activation='sigmoid',\n",
    "                     kernel_initializer=initializer,\n",
    "                     bias_initializer='zeros'))\n",
    "    model2.add(Dense(15, activation='sigmoid',\n",
    "                     kernel_initializer=initializer,\n",
    "                     bias_initializer='zeros'))\n",
    "    model2.add(Dense(25, activation='sigmoid',\n",
    "                     kernel_initializer=initializer,\n",
    "                     bias_initializer='zeros'))\n",
    "    model2.add(Dense(15, activation='sigmoid',\n",
    "                     kernel_initializer=initializer,\n",
    "                     bias_initializer='zeros'))\n",
    "    model2.add(Dense(10, activation='sigmoid',\n",
    "                     kernel_initializer=initializer,\n",
    "                     bias_initializer='zeros'))\n",
    "    model2.add(Dense(5, activation='linear',\n",
    "                     kernel_initializer=initializer,\n",
    "                     bias_initializer='zeros'))\n",
    "    \n",
    "    model2.compile(optimizer=adam, loss=loss_function, metrics=['accuracy'])\n",
    "    return model2\n",
    "\n",
    "\n",
    "\n",
    "\n",
    "def k_fold(k_num, train_datas, train_labels, epochs, build_models, loss_func='categorical_crossentropy',\n",
    "           batch_size=128):\n",
    "    num_validation_samples = len(train_datas) // k_num\n",
    "    loss_list = []\n",
    "    val_loss_list = []\n",
    "    acc_list = []\n",
    "    val_acc_list = []\n",
    "    all_scores = []\n",
    "    print('training... please wait')\n",
    "    for i in range(k_num):\n",
    "        val_datas = train_datas[i * num_validation_samples:(i + 1) * num_validation_samples]\n",
    "        val_labels = train_labels[i * num_validation_samples:(i + 1) * num_validation_samples]\n",
    "        \n",
    "        partial_train_datas = np.concatenate([train_datas[:i * num_validation_samples],\n",
    "                                              train_datas[(i + 1) * num_validation_samples:]],\n",
    "                                             axis=0)\n",
    "        partial_train_labels = np.concatenate([train_labels[:i * num_validation_samples],\n",
    "                                               train_labels[(i + 1) * num_validation_samples:]],\n",
    "                                              axis=0)\n",
    "        network = build_models(loss_function=loss_func)\n",
    "        historys = network.fit(partial_train_datas, partial_train_labels,\n",
    "                              epochs=epochs,\n",
    "                              batch_size=batch_size,\n",
    "                              verbose=0,\n",
    "                              validation_data=(val_datas, val_labels))\n",
    "        _, val_accus = network.evaluate(val_datas, val_labels)\n",
    "        losses = historys.history['loss']\n",
    "        val_losses = historys.history['val_loss']\n",
    "        accs = historys.history['acc']\n",
    "        val_accs = historys.history['val_acc']\n",
    "        \n",
    "        loss_list.append(losses)\n",
    "        val_loss_list.append(val_losses)\n",
    "        acc_list.append(accs)\n",
    "        val_acc_list.append(val_accs)\n",
    "        all_scores.append(val_accus)\n",
    "    print('train finished')\n",
    "    return all_scores, loss_list, val_loss_list, acc_list, val_acc_list\n",
    "\n",
    "def averages(data, num_epochs):\n",
    "    avrg = [np.mean([x[i] for x in data]) for i in range(num_epochs)]\n",
    "    return avrg"
   ]
  },
  {
   "cell_type": "code",
   "execution_count": 15,
   "metadata": {},
   "outputs": [],
   "source": [
    "def metrics_binary_1node(y_pred, y_test):\n",
    "    if not np.array(y_pred).shape[0] == np.array(y_test).shape[0]:\n",
    "        print('Error, prediction shape must be equal to y_test shape')\n",
    "        exit(-1)\n",
    "\n",
    "    TP = 0.\n",
    "    TN = 0.\n",
    "    FP = 0.\n",
    "    FN = 0.\n",
    "#     for i in range(len(y_test)):\n",
    "    for i in range(y_test.shape[0]):\n",
    "        if np.argmax(y_pred[i]) == np.argmax(y_test[i]):\n",
    "            if np.argmax(y_test[i]) == 0:\n",
    "                TN += 1\n",
    "            else:\n",
    "                TP += 1\n",
    "        else:\n",
    "            if np.argmax(y_test[i]) == 0:\n",
    "                FP += 1\n",
    "            else:\n",
    "                FN += 1\n",
    "    confuion_matrix = np.array([[TP, FP], [FN, TN]])\n",
    "    P = TP + FN\n",
    "    N = FP + TN\n",
    "    P_hat = TP + FP\n",
    "    N_hat = FN + TN\n",
    "    # precision = positive predictive value (PPV) = TP / P-hat\n",
    "    precision = TP / (P_hat + 1e-7)  # P_hat = TP + FP -> TP / (TP + FP)\n",
    "    print('precision', precision)\n",
    "    # False pos rate = false acceptance = type I error rate = FP / N = 1-spec\n",
    "    FPR = FP / (N + 1e-7)  # -> FP / (FP + TN)\n",
    "    print('FPR', FPR)\n",
    "    # Sensitivity = recall = True pos rate = hit rate = TP / P = 1-FNR\n",
    "    TPR = sensitivity = recall = TP / (P + 1e-7)  # -> TP / (TP + FN)\n",
    "    # TPR = sensitivity  # Recall\n",
    "    print('TPR', TPR)\n",
    "    print('Recall', recall)\n",
    "    # False neg rate = false rejection = type II error rate = FN / P = 1-TPR\n",
    "    FNR = FN / (P + 1e-7)  # -> FN / (TP + FN)\n",
    "    print('FNR', FNR)\n",
    "    # Specificity = TN / N = 1 - FPR\n",
    "    specificity = TN / (N + 1e-7)  # -> TN / (FP + TN)\n",
    "    print('specificity', specificity)\n",
    "    # Accuracy = (TP+TN)/(P+N) -> same as success rate\n",
    "    accuracy = (TP + TN) / (P + N + 1e-7)  # -> (TP + TN) / (TP + FN + FP + TN)\n",
    "    print('accuracy', accuracy)\n",
    "    # F-score or F-measure is the harmonic mean of the precision and recall\n",
    "    # F_score = (2 * precision * TPR) / (precision + TPR)\n",
    "    F_score = (2.0 * precision * recall) / (precision + recall + 1e-7)\n",
    "    print('F_score', F_score)\n",
    "    print('FN', FN)\n",
    "    print('FP', FP)\n",
    "    print('TP', TP)\n",
    "    print('TN', TN)\n",
    "    \n",
    "    observed_accuracy = (TP + TN) / (TP + FP + FN + TN)\n",
    "    po=observed_accuracy\n",
    "    denominator=np.power((TP + FP + FN + TN),2)\n",
    "    expected_accuracy = [(TP + FP)*(TP + FN) + (FN + TN)*(FP + TN)] / denominator\n",
    "    pe=expected_accuracy\n",
    "    Cohens_kappa = (po - pe)/(1 - pe)\n",
    "    print('Cohens_kappa',Cohens_kappa)\n",
    "\n",
    "    return F_score,accuracy,specificity,FNR,TPR,FPR,precision,Cohens_kappa"
   ]
  },
  {
   "cell_type": "code",
   "execution_count": 16,
   "metadata": {},
   "outputs": [],
   "source": [
    "def s_and_sum_s(s):\n",
    "    list_s = []\n",
    "    sum_s = np.sum(s)\n",
    "    for i in range(len(s)):\n",
    "    #     print(i + 1, ':  ', s[i] / sum_s)\n",
    "        list_s.append(s[i] / sum_s)\n",
    "\n",
    "\n",
    "\n",
    "    a = 0\n",
    "    counter_for = 1\n",
    "    for i in list_s:\n",
    "        a = a + i\n",
    "        print(counter_for, ':  ', a)\n",
    "        counter_for += 1\n",
    "    return list_s"
   ]
  },
  {
   "cell_type": "code",
   "execution_count": 17,
   "metadata": {},
   "outputs": [],
   "source": [
    "import tensorflow as tf\n",
    "import random as rn\n",
    "\n",
    "os.environ['PYTHONHASHSEED'] = '0'\n",
    "\n",
    "# Setting the seed for numpy-generated random numbers\n",
    "np.random.seed(37)\n",
    "\n",
    "# Setting the seed for python random numbers\n",
    "rn.seed(1254)\n",
    "\n",
    "# Setting the graph-level random seed.\n",
    "tf.set_random_seed(89)\n",
    "\n",
    "from keras import backend as K\n",
    "\n",
    "session_conf = tf.ConfigProto(\n",
    "      intra_op_parallelism_threads=1,\n",
    "      inter_op_parallelism_threads=1)\n",
    "\n",
    "#Force Tensorflow to use a single thread\n",
    "sess = tf.Session(graph=tf.get_default_graph(), config=session_conf)\n",
    "\n",
    "K.set_session(sess)"
   ]
  },
  {
   "cell_type": "code",
   "execution_count": 18,
   "metadata": {},
   "outputs": [
    {
     "name": "stdout",
     "output_type": "stream",
     "text": [
      "Counter({'normal': 67343, 'dos': 45927, 'probe': 11656, 'r2l': 995, 'u2r': 52})\n",
      "******************************************************************\n",
      "Counter({'normal': 9711, 'dos': 7460, 'r2l': 2885, 'probe': 2421, 'u2r': 67})\n",
      "------------------------------------------------------------------\n",
      "Counter({'0': 67343, '1': 45927, '2': 11656, '3': 995, '4': 52})\n",
      "******************************************************************\n",
      "Counter({'0': 9711, '1': 7460, '3': 2885, '2': 2421, '4': 67})\n"
     ]
    }
   ],
   "source": [
    "train_labels_list = get_labels(traindata_labels)\n",
    "test_labels_list = get_labels(testdata_labels)\n",
    "train_labels = convert_labels_to_5_class(train_labels_list)\n",
    "test_labels = convert_labels_to_5_class(test_labels_list)\n",
    "\n",
    "print(Counter(train_labels))\n",
    "print('******************************************************************')\n",
    "print(Counter(test_labels))\n",
    "\n",
    "train_numerical_label = nominal_labels_2_numeric(train_labels)\n",
    "test_numerical_label = nominal_labels_2_numeric(test_labels)\n",
    "print('------------------------------------------------------------------')\n",
    "print(Counter(train_numerical_label))\n",
    "print('******************************************************************')\n",
    "print(Counter(test_numerical_label))"
   ]
  },
  {
   "cell_type": "code",
   "execution_count": 19,
   "metadata": {},
   "outputs": [],
   "source": [
    "X_train_data, _, _, _ = convert_nominal_to_numerical(train_X)\n",
    "X_test_data, _, _, _ = convert_nominal_to_numerical(test_X)"
   ]
  },
  {
   "cell_type": "code",
   "execution_count": 20,
   "metadata": {},
   "outputs": [
    {
     "name": "stdout",
     "output_type": "stream",
     "text": [
      "['0' '1' '1' '1' '287' '2251' '0' '0' '0' '0' '0' '1' '0' '0' '0' '0' '0'\n",
      " '0' '0' '0' '0' '0' '3' '7' '0.00' '0.00' '0.00' '0.00' '1.00' '0.00'\n",
      " '0.43' '8' '219' '1.00' '0.00' '0.12' '0.03' '0.00' '0.00' '0.00' '0.00']\n",
      "(22544, 41)\n"
     ]
    }
   ],
   "source": [
    "print(X_train_data[12])\n",
    "print(np.array(X_test_data).shape)"
   ]
  },
  {
   "cell_type": "code",
   "execution_count": 21,
   "metadata": {},
   "outputs": [
    {
     "name": "stdout",
     "output_type": "stream",
     "text": [
      "(125973, 42)\n"
     ]
    }
   ],
   "source": [
    "train_numerical_label_reshaped = np.reshape(train_numerical_label, (-1, 1))\n",
    "X_train_data = np.hstack((X_train_data, train_numerical_label_reshaped))\n",
    "print(X_train_data.shape)"
   ]
  },
  {
   "cell_type": "code",
   "execution_count": 22,
   "metadata": {},
   "outputs": [
    {
     "name": "stdout",
     "output_type": "stream",
     "text": [
      "0\n"
     ]
    }
   ],
   "source": [
    "print(X_train_data[420][41])"
   ]
  },
  {
   "cell_type": "code",
   "execution_count": 23,
   "metadata": {},
   "outputs": [],
   "source": [
    "# Over-sampling\n",
    "lst_prob = []\n",
    "lst_r2l = []\n",
    "lst_u2r = []\n",
    "for i in range(len(X_train_data)):\n",
    "    if X_train_data[i][41] == '2':\n",
    "        lst_prob.append(X_train_data[i])\n",
    "    if X_train_data[i][41] == '3':\n",
    "        lst_r2l.append(X_train_data[i])\n",
    "    if X_train_data[i][41] == '4':\n",
    "        lst_u2r.append(X_train_data[i])"
   ]
  },
  {
   "cell_type": "code",
   "execution_count": 24,
   "metadata": {},
   "outputs": [
    {
     "name": "stdout",
     "output_type": "stream",
     "text": [
      "(52, 42)\n"
     ]
    }
   ],
   "source": [
    "print(np.array(lst_u2r).shape)"
   ]
  },
  {
   "cell_type": "code",
   "execution_count": 25,
   "metadata": {},
   "outputs": [],
   "source": [
    "# prob = cut_cluster_column(lst_prob, 41)\n",
    "# r2l = cut_cluster_column(lst_r2l, 41)\n",
    "# u2r = cut_cluster_column(lst_u2r, 41)\n",
    "prob = convert_list_to_array(lst_prob)\n",
    "r2l = convert_list_to_array(lst_r2l)\n",
    "u2r = convert_list_to_array(lst_u2r)"
   ]
  },
  {
   "cell_type": "code",
   "execution_count": 26,
   "metadata": {},
   "outputs": [
    {
     "name": "stdout",
     "output_type": "stream",
     "text": [
      "(11656, 42)\n",
      "(995, 42)\n",
      "(52, 42)\n"
     ]
    }
   ],
   "source": [
    "print(prob.shape)\n",
    "print(r2l.shape)\n",
    "print(u2r.shape)"
   ]
  },
  {
   "cell_type": "code",
   "execution_count": 27,
   "metadata": {},
   "outputs": [
    {
     "name": "stdout",
     "output_type": "stream",
     "text": [
      "(125973, 42)\n"
     ]
    }
   ],
   "source": [
    "print(X_train_data.shape)"
   ]
  },
  {
   "cell_type": "code",
   "execution_count": 28,
   "metadata": {},
   "outputs": [],
   "source": [
    "prob = np.vstack((prob, prob))\n",
    "np.random.seed(seed=42)\n",
    "np.random.shuffle(prob)"
   ]
  },
  {
   "cell_type": "code",
   "execution_count": 29,
   "metadata": {},
   "outputs": [],
   "source": [
    "r2l = np.vstack((r2l, r2l, r2l, r2l, r2l, r2l, r2l, r2l, r2l, r2l, r2l, r2l, r2l, r2l, r2l, r2l, r2l, r2l, r2l, r2l,\n",
    "                 r2l, r2l, r2l, r2l, r2l, r2l, r2l, r2l, r2l, r2l, r2l, r2l, r2l, r2l, r2l, r2l, r2l, r2l, r2l, r2l))\n",
    "np.random.shuffle(r2l)"
   ]
  },
  {
   "cell_type": "code",
   "execution_count": 30,
   "metadata": {},
   "outputs": [],
   "source": [
    "u2r = np.vstack((u2r, u2r, u2r, u2r, u2r, u2r, u2r, u2r, u2r, u2r, u2r, u2r, u2r, u2r, u2r, u2r, u2r, u2r, u2r, u2r,\n",
    "                 u2r, u2r, u2r, u2r, u2r, u2r, u2r, u2r, u2r, u2r, u2r, u2r, u2r, u2r, u2r, u2r, u2r, u2r, u2r, u2r,\n",
    "                 u2r, u2r, u2r, u2r, u2r, u2r, u2r, u2r, u2r, u2r, u2r, u2r, u2r, u2r, u2r, u2r, u2r, u2r, u2r, u2r,\n",
    "                 u2r, u2r, u2r, u2r, u2r, u2r, u2r, u2r, u2r, u2r, u2r, u2r, u2r, u2r, u2r, u2r, u2r, u2r, u2r, u2r,\n",
    "                 u2r, u2r, u2r, u2r, u2r, u2r, u2r, u2r, u2r, u2r, u2r, u2r, u2r, u2r, u2r, u2r, u2r, u2r, u2r, u2r,\n",
    "                 u2r, u2r, u2r, u2r, u2r, u2r, u2r, u2r, u2r, u2r, u2r, u2r, u2r, u2r, u2r, u2r, u2r, u2r, u2r, u2r,\n",
    "                 u2r, u2r, u2r, u2r, u2r, u2r, u2r, u2r, u2r, u2r, u2r, u2r, u2r, u2r, u2r, u2r, u2r, u2r, u2r, u2r,\n",
    "                 u2r, u2r, u2r, u2r, u2r, u2r, u2r, u2r, u2r, u2r, u2r, u2r, u2r, u2r, u2r, u2r, u2r, u2r, u2r, u2r,\n",
    "                 u2r, u2r, u2r, u2r, u2r, u2r, u2r, u2r, u2r, u2r, u2r, u2r, u2r, u2r, u2r, u2r, u2r, u2r, u2r, u2r,\n",
    "                 u2r, u2r, u2r, u2r, u2r, u2r, u2r, u2r, u2r, u2r, u2r, u2r, u2r, u2r, u2r, u2r, u2r, u2r, u2r, u2r,\n",
    "                 u2r, u2r, u2r, u2r, u2r, u2r, u2r, u2r, u2r, u2r, u2r, u2r, u2r, u2r, u2r, u2r, u2r, u2r, u2r, u2r,\n",
    "                 u2r, u2r, u2r, u2r, u2r, u2r, u2r, u2r, u2r, u2r, u2r, u2r, u2r, u2r, u2r, u2r, u2r, u2r, u2r, u2r,\n",
    "                 u2r, u2r, u2r, u2r, u2r, u2r, u2r, u2r, u2r, u2r, u2r, u2r, u2r, u2r, u2r, u2r, u2r, u2r, u2r, u2r,\n",
    "                 u2r, u2r, u2r, u2r, u2r, u2r, u2r, u2r, u2r, u2r, u2r, u2r, u2r, u2r, u2r, u2r, u2r, u2r, u2r, u2r,\n",
    "                 u2r, u2r, u2r, u2r, u2r, u2r, u2r, u2r, u2r, u2r, u2r, u2r, u2r, u2r, u2r, u2r, u2r, u2r, u2r, u2r,\n",
    "                 u2r, u2r, u2r, u2r, u2r, u2r, u2r, u2r, u2r, u2r, u2r, u2r, u2r, u2r, u2r, u2r, u2r, u2r, u2r, u2r,\n",
    "                 u2r, u2r, u2r, u2r, u2r, u2r, u2r, u2r, u2r, u2r, u2r, u2r, u2r, u2r, u2r, u2r, u2r, u2r, u2r, u2r,\n",
    "                 u2r, u2r, u2r, u2r, u2r, u2r, u2r, u2r, u2r, u2r, u2r, u2r, u2r, u2r, u2r, u2r, u2r, u2r, u2r, u2r,\n",
    "                 u2r, u2r, u2r, u2r, u2r, u2r, u2r, u2r, u2r, u2r, u2r, u2r, u2r, u2r, u2r, u2r, u2r, u2r, u2r, u2r,\n",
    "                 u2r, u2r, u2r, u2r, u2r, u2r, u2r, u2r, u2r, u2r, u2r, u2r, u2r, u2r, u2r, u2r, u2r, u2r, u2r, u2r))\n",
    "np.random.shuffle(u2r)"
   ]
  },
  {
   "cell_type": "code",
   "execution_count": 31,
   "metadata": {},
   "outputs": [],
   "source": [
    "X_train_data = np.vstack((X_train_data, prob, r2l, u2r))"
   ]
  },
  {
   "cell_type": "code",
   "execution_count": 32,
   "metadata": {},
   "outputs": [
    {
     "name": "stdout",
     "output_type": "stream",
     "text": [
      "(209885, 42)\n"
     ]
    }
   ],
   "source": [
    "print(X_train_data.shape)"
   ]
  },
  {
   "cell_type": "code",
   "execution_count": 33,
   "metadata": {},
   "outputs": [],
   "source": [
    "train_numerical_label = get_labels(X_train_data)"
   ]
  },
  {
   "cell_type": "code",
   "execution_count": 34,
   "metadata": {},
   "outputs": [
    {
     "name": "stdout",
     "output_type": "stream",
     "text": [
      "(209885,)\n"
     ]
    }
   ],
   "source": [
    "print(np.array(train_numerical_label).shape)"
   ]
  },
  {
   "cell_type": "code",
   "execution_count": 35,
   "metadata": {},
   "outputs": [
    {
     "name": "stdout",
     "output_type": "stream",
     "text": [
      "['0', '0', '1', '0', '0', '1', '1', '1', '1', '1', '1', '1', '0', '3', '1', '1', '0', '2', '0', '0']\n",
      "Counter({'0': 67343, '1': 45927, '3': 40795, '2': 34968, '4': 20852})\n"
     ]
    }
   ],
   "source": [
    "print(train_numerical_label[:20])\n",
    "print(Counter(train_numerical_label))"
   ]
  },
  {
   "cell_type": "code",
   "execution_count": 36,
   "metadata": {},
   "outputs": [],
   "source": [
    "train_numerical_label = convert_list_to_array(train_numerical_label)\n",
    "X_train_data = cut_cluster_column(X_train_data, 41)"
   ]
  },
  {
   "cell_type": "code",
   "execution_count": 37,
   "metadata": {},
   "outputs": [
    {
     "name": "stdout",
     "output_type": "stream",
     "text": [
      "(209885, 41)\n"
     ]
    }
   ],
   "source": [
    "print(X_train_data.shape)"
   ]
  },
  {
   "cell_type": "code",
   "execution_count": 38,
   "metadata": {},
   "outputs": [],
   "source": [
    "normalizer_scalers = MinMaxScaler()"
   ]
  },
  {
   "cell_type": "code",
   "execution_count": 39,
   "metadata": {},
   "outputs": [
    {
     "name": "stderr",
     "output_type": "stream",
     "text": [
      "/home/siamak/Projects/PycharmProjects/deep/lib/python3.6/site-packages/sklearn/utils/validation.py:475: DataConversionWarning: Data with input dtype <U15 was converted to float64 by MinMaxScaler.\n",
      "  warnings.warn(msg, DataConversionWarning)\n"
     ]
    },
    {
     "data": {
      "text/plain": [
       "MinMaxScaler(copy=True, feature_range=(0, 1))"
      ]
     },
     "execution_count": 39,
     "metadata": {},
     "output_type": "execute_result"
    }
   ],
   "source": [
    "normalizer_scalers.fit(X_train_data)"
   ]
  },
  {
   "cell_type": "code",
   "execution_count": 40,
   "metadata": {},
   "outputs": [],
   "source": [
    "normalizer_normalized_X = normalizer_scalers.transform(X_train_data)\n",
    "normalizer_normalized_X_test = normalizer_scalers.transform(X_test_data)\n",
    "normalizer_normalized_X = normalizer_normalized_X.astype('float32')\n",
    "normalizer_normalized_X_test = normalizer_normalized_X_test.astype('float32')"
   ]
  },
  {
   "cell_type": "code",
   "execution_count": 41,
   "metadata": {
    "scrolled": false
   },
   "outputs": [
    {
     "name": "stdout",
     "output_type": "stream",
     "text": [
      "[0.    0.    0.    0.    0.    0.    0.    0.    0.    0.    0.    1.\n",
      " 0.    0.    0.    0.    0.    0.    0.    0.    0.    0.    0.006 0.014\n",
      " 0.    0.    0.    0.    1.    0.    0.43  0.031 0.859 1.    0.    0.12\n",
      " 0.03  0.    0.    0.    0.   ]\n"
     ]
    }
   ],
   "source": [
    "print(normalizer_normalized_X[12])"
   ]
  },
  {
   "cell_type": "code",
   "execution_count": 42,
   "metadata": {},
   "outputs": [],
   "source": [
    "U_train, s_train, V_train = np.linalg.svd(normalizer_normalized_X, full_matrices=False)\n",
    "U_test, s_test, V_test = np.linalg.svd(normalizer_normalized_X_test, full_matrices=False)"
   ]
  },
  {
   "cell_type": "code",
   "execution_count": 43,
   "metadata": {},
   "outputs": [
    {
     "name": "stdout",
     "output_type": "stream",
     "text": [
      "(209885, 41)\n",
      "(22544, 41)\n"
     ]
    }
   ],
   "source": [
    "print(U_train.shape)\n",
    "print(U_test.shape)"
   ]
  },
  {
   "cell_type": "code",
   "execution_count": 44,
   "metadata": {},
   "outputs": [
    {
     "name": "stdout",
     "output_type": "stream",
     "text": [
      "1 :   0.1997678130865097\n",
      "2 :   0.33153609931468964\n",
      "3 :   0.4328949898481369\n",
      "4 :   0.5077635571360588\n",
      "5 :   0.5706035569310188\n",
      "6 :   0.6228499449789524\n",
      "7 :   0.660377249121666\n",
      "8 :   0.6943336874246597\n",
      "9 :   0.725265497341752\n",
      "10 :   0.7540298514068127\n",
      "11 :   0.7802253309637308\n",
      "12 :   0.8019809182733297\n",
      "13 :   0.822196589782834\n",
      "14 :   0.8401552140712738\n",
      "15 :   0.8568278532475233\n",
      "16 :   0.873005660250783\n",
      "17 :   0.887196121737361\n",
      "18 :   0.9004504485055804\n",
      "19 :   0.9111043009907007\n",
      "20 :   0.9210279975086451\n",
      "21 :   0.9304764848202467\n",
      "22 :   0.9395907018333673\n",
      "23 :   0.9484028657898307\n",
      "24 :   0.9565645353868604\n",
      "25 :   0.9644382586702704\n",
      "26 :   0.9715622374787927\n",
      "27 :   0.9773942935280502\n",
      "28 :   0.9817750104703009\n",
      "29 :   0.985046625835821\n",
      "30 :   0.9882197247352451\n",
      "31 :   0.990908894687891\n",
      "32 :   0.9933423530310392\n",
      "33 :   0.9951627315022051\n",
      "34 :   0.9966572806006297\n",
      "35 :   0.997887552017346\n",
      "36 :   0.9986683372990228\n",
      "37 :   0.9992353306151927\n",
      "38 :   0.9996879559475929\n",
      "39 :   0.9999882446427364\n",
      "40 :   1.0000000013242243\n",
      "41 :   1.0000000013242243\n"
     ]
    }
   ],
   "source": [
    "_ = s_and_sum_s(s_train)"
   ]
  },
  {
   "cell_type": "code",
   "execution_count": 45,
   "metadata": {},
   "outputs": [],
   "source": [
    "input_layer1 = Input(shape=(41,))\n",
    "h1 = 0\n",
    "h2 = 0\n",
    "h3 = 0\n",
    "h4 = 0\n",
    "h5 = 0\n",
    "h6 = 0 \n",
    "h7 = 0\n",
    "IDS_autoencoder1 = 0\n",
    "h1 = Dense(41, activation='relu',\n",
    "                      kernel_initializer=initializer,\n",
    "                      bias_initializer='zeros')(input_layer1)\n",
    "h2 = Dense(20, activation='relu',\n",
    "                      kernel_initializer=initializer,\n",
    "                      bias_initializer='zeros')(h1)\n",
    "\n",
    "h3 = Dense(11, activation='relu',\n",
    "                      kernel_initializer=initializer,\n",
    "                      bias_initializer='zeros')(h2)\n",
    "h4 = Dense(2, activation='relu',\n",
    "                       kernel_initializer=initializer,\n",
    "                       bias_initializer='zeros')(h3)\n",
    "h5 = Dense(11, activation='relu',\n",
    "                       kernel_initializer=initializer,\n",
    "                       bias_initializer='zeros')(h4)\n",
    "\n",
    "h6 = Dense(20, activation='relu',\n",
    "                      kernel_initializer=initializer,\n",
    "                      bias_initializer='zeros')(h5)\n",
    "h7 = Dense(41, activation='sigmoid')(h6)\n",
    "\n",
    "IDS_autoencoder1 = Model(inputs=input_layer1, outputs=h7)"
   ]
  },
  {
   "cell_type": "code",
   "execution_count": 46,
   "metadata": {},
   "outputs": [
    {
     "name": "stdout",
     "output_type": "stream",
     "text": [
      "_________________________________________________________________\n",
      "Layer (type)                 Output Shape              Param #   \n",
      "=================================================================\n",
      "input_1 (InputLayer)         (None, 41)                0         \n",
      "_________________________________________________________________\n",
      "dense_1 (Dense)              (None, 41)                1722      \n",
      "_________________________________________________________________\n",
      "dense_2 (Dense)              (None, 20)                840       \n",
      "_________________________________________________________________\n",
      "dense_3 (Dense)              (None, 11)                231       \n",
      "_________________________________________________________________\n",
      "dense_4 (Dense)              (None, 2)                 24        \n",
      "_________________________________________________________________\n",
      "dense_5 (Dense)              (None, 11)                33        \n",
      "_________________________________________________________________\n",
      "dense_6 (Dense)              (None, 20)                240       \n",
      "_________________________________________________________________\n",
      "dense_7 (Dense)              (None, 41)                861       \n",
      "=================================================================\n",
      "Total params: 3,951\n",
      "Trainable params: 3,951\n",
      "Non-trainable params: 0\n",
      "_________________________________________________________________\n"
     ]
    }
   ],
   "source": [
    "IDS_autoencoder1.compile(optimizer='adam', loss='mean_squared_error')\n",
    "IDS_autoencoder1.summary()"
   ]
  },
  {
   "cell_type": "code",
   "execution_count": 47,
   "metadata": {},
   "outputs": [
    {
     "name": "stdout",
     "output_type": "stream",
     "text": [
      "Epoch 1/30\n",
      "209885/209885 [==============================] - 3s 16us/step - loss: 0.0344\n",
      "Epoch 2/30\n",
      "209885/209885 [==============================] - 3s 15us/step - loss: 0.0165\n",
      "Epoch 3/30\n",
      "209885/209885 [==============================] - 3s 15us/step - loss: 0.0145\n",
      "Epoch 4/30\n",
      "209885/209885 [==============================] - 3s 15us/step - loss: 0.0137\n",
      "Epoch 5/30\n",
      "209885/209885 [==============================] - 3s 15us/step - loss: 0.0133\n",
      "Epoch 6/30\n",
      "209885/209885 [==============================] - 3s 15us/step - loss: 0.0131\n",
      "Epoch 7/30\n",
      "209885/209885 [==============================] - 3s 15us/step - loss: 0.0129\n",
      "Epoch 8/30\n",
      "209885/209885 [==============================] - 3s 15us/step - loss: 0.0128\n",
      "Epoch 9/30\n",
      "209885/209885 [==============================] - 3s 14us/step - loss: 0.0127\n",
      "Epoch 10/30\n",
      "209885/209885 [==============================] - 3s 15us/step - loss: 0.0126\n",
      "Epoch 11/30\n",
      "209885/209885 [==============================] - 3s 14us/step - loss: 0.0125\n",
      "Epoch 12/30\n",
      "209885/209885 [==============================] - 3s 14us/step - loss: 0.0124\n",
      "Epoch 13/30\n",
      "209885/209885 [==============================] - 3s 15us/step - loss: 0.0123\n",
      "Epoch 14/30\n",
      "209885/209885 [==============================] - 3s 14us/step - loss: 0.0122\n",
      "Epoch 15/30\n",
      "209885/209885 [==============================] - 3s 14us/step - loss: 0.0122\n",
      "Epoch 16/30\n",
      "209885/209885 [==============================] - 3s 14us/step - loss: 0.0121\n",
      "Epoch 17/30\n",
      "209885/209885 [==============================] - 3s 15us/step - loss: 0.0121\n",
      "Epoch 18/30\n",
      "209885/209885 [==============================] - 3s 14us/step - loss: 0.0121\n",
      "Epoch 19/30\n",
      "209885/209885 [==============================] - 3s 14us/step - loss: 0.0120\n",
      "Epoch 20/30\n",
      "209885/209885 [==============================] - 3s 14us/step - loss: 0.0120\n",
      "Epoch 21/30\n",
      "209885/209885 [==============================] - 3s 15us/step - loss: 0.0119\n",
      "Epoch 22/30\n",
      "209885/209885 [==============================] - 3s 14us/step - loss: 0.0115\n",
      "Epoch 23/30\n",
      "209885/209885 [==============================] - 3s 14us/step - loss: 0.0113\n",
      "Epoch 24/30\n",
      "209885/209885 [==============================] - 3s 14us/step - loss: 0.0113\n",
      "Epoch 25/30\n",
      "209885/209885 [==============================] - 3s 14us/step - loss: 0.0112\n",
      "Epoch 26/30\n",
      "209885/209885 [==============================] - 3s 14us/step - loss: 0.0112\n",
      "Epoch 27/30\n",
      "209885/209885 [==============================] - 3s 15us/step - loss: 0.0112\n",
      "Epoch 28/30\n",
      "209885/209885 [==============================] - 3s 14us/step - loss: 0.0111\n",
      "Epoch 29/30\n",
      "209885/209885 [==============================] - 3s 14us/step - loss: 0.0111\n",
      "Epoch 30/30\n",
      "209885/209885 [==============================] - 3s 14us/step - loss: 0.0111\n"
     ]
    }
   ],
   "source": [
    "AEC_hist = IDS_autoencoder1.fit(normalizer_normalized_X, normalizer_normalized_X, epochs=30, batch_size=128)"
   ]
  },
  {
   "cell_type": "code",
   "execution_count": 48,
   "metadata": {},
   "outputs": [
    {
     "data": {
      "image/png": "[encoded data removed]",
      "text/plain": [
       "<Figure size 432x288 with 1 Axes>"
      ]
     },
     "metadata": {},
     "output_type": "display_data"
    }
   ],
   "source": [
    "aec_loss = AEC_hist.history['loss']\n",
    "plt.plot(range(30), aec_loss, 'bo', label='loss')\n",
    "plt.xlabel('Epochs')\n",
    "plt.ylabel('Loss')\n",
    "plt.legend()\n",
    "plt.title('Mean squared loss')\n",
    "plt.show()"
   ]
  },
  {
   "cell_type": "code",
   "execution_count": 49,
   "metadata": {},
   "outputs": [],
   "source": [
    "# after normalized\n",
    "IDS_autoencoder2 = Model(inputs=input_layer1, outputs=h4)\n",
    "X_2d = IDS_autoencoder2.predict(normalizer_normalized_X)\n",
    "X_2d_test = IDS_autoencoder2.predict(normalizer_normalized_X_test)"
   ]
  },
  {
   "cell_type": "code",
   "execution_count": 50,
   "metadata": {},
   "outputs": [
    {
     "name": "stdout",
     "output_type": "stream",
     "text": [
      "226.25481605529785\n"
     ]
    },
    {
     "data": {
      "image/png": "[encoded data removed]",
      "text/plain": [
       "<Figure size 432x288 with 1 Axes>"
      ]
     },
     "metadata": {},
     "output_type": "display_data"
    }
   ],
   "source": [
    "# scattered after normalized\n",
    "t1 = time.time()\n",
    "for i in range(22544):\n",
    "    plt.scatter(X_2d[i][0], X_2d[i][1], color='blue')\n",
    "t2 = time.time()\n",
    "print(t2 - t1)\n",
    "plt.show()"
   ]
  },
  {
   "cell_type": "code",
   "execution_count": 51,
   "metadata": {},
   "outputs": [
    {
     "name": "stdout",
     "output_type": "stream",
     "text": [
      "226.37874960899353\n"
     ]
    },
    {
     "data": {
      "image/png": "[encoded data removed]",
      "text/plain": [
       "<Figure size 432x288 with 1 Axes>"
      ]
     },
     "metadata": {},
     "output_type": "display_data"
    }
   ],
   "source": [
    "# scattered after normalized\n",
    "t1 = time.time()\n",
    "for i in range(len(X_2d_test)):\n",
    "    plt.scatter(X_2d_test[i][0], X_2d_test[i][1], color='blue')\n",
    "t2 = time.time()\n",
    "print(t2 - t1)\n",
    "plt.show()"
   ]
  },
  {
   "cell_type": "code",
   "execution_count": 52,
   "metadata": {},
   "outputs": [],
   "source": [
    "input_layer = Input(shape=(41,))\n",
    "encoded_layer = 0 \n",
    "encoded_decoded_layer = 0\n",
    "decoded_layer = 0\n",
    "IDS_autoencoder2 = 0\n",
    "IDS_autoencoder_test = 0\n",
    "\n",
    "encoded_layer = Dense(41, activation='relu',\n",
    "                      kernel_initializer=initializer,\n",
    "                      bias_initializer='zeros')(input_layer)\n",
    "encoded_layer = Dense(30, activation='relu',\n",
    "                      kernel_initializer=initializer,\n",
    "                      bias_initializer='zeros')(encoded_layer)\n",
    "# encoded = Dense(10, activation='relu')(encoded)\n",
    "\n",
    "encoded_decoded_layer = Dense(25, activation='relu',\n",
    "                      kernel_initializer=initializer,\n",
    "                      bias_initializer='zeros')(encoded_layer)\n",
    "decoded_layer = Dense(30, activation='relu',\n",
    "                      kernel_initializer=initializer,\n",
    "                      bias_initializer='zeros')(encoded_decoded_layer)\n",
    "decoded_layer = Dense(41, activation='sigmoid',\n",
    "                      kernel_initializer=initializer,\n",
    "                      bias_initializer='zeros')(decoded_layer)\n",
    "\n",
    "IDS_autoencoder2 = Model(inputs=input_layer, outputs=decoded_layer)\n",
    "IDS_autoencoder_test = Model(inputs=input_layer, outputs=decoded_layer)"
   ]
  },
  {
   "cell_type": "code",
   "execution_count": 53,
   "metadata": {},
   "outputs": [],
   "source": [
    "IDS_autoencoder2.compile(optimizer=adam, loss='mean_squared_error')\n",
    "IDS_autoencoder_test.compile(optimizer=adam, loss='mean_squared_error')"
   ]
  },
  {
   "cell_type": "code",
   "execution_count": 54,
   "metadata": {},
   "outputs": [
    {
     "name": "stdout",
     "output_type": "stream",
     "text": [
      "Epoch 1/10\n",
      "209885/209885 [==============================] - 3s 16us/step - loss: 0.0236\n",
      "Epoch 2/10\n",
      "209885/209885 [==============================] - 3s 15us/step - loss: 0.0043\n",
      "Epoch 3/10\n",
      "209885/209885 [==============================] - 3s 14us/step - loss: 0.0039\n",
      "Epoch 4/10\n",
      "209885/209885 [==============================] - 3s 14us/step - loss: 0.0035\n",
      "Epoch 5/10\n",
      "209885/209885 [==============================] - 3s 14us/step - loss: 0.0032\n",
      "Epoch 6/10\n",
      "209885/209885 [==============================] - 3s 14us/step - loss: 0.0027\n",
      "Epoch 7/10\n",
      "209885/209885 [==============================] - 3s 15us/step - loss: 0.0023\n",
      "Epoch 8/10\n",
      "209885/209885 [==============================] - 3s 14us/step - loss: 0.0020\n",
      "Epoch 9/10\n",
      "209885/209885 [==============================] - 3s 14us/step - loss: 0.0017\n",
      "Epoch 10/10\n",
      "209885/209885 [==============================] - 3s 14us/step - loss: 0.0017\n",
      "Epoch 1/10\n",
      "22544/22544 [==============================] - 1s 25us/step - loss: 0.0039\n",
      "Epoch 2/10\n",
      "22544/22544 [==============================] - 0s 14us/step - loss: 0.0032\n",
      "Epoch 3/10\n",
      "22544/22544 [==============================] - 0s 14us/step - loss: 0.0029\n",
      "Epoch 4/10\n",
      "22544/22544 [==============================] - 0s 14us/step - loss: 0.0026\n",
      "Epoch 5/10\n",
      "22544/22544 [==============================] - 0s 13us/step - loss: 0.0025\n",
      "Epoch 6/10\n",
      "22544/22544 [==============================] - 0s 13us/step - loss: 0.0024\n",
      "Epoch 7/10\n",
      "22544/22544 [==============================] - 0s 14us/step - loss: 0.0024\n",
      "Epoch 8/10\n",
      "22544/22544 [==============================] - 0s 14us/step - loss: 0.0023\n",
      "Epoch 9/10\n",
      "22544/22544 [==============================] - 0s 14us/step - loss: 0.0023\n",
      "Epoch 10/10\n",
      "22544/22544 [==============================] - 0s 13us/step - loss: 0.0022\n"
     ]
    }
   ],
   "source": [
    "AEC2_hist = IDS_autoencoder2.fit(normalizer_normalized_X, normalizer_normalized_X,\n",
    "                                 epochs=10, batch_size=128)\n",
    "AEC_test = IDS_autoencoder_test.fit(normalizer_normalized_X_test, normalizer_normalized_X_test,\n",
    "                                    epochs=10, batch_size=128)"
   ]
  },
  {
   "cell_type": "code",
   "execution_count": 55,
   "metadata": {},
   "outputs": [],
   "source": [
    "aec2 = AEC2_hist.history['loss']\n",
    "aec_test = AEC_test.history['loss']"
   ]
  },
  {
   "cell_type": "code",
   "execution_count": 56,
   "metadata": {},
   "outputs": [
    {
     "data": {
      "image/png": "[encoded data removed]",
      "text/plain": [
       "<Figure size 432x288 with 1 Axes>"
      ]
     },
     "metadata": {},
     "output_type": "display_data"
    }
   ],
   "source": [
    "plt.plot(range(10), aec2, 'bo', label='aec2 loss')\n",
    "plt.plot(range(10), aec_test, 'r', label='aec_test_loss')\n",
    "plt.xlabel('Epochs')\n",
    "plt.ylabel('Loss')\n",
    "plt.legend()\n",
    "plt.title('encoder and test encoder loss')\n",
    "plt.show()"
   ]
  },
  {
   "cell_type": "code",
   "execution_count": 57,
   "metadata": {},
   "outputs": [
    {
     "name": "stdout",
     "output_type": "stream",
     "text": [
      "(209885, 41)\n"
     ]
    }
   ],
   "source": [
    "prd_ids2 = IDS_autoencoder2.predict(normalizer_normalized_X)\n",
    "print(prd_ids2.shape)"
   ]
  },
  {
   "cell_type": "code",
   "execution_count": 58,
   "metadata": {},
   "outputs": [
    {
     "name": "stdout",
     "output_type": "stream",
     "text": [
      "0 -- 2.0030102e-14 ************** 0.0\n",
      "1 -- 7.4000186e-14 ************** 0.0\n",
      "2 -- 0.15787686 ************** 0.1884058\n",
      "3 -- 0.076506086 ************** 0.1\n",
      "4 -- 2.2979818e-15 ************** 0.0\n",
      "5 -- 6.085084e-13 ************** 0.0\n",
      "6 -- 1.5128751e-17 ************** 0.0\n",
      "7 -- 5.540121e-24 ************** 0.0\n",
      "8 -- 7.2853203e-25 ************** 0.0\n",
      "9 -- 8.206403e-13 ************** 0.0\n",
      "10 -- 5.6138516e-26 ************** 0.0\n",
      "11 -- 2.9779662e-06 ************** 0.0\n",
      "12 -- 2.2226437e-17 ************** 0.0\n",
      "13 -- 2.7965121e-24 ************** 0.0\n",
      "14 -- 5.157949e-19 ************** 0.0\n",
      "15 -- 1.2679437e-22 ************** 0.0\n",
      "16 -- 3.4851878e-26 ************** 0.0\n",
      "17 -- 4.749082e-18 ************** 0.0\n",
      "18 -- 5.3658616e-16 ************** 0.0\n",
      "19 -- 1.5757117e-17 ************** 0.0\n",
      "20 -- 1.29958114e-17 ************** 0.0\n",
      "21 -- 1.7115585e-20 ************** 0.0\n",
      "22 -- 0.26915646 ************** 0.27201566\n",
      "23 -- 8.461296e-14 ************** 0.025440313\n",
      "24 -- 0.9999651 ************** 1.0\n",
      "25 -- 0.99870026 ************** 1.0\n",
      "26 -- 8.372685e-07 ************** 0.0\n",
      "27 -- 1.2740051e-05 ************** 0.0\n",
      "28 -- 0.07234623 ************** 0.09\n",
      "29 -- 0.09235506 ************** 0.06\n",
      "30 -- 7.145965e-17 ************** 0.0\n",
      "31 -- 0.98656124 ************** 1.0\n",
      "32 -- 0.047650315 ************** 0.050980393\n",
      "33 -- 0.05596707 ************** 0.05\n",
      "34 -- 0.0499849 ************** 0.07\n",
      "35 -- 2.2805881e-07 ************** 0.0\n",
      "36 -- 1.0274776e-12 ************** 0.0\n",
      "37 -- 0.9991879 ************** 1.0\n",
      "38 -- 0.9992803 ************** 1.0\n",
      "39 -- 8.136418e-06 ************** 0.0\n",
      "40 -- 0.001219819 ************** 0.0\n"
     ]
    }
   ],
   "source": [
    "for i in range(len(prd_ids2[0])):\n",
    "    print(i, '--', prd_ids2[310][i], '**************', normalizer_normalized_X[310][i])"
   ]
  },
  {
   "cell_type": "code",
   "execution_count": 59,
   "metadata": {},
   "outputs": [],
   "source": [
    "IDS_autoencoder3 = Model(inputs=input_layer, outputs=encoded_decoded_layer)\n",
    "ids3_pred = IDS_autoencoder3.predict(normalizer_normalized_X)\n",
    "\n",
    "IDS_autoencoder_test2 = Model(inputs=input_layer, outputs=encoded_decoded_layer)\n",
    "ids_test2_pred = IDS_autoencoder_test2.predict(normalizer_normalized_X_test)"
   ]
  },
  {
   "cell_type": "code",
   "execution_count": 60,
   "metadata": {},
   "outputs": [
    {
     "name": "stdout",
     "output_type": "stream",
     "text": [
      "(209885, 25)\n",
      "(22544, 25)\n"
     ]
    }
   ],
   "source": [
    "print(ids3_pred.shape)\n",
    "print(ids_test2_pred.shape)"
   ]
  },
  {
   "cell_type": "code",
   "execution_count": 61,
   "metadata": {},
   "outputs": [
    {
     "name": "stdout",
     "output_type": "stream",
     "text": [
      "16849.49555182457\n",
      "[0 0 1 0 0 2 1 1 1 1 2 1 0 0 1 1 0 0 0 0 1 1 0 0 1 0 1 0 0 0 0 1 0 2 0 0 0\n",
      " 1 0 1 1 1 0 0 0 1 0 0 0 1 0 2 0 0 0 0 0 1 1 0 0 2 2 0 2 0 2 1 2 1 0 1 0 0\n",
      " 1 0 1 0 0 2 0 2 1 0 0 1 0 1 2 0 0 0 0 2 1 0 0 0 0 1 0 0 2 0 0 0 0 0 0 2 0\n",
      " 0 2 0 0 2 2 0 0 0 2 2 1 0 1 0 0 0 0 0 1 2 0 0 1 1 0 0 0 1 0 2 2 0 0 0 1 0\n",
      " 0 1 1 0 1 1 1 0 0 1 0 1 0 0 0 0 1 2 0 0 0 0 1 0 0 2 1 1 2 2 0 1 0 0 0 0 0\n",
      " 1 1 1 0 0 0 0 1 1 0 0 0 0 2 0 0 1 0 0 0 0 1 0 0 1 2 0 1 0 1 1 0 0 0 0 0 1\n",
      " 0 1 0 0 0 1 0 0 0 0 0 0 0 2 1 1 0 0 0 0 1 1 1 0 1 0 1 0 0 0 0 2 1 0 0 0 2\n",
      " 0 1 0 0 2 0 0 0 0 0 1 0 2 2 0 0 0 1 1 0 0 0 1 0 0 1 0 1 1 0 2 0 1 1 0 0 0\n",
      " 0 0 0 1]\n"
     ]
    }
   ],
   "source": [
    "ms_start_time = time.time()\n",
    "ms_train = MeanShift()\n",
    "ms_train.fit(ids3_pred)\n",
    "ms_train_labels = ms_train.labels_\n",
    "ms_end_time = time.time()\n",
    "print(ms_end_time - ms_start_time)\n",
    "print(ms_train_labels[:300])"
   ]
  },
  {
   "cell_type": "code",
   "execution_count": 62,
   "metadata": {},
   "outputs": [
    {
     "name": "stdout",
     "output_type": "stream",
     "text": [
      "3\n",
      "Counter({0: 146844, 1: 35871, 2: 27170})\n"
     ]
    }
   ],
   "source": [
    "ms_train_n_cluster = len(np.unique(ms_train_labels))\n",
    "print(ms_train_n_cluster)\n",
    "print(Counter(ms_train_labels))"
   ]
  },
  {
   "cell_type": "code",
   "execution_count": 63,
   "metadata": {},
   "outputs": [
    {
     "name": "stdout",
     "output_type": "stream",
     "text": [
      "217.68659496307373\n",
      "[1 1 0 0 0 0 0 0 0 0 0 0 1 2 0 0 0 0 0 1 1 2 0 0 1 1 0 0 0 0 0 0 0 0 1 1 0\n",
      " 0 0 0 2 0 0 0 1 0 2 0 2 0 0 0 1 1 0 0 1 0 0 0 0 0 0 0 1 0 1 1 2 0 1 0 0 0\n",
      " 1 0 0 0 0 0 1 1 0 0 0 0 1 1 0 0 0 0 1 0 0 0 0 0 2 1 1 0 1 1 0 1 0 0 1 0 0\n",
      " 1 0 0 0 2 0 0 1 0 0 0 2 1 0 0 0 1 0 0 0 0 2 0 0 0 1 0 1 0 0 0 1 1 0 0 2 1\n",
      " 0 0 0 2 0 0 0 1 0 1 2 2 1 2 1 1 0 2 2 0 0 2 0 0 1 1 0 0 1 1 0 0 0 0 0 0 0\n",
      " 0 1 1 0 1 0 0 1 0 0 0 0 0 1 0 0 0 2 0 0 1 1 2 0 0 0 0 0 0 0 0 0 0 0 0 0 0\n",
      " 0 1 0 0 0 2 0 0 0 0 0 0 1 0 2 0 0 0 0 0 2 1 2 0 0 2 2 0 0 0 0 0 2 1 2 0 0\n",
      " 0 0 0 0 1 1 2 0 0 0 0 1 0 2 1 1 0 0 0 1 1 0 0 0 2 2 0 0 1 0 2 0 0 1 0 0 0\n",
      " 2 0 1 0]\n"
     ]
    }
   ],
   "source": [
    "ms_start_time = time.time()\n",
    "ms_test = MeanShift()\n",
    "ms_test.fit(ids_test2_pred)\n",
    "ms_test_labels = ms_test.labels_\n",
    "ms_end_time = time.time()\n",
    "print(ms_end_time - ms_start_time)\n",
    "print(ms_test_labels[:300])"
   ]
  },
  {
   "cell_type": "code",
   "execution_count": 64,
   "metadata": {},
   "outputs": [
    {
     "name": "stdout",
     "output_type": "stream",
     "text": [
      "3\n",
      "Counter({0: 15828, 1: 4181, 2: 2535})\n"
     ]
    }
   ],
   "source": [
    "ms_test_n_cluster = len(np.unique(ms_test_labels))\n",
    "print(ms_test_n_cluster)\n",
    "print(Counter(ms_test_labels))"
   ]
  },
  {
   "cell_type": "code",
   "execution_count": 65,
   "metadata": {},
   "outputs": [],
   "source": [
    "copysho_daram = np.copy(ms_test_labels)"
   ]
  },
  {
   "cell_type": "code",
   "execution_count": 66,
   "metadata": {},
   "outputs": [],
   "source": [
    "# for i in range(len(ms_test_labels)):\n",
    "#     if ms_test_labels[i] == 2:\n",
    "#         ms_test_labels[i]=1\n",
    "# print(copysho_daram[:20])\n",
    "# print(ms_test_labels[:20])"
   ]
  },
  {
   "cell_type": "code",
   "execution_count": 67,
   "metadata": {},
   "outputs": [],
   "source": [
    "ms_train_labels = np.reshape(ms_train_labels, (-1, 1))\n",
    "ms_test_labels = np.reshape(ms_test_labels, (-1, 1))\n",
    "\n",
    "reshaped_train_numerical_label = np.reshape(train_numerical_label, (-1, 1))\n",
    "reshaped_test_numerical_label = np.reshape(test_numerical_label, (-1, 1))\n",
    "\n",
    "#stack train and test data with its labels\n",
    "stacked_train_data_and_label = np.hstack((ids3_pred, reshaped_train_numerical_label))\n",
    "stacked_test_data_and_label = np.hstack((ids_test2_pred, reshaped_test_numerical_label))\n",
    "\n",
    "# stack train and test data that stacked in the last step with meanshift's labels \n",
    "stacked_train_array = np.hstack((stacked_train_data_and_label, ms_train_labels))\n",
    "stacked_test_array = np.hstack((stacked_test_data_and_label, ms_test_labels))"
   ]
  },
  {
   "cell_type": "code",
   "execution_count": 68,
   "metadata": {},
   "outputs": [
    {
     "name": "stdout",
     "output_type": "stream",
     "text": [
      "(209885, 27)\n",
      "(22544, 27)\n"
     ]
    }
   ],
   "source": [
    "print(stacked_train_array.shape)\n",
    "print(stacked_test_array.shape)"
   ]
  },
  {
   "cell_type": "code",
   "execution_count": 69,
   "metadata": {},
   "outputs": [],
   "source": [
    "# make train cluster\n",
    "cluster_train_0 = make_cluster(stacked_train_array, str(0), 26)\n",
    "cluster_train_1 = make_cluster(stacked_train_array, str(1), 26)\n",
    "cluster_train_2 = make_cluster(stacked_train_array, str(2), 26)\n",
    "\n",
    "cluster_train_0_ready = cut_cluster_column(cluster_train_0, 25)\n",
    "cluster_train_1_ready = cut_cluster_column(cluster_train_1, 25)\n",
    "cluster_train_2_ready = cut_cluster_column(cluster_train_2, 25)\n",
    "\n",
    "# make test cluster\n",
    "cluster_test_0 = make_cluster(stacked_test_array, str(0), 26)\n",
    "cluster_test_1 = make_cluster(stacked_test_array, str(1), 26)\n",
    "cluster_test_2 = make_cluster(stacked_test_array, str(2) ,26)\n",
    "\n",
    "cluster_test_0_ready = cut_cluster_column(cluster_test_0, 25)\n",
    "cluster_test_1_ready = cut_cluster_column(cluster_test_1, 25)\n",
    "cluster_test_2_ready = cut_cluster_column(cluster_test_2, 25)"
   ]
  },
  {
   "cell_type": "code",
   "execution_count": 70,
   "metadata": {},
   "outputs": [
    {
     "name": "stdout",
     "output_type": "stream",
     "text": [
      "(15828, 25)\n",
      "(146844, 25)\n"
     ]
    }
   ],
   "source": [
    "print(cluster_test_0_ready.shape)\n",
    "print(cluster_train_0_ready.shape)"
   ]
  },
  {
   "cell_type": "code",
   "execution_count": 71,
   "metadata": {},
   "outputs": [],
   "source": [
    "# label ready for each cluster\n",
    "label_train0 = cut_label(cluster_train_0, 25) \n",
    "label_train1 = cut_label(cluster_train_1, 25)\n",
    "label_train2 = cut_label(cluster_train_2, 25)\n",
    "\n",
    "label_test0 = cut_label(cluster_test_0, 25)\n",
    "label_test1 = cut_label(cluster_test_1, 25)\n",
    "label_test2 = cut_label(cluster_test_2, 25)\n",
    "\n",
    "cat_test_numerical_label = to_categorical(test_numerical_label, num_classes=5)\n",
    "cat_train_numerical_label = to_categorical(train_numerical_label, num_classes=5)\n",
    "# all_test_data = cut_cluster_column(stacked_test_data_and_label, 7)"
   ]
  },
  {
   "cell_type": "code",
   "execution_count": 72,
   "metadata": {},
   "outputs": [],
   "source": [
    "# make categorical label\n",
    "cat_label_train0 = to_categorical(label_train0, num_classes=5)\n",
    "cat_label_train1 = to_categorical(label_train1, num_classes=5)\n",
    "cat_label_train2 = to_categorical(label_train2, num_classes=5)\n",
    "\n",
    "cat_label_test0 = to_categorical(label_test0, num_classes=5)\n",
    "cat_label_test1 = to_categorical(label_test1, num_classes=5)\n",
    "cat_label_test2 = to_categorical(label_test2, num_classes=5)"
   ]
  },
  {
   "cell_type": "code",
   "execution_count": 73,
   "metadata": {},
   "outputs": [],
   "source": [
    "del(train_X)\n",
    "del(test_X)\n",
    "del(traindata_labels)\n",
    "del(testdata_labels)\n",
    "del(train_labels_list)\n",
    "del(test_labels_list)\n",
    "del(train_labels)\n",
    "del(test_labels)\n",
    "del(X_train_data)\n",
    "del(X_test_data)\n",
    "del(train_numerical_label_reshaped)\n",
    "del(lst_prob)\n",
    "del(lst_r2l)\n",
    "del(lst_u2r)\n",
    "del(prob)\n",
    "del(r2l)\n",
    "del(u2r)\n",
    "del(U_train)\n",
    "del(s_train)\n",
    "del(V_train)\n",
    "del(U_test)\n",
    "del(s_test)\n",
    "del(V_test)\n",
    "del(AEC_hist)\n",
    "del(X_2d)\n",
    "del(X_2d_test)\n",
    "del(AEC2_hist)\n",
    "del(AEC_test)\n",
    "del(prd_ids2)\n",
    "del(reshaped_train_numerical_label)\n",
    "del(reshaped_test_numerical_label)\n",
    "del(stacked_train_data_and_label)\n",
    "del(stacked_test_data_and_label)\n",
    "del(stacked_train_array)\n",
    "del(stacked_test_array)\n",
    "del(cluster_train_0)\n",
    "del(cluster_train_1)\n",
    "del(cluster_train_2)\n",
    "del(cluster_test_0)\n",
    "del(cluster_test_1)\n",
    "del(cluster_test_2)\n",
    "del(label_train0)\n",
    "del(label_train1)\n",
    "del(label_train2)\n",
    "del(label_test0)\n",
    "del(label_test1)\n",
    "del(label_test2)"
   ]
  },
  {
   "cell_type": "code",
   "execution_count": 74,
   "metadata": {},
   "outputs": [
    {
     "name": "stdout",
     "output_type": "stream",
     "text": [
      "training... please wait\n",
      "29368/29368 [==============================] - 1s 30us/step\n",
      "29368/29368 [==============================] - 1s 32us/step\n",
      "29368/29368 [==============================] - 1s 32us/step\n",
      "29368/29368 [==============================] - 1s 35us/step\n",
      "29368/29368 [==============================] - 1s 35us/step\n",
      "train finished\n"
     ]
    }
   ],
   "source": [
    "# faze train\n",
    "# cluster 0\n",
    "# scores0, loss0, val_loss0, acc0, val_acc0 = k_fold(5, cluster_train_0_ready, cat_label_train0, 40, build_model, 'categorical_crossentropy', 128)\n",
    "scores0, loss0, val_loss0, acc0, val_acc0 = k_fold(5, cluster_train_0_ready, cat_label_train0, 40, build_model2, 'mse', 128)"
   ]
  },
  {
   "cell_type": "code",
   "execution_count": 75,
   "metadata": {},
   "outputs": [
    {
     "name": "stdout",
     "output_type": "stream",
     "text": [
      "0.8176314355761374\n"
     ]
    }
   ],
   "source": [
    "print(np.mean(scores0))"
   ]
  },
  {
   "cell_type": "code",
   "execution_count": 76,
   "metadata": {},
   "outputs": [],
   "source": [
    "epochs = range(len(loss0[0]))\n",
    "avg_loss0 = averages(loss0, 40)\n",
    "avg_val_loss0 = averages(val_loss0, 40)\n",
    "avg_acc0 = averages(acc0, 40)\n",
    "avg_val_acc0 = averages(val_acc0, 40) "
   ]
  },
  {
   "cell_type": "code",
   "execution_count": 77,
   "metadata": {},
   "outputs": [
    {
     "data": {
      "image/png": "[encoded data removed]",
      "text/plain": [
       "<Figure size 432x288 with 1 Axes>"
      ]
     },
     "metadata": {},
     "output_type": "display_data"
    }
   ],
   "source": [
    "plots(avg_loss0, avg_val_loss0, 'Loss', epochs)"
   ]
  },
  {
   "cell_type": "code",
   "execution_count": 78,
   "metadata": {},
   "outputs": [
    {
     "data": {
      "image/png": "[encoded data removed]",
      "text/plain": [
       "<Figure size 432x288 with 1 Axes>"
      ]
     },
     "metadata": {},
     "output_type": "display_data"
    }
   ],
   "source": [
    "plots(avg_acc0, avg_val_acc0, 'Accuracy', epochs)"
   ]
  },
  {
   "cell_type": "code",
   "execution_count": 79,
   "metadata": {
    "scrolled": false
   },
   "outputs": [
    {
     "name": "stdout",
     "output_type": "stream",
     "text": [
      "Epoch 1/30\n",
      "146844/146844 [==============================] - 8s 51us/step - loss: 0.0704 - acc: 0.7832\n",
      "Epoch 2/30\n",
      "146844/146844 [==============================] - 7s 48us/step - loss: 0.0293 - acc: 0.8996\n",
      "Epoch 3/30\n",
      "146844/146844 [==============================] - 7s 47us/step - loss: 0.0237 - acc: 0.9317\n",
      "Epoch 4/30\n",
      "146844/146844 [==============================] - 7s 47us/step - loss: 0.0197 - acc: 0.9438\n",
      "Epoch 5/30\n",
      "146844/146844 [==============================] - 7s 47us/step - loss: 0.0180 - acc: 0.9476\n",
      "Epoch 6/30\n",
      "146844/146844 [==============================] - 7s 48us/step - loss: 0.0169 - acc: 0.9506\n",
      "Epoch 7/30\n",
      "146844/146844 [==============================] - 7s 48us/step - loss: 0.0162 - acc: 0.9523\n",
      "Epoch 8/30\n",
      "146844/146844 [==============================] - 7s 47us/step - loss: 0.0155 - acc: 0.9542\n",
      "Epoch 9/30\n",
      "146844/146844 [==============================] - 7s 47us/step - loss: 0.0150 - acc: 0.9557\n",
      "Epoch 10/30\n",
      "146844/146844 [==============================] - 7s 47us/step - loss: 0.0145 - acc: 0.9570\n",
      "Epoch 11/30\n",
      "146844/146844 [==============================] - 7s 47us/step - loss: 0.0141 - acc: 0.9583\n",
      "Epoch 12/30\n",
      "146844/146844 [==============================] - 7s 48us/step - loss: 0.0138 - acc: 0.9596\n",
      "Epoch 13/30\n",
      "146844/146844 [==============================] - 7s 47us/step - loss: 0.0134 - acc: 0.9607\n",
      "Epoch 14/30\n",
      "146844/146844 [==============================] - 7s 48us/step - loss: 0.0131 - acc: 0.9611\n",
      "Epoch 15/30\n",
      "146844/146844 [==============================] - 7s 46us/step - loss: 0.0127 - acc: 0.9624\n",
      "Epoch 16/30\n",
      "146844/146844 [==============================] - 7s 47us/step - loss: 0.0124 - acc: 0.9637\n",
      "Epoch 17/30\n",
      "146844/146844 [==============================] - 7s 47us/step - loss: 0.0121 - acc: 0.9646\n",
      "Epoch 18/30\n",
      "146844/146844 [==============================] - 7s 47us/step - loss: 0.0118 - acc: 0.9656\n",
      "Epoch 19/30\n",
      "146844/146844 [==============================] - 7s 47us/step - loss: 0.0116 - acc: 0.9661\n",
      "Epoch 20/30\n",
      "146844/146844 [==============================] - 7s 47us/step - loss: 0.0114 - acc: 0.9664\n",
      "Epoch 21/30\n",
      "146844/146844 [==============================] - 7s 47us/step - loss: 0.0113 - acc: 0.9672\n",
      "Epoch 22/30\n",
      "146844/146844 [==============================] - 7s 46us/step - loss: 0.0110 - acc: 0.9681\n",
      "Epoch 23/30\n",
      "146844/146844 [==============================] - 7s 47us/step - loss: 0.0110 - acc: 0.9682\n",
      "Epoch 24/30\n",
      "146844/146844 [==============================] - 7s 47us/step - loss: 0.0108 - acc: 0.9687\n",
      "Epoch 25/30\n",
      "146844/146844 [==============================] - 7s 46us/step - loss: 0.0107 - acc: 0.9688\n",
      "Epoch 26/30\n",
      "146844/146844 [==============================] - 7s 46us/step - loss: 0.0106 - acc: 0.9689\n",
      "Epoch 27/30\n",
      "146844/146844 [==============================] - 7s 46us/step - loss: 0.0105 - acc: 0.9694\n",
      "Epoch 28/30\n",
      "146844/146844 [==============================] - 7s 46us/step - loss: 0.0104 - acc: 0.9695\n",
      "Epoch 29/30\n",
      "146844/146844 [==============================] - 7s 47us/step - loss: 0.0103 - acc: 0.9699\n",
      "Epoch 30/30\n",
      "146844/146844 [==============================] - 7s 46us/step - loss: 0.0102 - acc: 0.9703\n"
     ]
    },
    {
     "data": {
      "text/plain": [
       "<keras.callbacks.History at 0x7fe0bfec31d0>"
      ]
     },
     "execution_count": 79,
     "metadata": {},
     "output_type": "execute_result"
    }
   ],
   "source": [
    "# k fold zade shod\n",
    "ms_train_c0_network = 0\n",
    "ms_train_c0_network = build_model2('mse')\n",
    "ms_train_c0_network.fit(cluster_train_0_ready, cat_label_train0, epochs=30, batch_size=64)\n",
    "# ms_train_c0_network = build_model('categorical_crossentropy')\n",
    "# ms_train_c0_network.fit(cluster_train_0_ready, cat_label_train0, epochs=20, batch_size=128) #50-1024-98%, 50-3072-97% 60-512-95%, 59-2048-97%"
   ]
  },
  {
   "cell_type": "code",
   "execution_count": 80,
   "metadata": {},
   "outputs": [
    {
     "name": "stdout",
     "output_type": "stream",
     "text": [
      "209885/209885 [==============================] - 5s 22us/step\n",
      "[0.09731177905703167, 0.7372465874143629]\n"
     ]
    }
   ],
   "source": [
    "print(ms_train_c0_network.evaluate(ids3_pred, cat_train_numerical_label))"
   ]
  },
  {
   "cell_type": "code",
   "execution_count": 81,
   "metadata": {},
   "outputs": [
    {
     "name": "stdout",
     "output_type": "stream",
     "text": [
      "precision 0.9878857576693896\n",
      "FPR 0.016111548342045777\n",
      "TPR 0.6207223134229766\n",
      "Recall 0.6207223134229766\n",
      "FNR 0.3792776865763219\n",
      "specificity 0.9838884516564693\n",
      "accuracy 0.7372465874165676\n",
      "F_score 0.7624016139141487\n",
      "FN 54063.0\n",
      "FP 1085.0\n",
      "TP 88479.0\n",
      "TN 66258.0\n",
      "Cohens_kappa [0.501]\n"
     ]
    }
   ],
   "source": [
    "prd_c0 = ms_train_c0_network.predict(ids3_pred)\n",
    "_ = metrics_binary_1node(prd_c0, cat_train_numerical_label)"
   ]
  },
  {
   "cell_type": "code",
   "execution_count": 82,
   "metadata": {},
   "outputs": [
    {
     "name": "stdout",
     "output_type": "stream",
     "text": [
      "training... please wait\n",
      "7174/7174 [==============================] - 0s 37us/step\n",
      "7174/7174 [==============================] - 0s 37us/step\n",
      "7174/7174 [==============================] - 0s 40us/step\n",
      "7174/7174 [==============================] - 0s 41us/step\n",
      "7174/7174 [==============================] - 0s 41us/step\n",
      "train finished\n"
     ]
    }
   ],
   "source": [
    "# cluster1\n",
    "# scores1, loss1, val_loss1, acc1, val_acc1 = k_fold(5, cluster_train_1_ready, cat_label_train1, 40, build_model2, 'mse', 128)\n",
    "scores1, loss1, val_loss1, acc1, val_acc1 = k_fold(5, cluster_train_1_ready, cat_label_train1, 40,\n",
    "                                                   build_model, 'categorical_crossentropy', 1024)"
   ]
  },
  {
   "cell_type": "code",
   "execution_count": 83,
   "metadata": {},
   "outputs": [
    {
     "name": "stdout",
     "output_type": "stream",
     "text": [
      "0.9972121550041818\n"
     ]
    }
   ],
   "source": [
    "print(np.mean(scores1))"
   ]
  },
  {
   "cell_type": "code",
   "execution_count": 84,
   "metadata": {},
   "outputs": [],
   "source": [
    "avg_loss1 = averages(loss1, 40)\n",
    "avg_val_loss1 = averages(val_loss1, 40)\n",
    "avg_acc1 = averages(acc1, 40)\n",
    "avg_val_acc1 = averages(val_acc1, 40) "
   ]
  },
  {
   "cell_type": "code",
   "execution_count": 85,
   "metadata": {},
   "outputs": [
    {
     "data": {
      "image/png": "[encoded data removed]",
      "text/plain": [
       "<Figure size 432x288 with 1 Axes>"
      ]
     },
     "metadata": {},
     "output_type": "display_data"
    }
   ],
   "source": [
    "plots(avg_loss1, avg_val_loss1, 'Loss', epochs)"
   ]
  },
  {
   "cell_type": "code",
   "execution_count": 86,
   "metadata": {},
   "outputs": [
    {
     "data": {
      "image/png": "[encoded data removed]",
      "text/plain": [
       "<Figure size 432x288 with 1 Axes>"
      ]
     },
     "metadata": {},
     "output_type": "display_data"
    }
   ],
   "source": [
    "plots(avg_acc1, avg_val_acc1, 'Accuracy', epochs)"
   ]
  },
  {
   "cell_type": "code",
   "execution_count": 87,
   "metadata": {
    "scrolled": false
   },
   "outputs": [
    {
     "name": "stdout",
     "output_type": "stream",
     "text": [
      "Epoch 1/55\n",
      "35871/35871 [==============================] - 1s 40us/step - loss: 1.8921 - acc: 0.0259\n",
      "Epoch 2/55\n",
      "35871/35871 [==============================] - 1s 20us/step - loss: 0.5938 - acc: 0.8584\n",
      "Epoch 3/55\n",
      "35871/35871 [==============================] - 1s 20us/step - loss: 0.0668 - acc: 0.9874\n",
      "Epoch 4/55\n",
      "35871/35871 [==============================] - 1s 20us/step - loss: 0.0212 - acc: 0.9935\n",
      "Epoch 5/55\n",
      "35871/35871 [==============================] - 1s 20us/step - loss: 0.0099 - acc: 0.9971\n",
      "Epoch 6/55\n",
      "35871/35871 [==============================] - 1s 19us/step - loss: 0.0063 - acc: 0.9985\n",
      "Epoch 7/55\n",
      "35871/35871 [==============================] - 1s 21us/step - loss: 0.0046 - acc: 0.9988\n",
      "Epoch 8/55\n",
      "35871/35871 [==============================] - 1s 19us/step - loss: 0.0038 - acc: 0.9990\n",
      "Epoch 9/55\n",
      "35871/35871 [==============================] - 1s 19us/step - loss: 0.0033 - acc: 0.9991\n",
      "Epoch 10/55\n",
      "35871/35871 [==============================] - 1s 19us/step - loss: 0.0029 - acc: 0.9993\n",
      "Epoch 11/55\n",
      "35871/35871 [==============================] - 1s 20us/step - loss: 0.0026 - acc: 0.9994\n",
      "Epoch 12/55\n",
      "35871/35871 [==============================] - 1s 19us/step - loss: 0.0023 - acc: 0.9994\n",
      "Epoch 13/55\n",
      "35871/35871 [==============================] - 1s 19us/step - loss: 0.0021 - acc: 0.9995\n",
      "Epoch 14/55\n",
      "35871/35871 [==============================] - 1s 19us/step - loss: 0.0019 - acc: 0.9994\n",
      "Epoch 15/55\n",
      "35871/35871 [==============================] - 1s 19us/step - loss: 0.0018 - acc: 0.9995\n",
      "Epoch 16/55\n",
      "35871/35871 [==============================] - 1s 19us/step - loss: 0.0017 - acc: 0.9995\n",
      "Epoch 17/55\n",
      "35871/35871 [==============================] - 1s 20us/step - loss: 0.0015 - acc: 0.9996\n",
      "Epoch 18/55\n",
      "35871/35871 [==============================] - 1s 20us/step - loss: 0.0014 - acc: 0.9995\n",
      "Epoch 19/55\n",
      "35871/35871 [==============================] - 1s 19us/step - loss: 0.0014 - acc: 0.9996\n",
      "Epoch 20/55\n",
      "35871/35871 [==============================] - 1s 20us/step - loss: 0.0014 - acc: 0.9996\n",
      "Epoch 21/55\n",
      "35871/35871 [==============================] - 1s 20us/step - loss: 0.0012 - acc: 0.9996\n",
      "Epoch 22/55\n",
      "35871/35871 [==============================] - 1s 20us/step - loss: 0.0012 - acc: 0.9996\n",
      "Epoch 23/55\n",
      "35871/35871 [==============================] - 1s 19us/step - loss: 0.0011 - acc: 0.9996\n",
      "Epoch 24/55\n",
      "35871/35871 [==============================] - 1s 20us/step - loss: 0.0011 - acc: 0.9997\n",
      "Epoch 25/55\n",
      "35871/35871 [==============================] - 1s 19us/step - loss: 0.0010 - acc: 0.9996\n",
      "Epoch 26/55\n",
      "35871/35871 [==============================] - 1s 19us/step - loss: 9.3052e-04 - acc: 0.9997\n",
      "Epoch 27/55\n",
      "35871/35871 [==============================] - 1s 20us/step - loss: 8.6542e-04 - acc: 0.9997\n",
      "Epoch 28/55\n",
      "35871/35871 [==============================] - 1s 20us/step - loss: 8.7638e-04 - acc: 0.9997\n",
      "Epoch 29/55\n",
      "35871/35871 [==============================] - 1s 19us/step - loss: 8.0346e-04 - acc: 0.9997\n",
      "Epoch 30/55\n",
      "35871/35871 [==============================] - 1s 20us/step - loss: 7.4532e-04 - acc: 0.9997\n",
      "Epoch 31/55\n",
      "35871/35871 [==============================] - 1s 19us/step - loss: 7.6513e-04 - acc: 0.9997\n",
      "Epoch 32/55\n",
      "35871/35871 [==============================] - 1s 20us/step - loss: 7.0363e-04 - acc: 0.9997\n",
      "Epoch 33/55\n",
      "35871/35871 [==============================] - 1s 19us/step - loss: 6.5042e-04 - acc: 0.9997\n",
      "Epoch 34/55\n",
      "35871/35871 [==============================] - 1s 19us/step - loss: 6.4393e-04 - acc: 0.9998\n",
      "Epoch 35/55\n",
      "35871/35871 [==============================] - 1s 19us/step - loss: 6.2886e-04 - acc: 0.9997\n",
      "Epoch 36/55\n",
      "35871/35871 [==============================] - 1s 19us/step - loss: 5.8304e-04 - acc: 0.9998\n",
      "Epoch 37/55\n",
      "35871/35871 [==============================] - 1s 19us/step - loss: 5.8355e-04 - acc: 0.9997\n",
      "Epoch 38/55\n",
      "35871/35871 [==============================] - 1s 19us/step - loss: 5.8814e-04 - acc: 0.9997\n",
      "Epoch 39/55\n",
      "35871/35871 [==============================] - 1s 19us/step - loss: 5.4422e-04 - acc: 0.9998\n",
      "Epoch 40/55\n",
      "35871/35871 [==============================] - 1s 19us/step - loss: 5.3665e-04 - acc: 0.9998\n",
      "Epoch 41/55\n",
      "35871/35871 [==============================] - 1s 19us/step - loss: 4.9529e-04 - acc: 0.9998\n",
      "Epoch 42/55\n",
      "35871/35871 [==============================] - 1s 21us/step - loss: 5.0508e-04 - acc: 0.9998\n",
      "Epoch 43/55\n",
      "35871/35871 [==============================] - 1s 19us/step - loss: 5.1630e-04 - acc: 0.9997\n",
      "Epoch 44/55\n",
      "35871/35871 [==============================] - 1s 20us/step - loss: 5.0392e-04 - acc: 0.9998\n",
      "Epoch 45/55\n",
      "35871/35871 [==============================] - 1s 20us/step - loss: 4.5609e-04 - acc: 0.9998\n",
      "Epoch 46/55\n",
      "35871/35871 [==============================] - 1s 20us/step - loss: 4.5338e-04 - acc: 0.9998\n",
      "Epoch 47/55\n",
      "35871/35871 [==============================] - 1s 20us/step - loss: 4.5269e-04 - acc: 0.9998\n",
      "Epoch 48/55\n",
      "35871/35871 [==============================] - 1s 19us/step - loss: 4.3698e-04 - acc: 0.9998\n",
      "Epoch 49/55\n",
      "35871/35871 [==============================] - 1s 20us/step - loss: 4.2847e-04 - acc: 0.9998\n",
      "Epoch 50/55\n",
      "35871/35871 [==============================] - 1s 20us/step - loss: 4.3342e-04 - acc: 0.9998\n",
      "Epoch 51/55\n",
      "35871/35871 [==============================] - 1s 20us/step - loss: 4.3150e-04 - acc: 0.9998\n",
      "Epoch 52/55\n",
      "35871/35871 [==============================] - 1s 19us/step - loss: 4.0277e-04 - acc: 0.9998\n",
      "Epoch 53/55\n",
      "35871/35871 [==============================] - 1s 20us/step - loss: 3.9750e-04 - acc: 0.9998\n",
      "Epoch 54/55\n",
      "35871/35871 [==============================] - 1s 20us/step - loss: 3.8980e-04 - acc: 0.9998\n",
      "Epoch 55/55\n",
      "35871/35871 [==============================] - 1s 19us/step - loss: 3.7914e-04 - acc: 0.9998\n"
     ]
    },
    {
     "data": {
      "text/plain": [
       "<keras.callbacks.History at 0x7fe06f1936a0>"
      ]
     },
     "execution_count": 87,
     "metadata": {},
     "output_type": "execute_result"
    }
   ],
   "source": [
    "# k fold zade shod\n",
    "ms_train_c1_network = 0\n",
    "# ms_train_c1_network = build_model('categorical_crossentropy')\n",
    "# ms_train_c1_network.fit(cluster_train_1_ready, cat_label_train1, epochs=55, batch_size=1024)\n",
    "ms_train_c1_network = Sequential()\n",
    "ms_train_c1_network.add(Dense(25, activation='relu', kernel_initializer=initializer, bias_initializer='zeros', input_shape=(25, )))\n",
    "ms_train_c1_network.add(Dense(15, activation='relu', kernel_initializer=initializer, bias_initializer='zeros'))\n",
    "ms_train_c1_network.add(Dense(5, activation='sigmoid', kernel_initializer=initializer, bias_initializer='zeros'))\n",
    "\n",
    "ms_train_c1_network.compile(optimizer=adam, loss='categorical_crossentropy', metrics=['accuracy'])\n",
    "# ms_train_c1_network = build_model2('mse')\n",
    "ms_train_c1_network.fit(cluster_train_1_ready, cat_label_train1, epochs=55, batch_size=512)"
   ]
  },
  {
   "cell_type": "code",
   "execution_count": 88,
   "metadata": {},
   "outputs": [
    {
     "name": "stdout",
     "output_type": "stream",
     "text": [
      "209885/209885 [==============================] - 5s 26us/step\n",
      "[5.416578861749635, 0.40538390070611036]\n"
     ]
    }
   ],
   "source": [
    "print(ms_train_c1_network.evaluate(ids3_pred, cat_train_numerical_label))\n",
    "# print(ms_train_c1_network.evaluate(ids_test2_pred/10, cat_test_numerical_label))"
   ]
  },
  {
   "cell_type": "code",
   "execution_count": 89,
   "metadata": {},
   "outputs": [
    {
     "name": "stdout",
     "output_type": "stream",
     "text": [
      "precision 0.5684911939337607\n",
      "FPR 0.8298709591184981\n",
      "TPR 0.516528461786339\n",
      "Recall 0.516528461786339\n",
      "FNR 0.48347153821295935\n",
      "specificity 0.17012904088001704\n",
      "accuracy 0.40538390070733715\n",
      "F_score 0.5412655030355686\n",
      "FN 68915.0\n",
      "FP 55886.0\n",
      "TP 73627.0\n",
      "TN 11457.0\n",
      "Cohens_kappa [-0.298]\n"
     ]
    }
   ],
   "source": [
    "prd_c1 = ms_train_c1_network.predict(ids3_pred)\n",
    "_ = metrics_binary_1node(prd_c1, cat_train_numerical_label)"
   ]
  },
  {
   "cell_type": "code",
   "execution_count": 90,
   "metadata": {},
   "outputs": [
    {
     "name": "stdout",
     "output_type": "stream",
     "text": [
      "3.1054205894470215\n",
      "precision 0.974256956776852\n",
      "FPR 0.01614124704866706\n",
      "TPR 0.2886026574621595\n",
      "Recall 0.2886026574621595\n",
      "FNR 0.7113973425371389\n",
      "specificity 0.983858752949848\n",
      "accuracy 0.5116802058267567\n",
      "F_score 0.4452959320920746\n",
      "FN 101404.0\n",
      "FP 1087.0\n",
      "TP 41138.0\n",
      "TN 66256.0\n",
      "Cohens_kappa [0.196]\n"
     ]
    }
   ],
   "source": [
    "# svm for cluster1\n",
    "from sklearn.multiclass import OneVsRestClassifier\n",
    "from sklearn.svm import SVC\n",
    "\n",
    "t1 = time.time()\n",
    "ovr_svm = OneVsRestClassifier(SVC(random_state=0)).fit(cluster_train_1_ready, cat_label_train1)\n",
    "t2 = time.time()\n",
    "print(t2 - t1)\n",
    "\n",
    "prd_c1_svm = ovr_svm.predict(ids3_pred)\n",
    "_ = metrics_binary_1node(prd_c1_svm, cat_train_numerical_label)"
   ]
  },
  {
   "cell_type": "code",
   "execution_count": 91,
   "metadata": {},
   "outputs": [
    {
     "name": "stdout",
     "output_type": "stream",
     "text": [
      "training... please wait\n",
      "5434/5434 [==============================] - 0s 42us/step\n",
      "5434/5434 [==============================] - 0s 47us/step\n",
      "5434/5434 [==============================] - 0s 46us/step\n",
      "5434/5434 [==============================] - 0s 46us/step\n",
      "5434/5434 [==============================] - 0s 49us/step\n",
      "train finished\n"
     ]
    }
   ],
   "source": [
    "# cluster2\n",
    "# scores2, loss2, val_loss2, acc2, val_acc2 = k_fold(5, cluster_train_2_ready, cat_label_train2, 40, build_model2, 'mse', 128)\n",
    "scores2, loss2, val_loss2, acc2, val_acc2 = k_fold(5, cluster_train_2_ready, cat_label_train2, 40,\n",
    "                                                   build_model, 'categorical_crossentropy', 128)"
   ]
  },
  {
   "cell_type": "code",
   "execution_count": 92,
   "metadata": {},
   "outputs": [
    {
     "name": "stdout",
     "output_type": "stream",
     "text": [
      "0.8287081339499027\n"
     ]
    }
   ],
   "source": [
    "print(np.mean(scores2))"
   ]
  },
  {
   "cell_type": "code",
   "execution_count": 93,
   "metadata": {},
   "outputs": [],
   "source": [
    "avg_loss2 = averages(loss2, 40)\n",
    "avg_val_loss2 = averages(val_loss2, 40)\n",
    "avg_acc2 = averages(acc2, 40)\n",
    "avg_val_acc2 = averages(val_acc2, 40) "
   ]
  },
  {
   "cell_type": "code",
   "execution_count": 94,
   "metadata": {},
   "outputs": [
    {
     "data": {
      "image/png": "[encoded data removed]",
      "text/plain": [
       "<Figure size 432x288 with 1 Axes>"
      ]
     },
     "metadata": {},
     "output_type": "display_data"
    }
   ],
   "source": [
    "plots(avg_loss2, avg_val_loss2, 'Loss', epochs)"
   ]
  },
  {
   "cell_type": "code",
   "execution_count": 95,
   "metadata": {},
   "outputs": [
    {
     "data": {
      "image/png": "[encoded data removed]",
      "text/plain": [
       "<Figure size 432x288 with 1 Axes>"
      ]
     },
     "metadata": {},
     "output_type": "display_data"
    }
   ],
   "source": [
    "plots(avg_acc2, avg_val_acc2, 'Accuracy', epochs)"
   ]
  },
  {
   "cell_type": "code",
   "execution_count": 96,
   "metadata": {
    "scrolled": false
   },
   "outputs": [
    {
     "name": "stdout",
     "output_type": "stream",
     "text": [
      "Epoch 1/40\n",
      "27170/27170 [==============================] - 2s 67us/step - loss: 1.6248 - acc: 0.6824\n",
      "Epoch 2/40\n",
      "27170/27170 [==============================] - 1s 31us/step - loss: 0.0558 - acc: 0.9789\n",
      "Epoch 3/40\n",
      "27170/27170 [==============================] - 1s 30us/step - loss: 0.0190 - acc: 0.9942\n",
      "Epoch 4/40\n",
      "27170/27170 [==============================] - 1s 31us/step - loss: 0.0137 - acc: 0.9951\n",
      "Epoch 5/40\n",
      "27170/27170 [==============================] - 1s 32us/step - loss: 0.0116 - acc: 0.9955\n",
      "Epoch 6/40\n",
      "27170/27170 [==============================] - 1s 32us/step - loss: 0.0106 - acc: 0.9959\n",
      "Epoch 7/40\n",
      "27170/27170 [==============================] - 1s 32us/step - loss: 0.0097 - acc: 0.9961\n",
      "Epoch 8/40\n",
      "27170/27170 [==============================] - 1s 32us/step - loss: 0.0092 - acc: 0.9964\n",
      "Epoch 9/40\n",
      "27170/27170 [==============================] - 1s 31us/step - loss: 0.0088 - acc: 0.9965\n",
      "Epoch 10/40\n",
      "27170/27170 [==============================] - 1s 31us/step - loss: 0.0084 - acc: 0.9966\n",
      "Epoch 11/40\n",
      "27170/27170 [==============================] - 1s 30us/step - loss: 0.0083 - acc: 0.9967\n",
      "Epoch 12/40\n",
      "27170/27170 [==============================] - 1s 34us/step - loss: 0.0080 - acc: 0.9969\n",
      "Epoch 13/40\n",
      "27170/27170 [==============================] - 1s 32us/step - loss: 0.0079 - acc: 0.9969\n",
      "Epoch 14/40\n",
      "27170/27170 [==============================] - 1s 31us/step - loss: 0.0078 - acc: 0.9974\n",
      "Epoch 15/40\n",
      "27170/27170 [==============================] - 1s 30us/step - loss: 0.0076 - acc: 0.9977\n",
      "Epoch 16/40\n",
      "27170/27170 [==============================] - 1s 32us/step - loss: 0.0074 - acc: 0.9984\n",
      "Epoch 17/40\n",
      "27170/27170 [==============================] - 1s 32us/step - loss: 0.0071 - acc: 0.9983\n",
      "Epoch 18/40\n",
      "27170/27170 [==============================] - 1s 31us/step - loss: 0.0065 - acc: 0.9984\n",
      "Epoch 19/40\n",
      "27170/27170 [==============================] - 1s 31us/step - loss: 0.0064 - acc: 0.9983\n",
      "Epoch 20/40\n",
      "27170/27170 [==============================] - 1s 31us/step - loss: 0.0064 - acc: 0.9983\n",
      "Epoch 21/40\n",
      "27170/27170 [==============================] - 1s 32us/step - loss: 0.0062 - acc: 0.9983\n",
      "Epoch 22/40\n",
      "27170/27170 [==============================] - 1s 32us/step - loss: 0.0063 - acc: 0.9983\n",
      "Epoch 23/40\n",
      "27170/27170 [==============================] - 1s 33us/step - loss: 0.0062 - acc: 0.9984\n",
      "Epoch 24/40\n",
      "27170/27170 [==============================] - 1s 31us/step - loss: 0.0061 - acc: 0.9982\n",
      "Epoch 25/40\n",
      "27170/27170 [==============================] - 1s 31us/step - loss: 0.0061 - acc: 0.9983\n",
      "Epoch 26/40\n",
      "27170/27170 [==============================] - 1s 32us/step - loss: 0.0062 - acc: 0.9985\n",
      "Epoch 27/40\n",
      "27170/27170 [==============================] - 1s 34us/step - loss: 0.0063 - acc: 0.9984\n",
      "Epoch 28/40\n",
      "27170/27170 [==============================] - 1s 31us/step - loss: 0.0061 - acc: 0.9985\n",
      "Epoch 29/40\n",
      "27170/27170 [==============================] - 1s 32us/step - loss: 0.0061 - acc: 0.9985\n",
      "Epoch 30/40\n",
      "27170/27170 [==============================] - 1s 32us/step - loss: 0.0058 - acc: 0.9985\n",
      "Epoch 31/40\n",
      "27170/27170 [==============================] - 1s 32us/step - loss: 0.0058 - acc: 0.9983\n",
      "Epoch 32/40\n",
      "27170/27170 [==============================] - 1s 31us/step - loss: 0.0059 - acc: 0.9985\n",
      "Epoch 33/40\n",
      "27170/27170 [==============================] - 1s 30us/step - loss: 0.0059 - acc: 0.9984\n",
      "Epoch 34/40\n",
      "27170/27170 [==============================] - 1s 30us/step - loss: 0.0059 - acc: 0.9985\n",
      "Epoch 35/40\n",
      "27170/27170 [==============================] - 1s 32us/step - loss: 0.0059 - acc: 0.9986\n",
      "Epoch 36/40\n",
      "27170/27170 [==============================] - 1s 32us/step - loss: 0.0060 - acc: 0.9985\n",
      "Epoch 37/40\n",
      "27170/27170 [==============================] - 1s 32us/step - loss: 0.0058 - acc: 0.9985\n",
      "Epoch 38/40\n",
      "27170/27170 [==============================] - 1s 29us/step - loss: 0.0056 - acc: 0.9985\n",
      "Epoch 39/40\n",
      "27170/27170 [==============================] - 1s 33us/step - loss: 0.0058 - acc: 0.9986\n",
      "Epoch 40/40\n",
      "27170/27170 [==============================] - 1s 32us/step - loss: 0.0055 - acc: 0.9986\n"
     ]
    },
    {
     "data": {
      "text/plain": [
       "<keras.callbacks.History at 0x7fe061e10240>"
      ]
     },
     "execution_count": 96,
     "metadata": {},
     "output_type": "execute_result"
    }
   ],
   "source": [
    "ms_train_c2_network = 0\n",
    "# ms_train_c2_network = build_model('categorical_crossentropy')\n",
    "# ms_train_c2_network = build_model2('mse')\n",
    "# ms_train_c2_network.fit(cluster_train_1_ready, cat_label_train1, epochs=30, batch_size=1024)\n",
    "ms_train_c2_network = Sequential()\n",
    "ms_train_c2_network.add(Dense(25, activation='relu', kernel_initializer=initializer, bias_initializer='zeros', input_shape=(25, )))\n",
    "ms_train_c2_network.add(Dense(15, activation='relu', kernel_initializer=initializer, bias_initializer='zeros'))\n",
    "ms_train_c2_network.add(Dense(5, activation='sigmoid', kernel_initializer=initializer, bias_initializer='zeros'))\n",
    "\n",
    "ms_train_c2_network.compile(optimizer=adam, loss='categorical_crossentropy', metrics=['accuracy'])\n",
    "ms_train_c2_network.fit(cluster_train_2_ready, cat_label_train2, epochs=40, batch_size=128)"
   ]
  },
  {
   "cell_type": "code",
   "execution_count": 97,
   "metadata": {},
   "outputs": [
    {
     "name": "stdout",
     "output_type": "stream",
     "text": [
      "209885/209885 [==============================] - 7s 31us/step\n",
      "[6.585942919569969, 0.4197679681730471]\n"
     ]
    }
   ],
   "source": [
    "print(ms_train_c2_network.evaluate(ids3_pred, cat_train_numerical_label))\n",
    "# print(ms_train_c1_network.evaluate(ids_test2_pred/10, cat_test_numerical_label))"
   ]
  },
  {
   "cell_type": "code",
   "execution_count": 98,
   "metadata": {},
   "outputs": [
    {
     "name": "stdout",
     "output_type": "stream",
     "text": [
      "precision 0.6587981519434281\n",
      "FPR 0.33118512688723223\n",
      "TPR 0.30210744903235387\n",
      "Recall 0.30210744903235387\n",
      "FNR 0.6978925509669446\n",
      "specificity 0.6688148731112828\n",
      "accuracy 0.4197679681728471\n",
      "F_score 0.4142504907791661\n",
      "FN 99479.0\n",
      "FP 22303.0\n",
      "TP 43063.0\n",
      "TN 45040.0\n",
      "Cohens_kappa [-0.022]\n"
     ]
    }
   ],
   "source": [
    "prd_c2 = ms_train_c2_network.predict(ids3_pred)\n",
    "_ = metrics_binary_1node(prd_c2, cat_train_numerical_label)"
   ]
  },
  {
   "cell_type": "code",
   "execution_count": 99,
   "metadata": {},
   "outputs": [
    {
     "name": "stderr",
     "output_type": "stream",
     "text": [
      "/home/siamak/Projects/PycharmProjects/deep/lib/python3.6/site-packages/sklearn/multiclass.py:76: UserWarning: Label not 4 is present in all training examples.\n",
      "  str(classes[c]))\n"
     ]
    },
    {
     "name": "stdout",
     "output_type": "stream",
     "text": [
      "2.6751551628112793\n",
      "precision 0.4088939014042625\n",
      "FPR 0.941716288254248\n",
      "TPR 0.3077619228014846\n",
      "Recall 0.3077619228014846\n",
      "FNR 0.6922380771978138\n",
      "specificity 0.05828371174426698\n",
      "accuracy 0.22771517735892144\n",
      "F_score 0.35119216647080453\n",
      "FN 98673.0\n",
      "FP 63418.0\n",
      "TP 43869.0\n",
      "TN 3925.0\n",
      "Cohens_kappa [-0.557]\n"
     ]
    }
   ],
   "source": [
    "# svm for cluster2\n",
    "t1 = time.time()\n",
    "ovr_svm2 = OneVsRestClassifier(SVC(random_state=0)).fit(cluster_train_2_ready, cat_label_train2)\n",
    "t2 = time.time()\n",
    "print(t2 - t1)\n",
    "\n",
    "prd_c2_svm = ovr_svm2.predict(ids3_pred)\n",
    "_ = metrics_binary_1node(prd_c2_svm, cat_train_numerical_label)"
   ]
  },
  {
   "cell_type": "code",
   "execution_count": 100,
   "metadata": {},
   "outputs": [],
   "source": [
    "lbl_c0_norm = np.array(ms_train_labels)\n",
    "for i in range(len(lbl_c0_norm)):\n",
    "    if lbl_c0_norm[i] == 0:\n",
    "        lbl_c0_norm[i] = 100\n",
    "for j in range(len(lbl_c0_norm)):\n",
    "    if lbl_c0_norm[j] != 100:\n",
    "        lbl_c0_norm[j] = 0\n",
    "for k in range(len(lbl_c0_norm)):\n",
    "    if lbl_c0_norm[k] == 100:\n",
    "        lbl_c0_norm[k] = 1"
   ]
  },
  {
   "cell_type": "code",
   "execution_count": 101,
   "metadata": {},
   "outputs": [],
   "source": [
    "lbl_c1_norm = np.array(ms_train_labels)\n",
    "for i in range(len(lbl_c1_norm)):\n",
    "    if lbl_c1_norm[i] == 1:\n",
    "        lbl_c1_norm[i] = 100\n",
    "for j in range(len(lbl_c1_norm)):\n",
    "    if lbl_c1_norm[j] != 100:\n",
    "        lbl_c1_norm[j] = 0\n",
    "for k in range(len(lbl_c1_norm)):\n",
    "    if lbl_c1_norm[k] == 100:\n",
    "        lbl_c1_norm[k] = 1"
   ]
  },
  {
   "cell_type": "code",
   "execution_count": 102,
   "metadata": {},
   "outputs": [],
   "source": [
    "lbl_c2_norm = np.array(ms_train_labels)\n",
    "for i in range(len(lbl_c2_norm)):\n",
    "    if lbl_c2_norm[i] == 2:\n",
    "        lbl_c2_norm[i] = 100\n",
    "for j in range(len(lbl_c2_norm)):\n",
    "    if lbl_c2_norm[j] != 100:\n",
    "        lbl_c2_norm[j] = 0\n",
    "for k in range(len(lbl_c2_norm)):\n",
    "    if lbl_c2_norm[k] == 100:\n",
    "        lbl_c2_norm[k] = 1"
   ]
  },
  {
   "cell_type": "code",
   "execution_count": 103,
   "metadata": {},
   "outputs": [
    {
     "name": "stdout",
     "output_type": "stream",
     "text": [
      "[[1 1 0 1 1 0 0 0 0 0 0 0 1 1 0 0 1 1 1 1 0 0 1 1 0]]\n",
      "[[0 0 1 0 0 0 1 1 1 1 0 1 0 0 1 1 0 0 0 0 1 1 0 0 1]]\n",
      "[[0 0 0 0 0 1 0 0 0 0 1 0 0 0 0 0 0 0 0 0 0 0 0 0 0]]\n"
     ]
    }
   ],
   "source": [
    "print(lbl_c0_norm[:25].T)\n",
    "print(lbl_c1_norm[:25].T)\n",
    "print(lbl_c2_norm[:25].T)"
   ]
  },
  {
   "cell_type": "code",
   "execution_count": 104,
   "metadata": {},
   "outputs": [],
   "source": [
    "lbl_c0_norm = np.reshape(lbl_c0_norm, (-1, 1))\n",
    "lbl_c1_norm = np.reshape(lbl_c1_norm, (-1, 1))\n",
    "lbl_c2_norm = np.reshape(lbl_c2_norm, (-1, 1))"
   ]
  },
  {
   "cell_type": "code",
   "execution_count": 106,
   "metadata": {},
   "outputs": [],
   "source": [
    "result_c0_norm = ms_train_c0_network.predict(ids3_pred)\n",
    "result_c1_norm = ovr_svm.predict(ids3_pred)\n",
    "result_c2_norm = ms_train_c2_network.predict(ids3_pred)"
   ]
  },
  {
   "cell_type": "code",
   "execution_count": 107,
   "metadata": {},
   "outputs": [],
   "source": [
    "res0_norm = result_c0_norm * lbl_c0_norm\n",
    "res1_norm = result_c1_norm * lbl_c1_norm\n",
    "res2_norm = result_c2_norm * lbl_c2_norm"
   ]
  },
  {
   "cell_type": "code",
   "execution_count": 108,
   "metadata": {},
   "outputs": [],
   "source": [
    "final_result_with_degree = np.hstack((res0_norm, res1_norm, res2_norm))\n",
    "final_result_without_degree = np.hstack((result_c0_norm, result_c1_norm, result_c2_norm))"
   ]
  },
  {
   "cell_type": "code",
   "execution_count": 109,
   "metadata": {},
   "outputs": [
    {
     "name": "stdout",
     "output_type": "stream",
     "text": [
      "[[ 1.01  -0.014  0.002  0.008 -0.001  0.     0.     0.     0.     0.\n",
      "   0.     0.     0.     0.     0.   ]\n",
      " [ 0.021 -0.011  0.983  0.004  0.003  0.     0.     0.     0.     0.\n",
      "   0.     0.     0.     0.     0.   ]\n",
      " [ 0.     0.    -0.    -0.    -0.     0.     1.     0.     0.     0.\n",
      "   0.     0.     0.     0.     0.   ]\n",
      " [ 1.006  0.004 -0.006 -0.004 -0.007  0.     0.     0.     0.     0.\n",
      "   0.     0.     0.     0.     0.   ]\n",
      " [ 0.996  0.011 -0.007 -0.004 -0.007  0.     0.     0.     0.     0.\n",
      "   0.     0.     0.     0.     0.   ]\n",
      " [ 0.     0.     0.     0.    -0.     0.     0.     0.     0.     0.\n",
      "   0.     0.003  0.     0.     0.   ]\n",
      " [ 0.     0.    -0.    -0.    -0.     0.     1.     0.     0.     0.\n",
      "   0.     0.     0.     0.     0.   ]\n",
      " [ 0.     0.    -0.    -0.    -0.     0.     1.     0.     0.     0.\n",
      "   0.     0.     0.     0.     0.   ]\n",
      " [ 0.     0.     0.     0.     0.     0.     1.     0.     0.     0.\n",
      "   0.     0.     0.     0.     0.   ]\n",
      " [ 0.     0.    -0.    -0.    -0.     0.     1.     0.     0.     0.\n",
      "   0.     0.     0.     0.     0.   ]\n",
      " [ 0.     0.     0.    -0.    -0.     0.     0.     0.     0.     0.\n",
      "   0.     0.     0.     0.     0.   ]\n",
      " [ 0.     0.    -0.    -0.    -0.     0.     1.     0.     0.     0.\n",
      "   0.     0.     0.     0.     0.   ]\n",
      " [ 1.008 -0.001 -0.001 -0.001 -0.005  0.     0.     0.     0.     0.\n",
      "   0.     0.     0.     0.     0.   ]\n",
      " [ 0.014 -0.002 -0.003  0.969  0.025  0.     0.     0.     0.     0.\n",
      "   0.     0.     0.     0.     0.   ]\n",
      " [ 0.     0.    -0.    -0.    -0.     0.     1.     0.     0.     0.\n",
      "   0.     0.     0.     0.     0.   ]\n",
      " [ 0.     0.    -0.    -0.    -0.     0.     1.     0.     0.     0.\n",
      "   0.     0.     0.     0.     0.   ]\n",
      " [ 1.01  -0.002 -0.005 -0.003 -0.006  0.     0.     0.     0.     0.\n",
      "   0.     0.     0.     0.     0.   ]\n",
      " [ 0.021 -0.005  0.983  0.004 -0.001  0.     0.     0.     0.     0.\n",
      "   0.     0.     0.     0.     0.   ]\n",
      " [ 1.012 -0.005 -0.004 -0.003 -0.006  0.     0.     0.     0.     0.\n",
      "   0.     0.     0.     0.     0.   ]\n",
      " [ 1.004  0.006 -0.007 -0.004 -0.007  0.     0.     0.     0.     0.\n",
      "   0.     0.     0.     0.     0.   ]]\n",
      "**********************************************************\n",
      "[[ 1.01  -0.014  0.002  0.008 -0.001  0.     0.     0.     0.     0.\n",
      "   0.754  0.     0.133  0.046  0.   ]\n",
      " [ 0.021 -0.011  0.983  0.004  0.003  0.     0.     0.     0.     0.\n",
      "   0.     0.     0.994  0.     0.   ]\n",
      " [ 0.988  0.019 -0.009 -0.009 -0.01   0.     1.     0.     0.     0.\n",
      "   0.     0.     0.003  0.     0.   ]\n",
      " [ 1.006  0.004 -0.006 -0.004 -0.007  0.     0.     0.     0.     0.\n",
      "   0.547  0.     0.37   0.     0.   ]\n",
      " [ 0.996  0.011 -0.007 -0.004 -0.007  0.     0.     0.     0.     0.\n",
      "   0.893  0.     0.     0.865  0.   ]\n",
      " [ 0.016  0.002  0.978  0.    -0.001  0.     0.     0.     0.     0.\n",
      "   0.     0.003  0.     0.     0.   ]\n",
      " [ 0.972  0.034 -0.009 -0.01  -0.011  0.     1.     0.     0.     0.\n",
      "   0.     0.     0.004  0.     0.   ]\n",
      " [ 0.989  0.019 -0.009 -0.009 -0.01   0.     1.     0.     0.     0.\n",
      "   0.     0.     0.005  0.     0.   ]\n",
      " [ 0.949  0.018  0.012  0.005  0.004  0.     1.     0.     0.     0.\n",
      "   0.     0.     0.411  0.     0.   ]\n",
      " [ 0.98   0.027 -0.009 -0.009 -0.011  0.     1.     0.     0.     0.\n",
      "   0.     0.     0.003  0.     0.   ]\n",
      " [ 0.015  0.002  0.979 -0.    -0.001  0.     0.     0.     0.     0.\n",
      "   0.     0.     0.     0.     0.   ]\n",
      " [ 0.963  0.043 -0.009 -0.01  -0.012  0.     1.     0.     0.     0.\n",
      "   0.     0.     0.004  0.     0.   ]\n",
      " [ 1.008 -0.001 -0.001 -0.001 -0.005  0.     0.     0.     0.     0.\n",
      "   0.459  0.     0.03   0.     0.   ]\n",
      " [ 0.014 -0.002 -0.003  0.969  0.025  0.     0.     0.     0.     0.\n",
      "   0.279  0.     0.959  0.     0.   ]\n",
      " [ 0.972  0.024 -0.003 -0.006 -0.008  0.     1.     0.     0.     0.\n",
      "   0.     0.     0.053  0.     0.   ]\n",
      " [ 0.99   0.008 -0.002 -0.004 -0.007  0.     1.     0.     0.     0.\n",
      "   0.     0.     0.053  0.     0.   ]\n",
      " [ 1.01  -0.002 -0.005 -0.003 -0.006  0.     0.     0.     0.     0.\n",
      "   0.987  0.     0.004  0.     0.   ]\n",
      " [ 0.021 -0.005  0.983  0.004 -0.001  0.     0.     0.     0.     0.\n",
      "   0.773  0.     0.461  0.     0.   ]\n",
      " [ 1.012 -0.005 -0.004 -0.003 -0.006  0.     0.     0.     0.     0.\n",
      "   0.942  0.     0.007  0.     0.   ]\n",
      " [ 1.004  0.006 -0.007 -0.004 -0.007  0.     0.     0.     0.     0.\n",
      "   0.994  0.     0.     0.045  0.   ]]\n"
     ]
    }
   ],
   "source": [
    "print(final_result_with_degree[:20])\n",
    "print('**********************************************************')\n",
    "print(final_result_without_degree[:20])"
   ]
  },
  {
   "cell_type": "code",
   "execution_count": 110,
   "metadata": {},
   "outputs": [
    {
     "name": "stdout",
     "output_type": "stream",
     "text": [
      "training... please wait\n",
      "3165/3165 [==============================] - 0s 52us/step\n",
      "3165/3165 [==============================] - 0s 52us/step\n",
      "3165/3165 [==============================] - 0s 58us/step\n",
      "3165/3165 [==============================] - 0s 51us/step\n",
      "3165/3165 [==============================] - 0s 60us/step\n",
      "train finished\n"
     ]
    }
   ],
   "source": [
    "# faze test\n",
    "# cluster0\n",
    "# score0_test, loss0_test, val_loss0_test, acc0_test, val_acc0_test = k_fold(5,\n",
    "#                                                                            cluster_test_0_ready,\n",
    "#                                                                            cat_label_test0,\n",
    "#                                                                           40, build_model,\n",
    "#                                                                           'categorical_crossentropy',\n",
    "#                                                                           8)\n",
    "\n",
    "score0_test, loss0_test, val_loss0_test, acc0_test, val_acc0_test = k_fold(5,\n",
    "                                                                           cluster_test_0_ready,\n",
    "                                                                           cat_label_test0,\n",
    "                                                                          40, build_model2,\n",
    "                                                                          'mse', 32)"
   ]
  },
  {
   "cell_type": "code",
   "execution_count": 111,
   "metadata": {},
   "outputs": [
    {
     "name": "stdout",
     "output_type": "stream",
     "text": [
      "0.9370616113216768\n"
     ]
    }
   ],
   "source": [
    "print(np.mean(score0_test))"
   ]
  },
  {
   "cell_type": "code",
   "execution_count": 112,
   "metadata": {},
   "outputs": [],
   "source": [
    "avg_loss0_test = averages(loss0_test, 40)\n",
    "avg_val_loss0_test = averages(val_loss0_test, 40)\n",
    "avg_acc0_test = averages(acc0_test, 40)\n",
    "avg_val_acc0_test = averages(val_acc0_test, 40)"
   ]
  },
  {
   "cell_type": "code",
   "execution_count": 113,
   "metadata": {},
   "outputs": [
    {
     "data": {
      "image/png": "[encoded data removed]",
      "text/plain": [
       "<Figure size 432x288 with 1 Axes>"
      ]
     },
     "metadata": {},
     "output_type": "display_data"
    }
   ],
   "source": [
    "plots(avg_loss0_test, avg_val_loss0_test, 'Loss', epochs)"
   ]
  },
  {
   "cell_type": "code",
   "execution_count": 114,
   "metadata": {},
   "outputs": [
    {
     "data": {
      "image/png": "[encoded data removed]",
      "text/plain": [
       "<Figure size 432x288 with 1 Axes>"
      ]
     },
     "metadata": {},
     "output_type": "display_data"
    }
   ],
   "source": [
    "plots(avg_acc0_test, avg_val_acc0_test, 'Accuracy', epochs)"
   ]
  },
  {
   "cell_type": "code",
   "execution_count": 115,
   "metadata": {
    "scrolled": false
   },
   "outputs": [
    {
     "name": "stdout",
     "output_type": "stream",
     "text": [
      "Epoch 1/40\n",
      "15828/15828 [==============================] - 2s 141us/step - loss: 0.2062 - acc: 0.5306\n",
      "Epoch 2/40\n",
      "15828/15828 [==============================] - 1s 62us/step - loss: 0.0823 - acc: 0.6785\n",
      "Epoch 3/40\n",
      "15828/15828 [==============================] - 1s 63us/step - loss: 0.0739 - acc: 0.7211\n",
      "Epoch 4/40\n",
      "15828/15828 [==============================] - 1s 58us/step - loss: 0.0696 - acc: 0.7274\n",
      "Epoch 5/40\n",
      "15828/15828 [==============================] - 1s 56us/step - loss: 0.0644 - acc: 0.7359\n",
      "Epoch 6/40\n",
      "15828/15828 [==============================] - 1s 57us/step - loss: 0.0569 - acc: 0.8343\n",
      "Epoch 7/40\n",
      "15828/15828 [==============================] - 1s 60us/step - loss: 0.0462 - acc: 0.8707\n",
      "Epoch 8/40\n",
      "15828/15828 [==============================] - 1s 59us/step - loss: 0.0374 - acc: 0.8891\n",
      "Epoch 9/40\n",
      "15828/15828 [==============================] - 1s 59us/step - loss: 0.0339 - acc: 0.8959\n",
      "Epoch 10/40\n",
      "15828/15828 [==============================] - 1s 59us/step - loss: 0.0320 - acc: 0.9026\n",
      "Epoch 11/40\n",
      "15828/15828 [==============================] - 1s 59us/step - loss: 0.0307 - acc: 0.9062\n",
      "Epoch 12/40\n",
      "15828/15828 [==============================] - 1s 58us/step - loss: 0.0297 - acc: 0.9109\n",
      "Epoch 13/40\n",
      "15828/15828 [==============================] - 1s 61us/step - loss: 0.0288 - acc: 0.9118\n",
      "Epoch 14/40\n",
      "15828/15828 [==============================] - 1s 54us/step - loss: 0.0283 - acc: 0.9150\n",
      "Epoch 15/40\n",
      "15828/15828 [==============================] - 1s 58us/step - loss: 0.0276 - acc: 0.9173\n",
      "Epoch 16/40\n",
      "15828/15828 [==============================] - 1s 61us/step - loss: 0.0271 - acc: 0.9178\n",
      "Epoch 17/40\n",
      "15828/15828 [==============================] - 1s 60us/step - loss: 0.0266 - acc: 0.9182\n",
      "Epoch 18/40\n",
      "15828/15828 [==============================] - 1s 61us/step - loss: 0.0261 - acc: 0.9190\n",
      "Epoch 19/40\n",
      "15828/15828 [==============================] - 1s 61us/step - loss: 0.0257 - acc: 0.9206\n",
      "Epoch 20/40\n",
      "15828/15828 [==============================] - 1s 60us/step - loss: 0.0253 - acc: 0.9210\n",
      "Epoch 21/40\n",
      "15828/15828 [==============================] - 1s 60us/step - loss: 0.0248 - acc: 0.9218\n",
      "Epoch 22/40\n",
      "15828/15828 [==============================] - 1s 60us/step - loss: 0.0244 - acc: 0.9224\n",
      "Epoch 23/40\n",
      "15828/15828 [==============================] - 1s 59us/step - loss: 0.0240 - acc: 0.9236\n",
      "Epoch 24/40\n",
      "15828/15828 [==============================] - 1s 59us/step - loss: 0.0236 - acc: 0.9244\n",
      "Epoch 25/40\n",
      "15828/15828 [==============================] - 1s 61us/step - loss: 0.0233 - acc: 0.9248\n",
      "Epoch 26/40\n",
      "15828/15828 [==============================] - 1s 58us/step - loss: 0.0229 - acc: 0.9271\n",
      "Epoch 27/40\n",
      "15828/15828 [==============================] - 1s 61us/step - loss: 0.0226 - acc: 0.9275\n",
      "Epoch 28/40\n",
      "15828/15828 [==============================] - 1s 59us/step - loss: 0.0222 - acc: 0.9297\n",
      "Epoch 29/40\n",
      "15828/15828 [==============================] - 1s 57us/step - loss: 0.0219 - acc: 0.9316\n",
      "Epoch 30/40\n",
      "15828/15828 [==============================] - 1s 55us/step - loss: 0.0216 - acc: 0.9318\n",
      "Epoch 31/40\n",
      "15828/15828 [==============================] - 1s 59us/step - loss: 0.0212 - acc: 0.9329\n",
      "Epoch 32/40\n",
      "15828/15828 [==============================] - 1s 60us/step - loss: 0.0210 - acc: 0.9346\n",
      "Epoch 33/40\n",
      "15828/15828 [==============================] - 1s 61us/step - loss: 0.0209 - acc: 0.9353\n",
      "Epoch 34/40\n",
      "15828/15828 [==============================] - 1s 61us/step - loss: 0.0205 - acc: 0.9361\n",
      "Epoch 35/40\n",
      "15828/15828 [==============================] - 1s 58us/step - loss: 0.0204 - acc: 0.9352\n",
      "Epoch 36/40\n",
      "15828/15828 [==============================] - 1s 57us/step - loss: 0.0202 - acc: 0.9369\n",
      "Epoch 37/40\n",
      "15828/15828 [==============================] - 1s 59us/step - loss: 0.0199 - acc: 0.9387\n",
      "Epoch 38/40\n",
      "15828/15828 [==============================] - 1s 60us/step - loss: 0.0199 - acc: 0.9382\n",
      "Epoch 39/40\n",
      "15828/15828 [==============================] - 1s 58us/step - loss: 0.0196 - acc: 0.9400\n",
      "Epoch 40/40\n",
      "15828/15828 [==============================] - 1s 58us/step - loss: 0.0195 - acc: 0.9392\n"
     ]
    },
    {
     "data": {
      "text/plain": [
       "<keras.callbacks.History at 0x7fe086e9ef28>"
      ]
     },
     "execution_count": 115,
     "metadata": {},
     "output_type": "execute_result"
    }
   ],
   "source": [
    "ms_c0_network_test = 0\n",
    "ms_c0_network_test = build_model2('mse')\n",
    "ms_c0_network_test.fit(cluster_test_0_ready, cat_label_test0, epochs=40, batch_size=64)\n",
    "\n",
    "# ms_c0_network_test = build_model('categorical_crossentropy')\n",
    "# ms_c0_network_test.fit(cluster_test_0_ready, cat_label_test0, epochs=39, batch_size=32)#39-32-74%, 35-256-72%"
   ]
  },
  {
   "cell_type": "code",
   "execution_count": 116,
   "metadata": {},
   "outputs": [
    {
     "name": "stdout",
     "output_type": "stream",
     "text": [
      "22544/22544 [==============================] - 1s 61us/step\n",
      "[0.0882506883426221, 0.7762597586941093]\n"
     ]
    }
   ],
   "source": [
    "print(ms_c0_network_test.evaluate(ids_test2_pred, cat_test_numerical_label))"
   ]
  },
  {
   "cell_type": "code",
   "execution_count": 117,
   "metadata": {},
   "outputs": [
    {
     "name": "stdout",
     "output_type": "stream",
     "text": [
      "9.850661516189575\n",
      "precision 0.9355790127144431\n",
      "FPR 0.042735042734602664\n",
      "TPR 0.46964856229665974\n",
      "Recall 0.46964856229665974\n",
      "FNR 0.5303514376955477\n",
      "specificity 0.9572649572550996\n",
      "accuracy 0.6796930447095472\n",
      "F_score 0.6253696052958747\n",
      "FN 6806.0\n",
      "FP 415.0\n",
      "TP 6027.0\n",
      "TN 9296.0\n",
      "Cohens_kappa [0.395]\n"
     ]
    }
   ],
   "source": [
    "# svm for cluster0 test\n",
    "from sklearn.multiclass import OneVsRestClassifier\n",
    "from sklearn.svm import SVC\n",
    "\n",
    "t1 = time.time()\n",
    "ovr_svm_c0_test = OneVsRestClassifier(SVC(random_state=0)).fit(cluster_test_0_ready, cat_label_test0)\n",
    "t2 = time.time()\n",
    "print(t2 - t1)\n",
    "\n",
    "prd_c0_test_svm = ovr_svm_c0_test.predict(ids_test2_pred)\n",
    "_ = metrics_binary_1node(prd_c0_test_svm, cat_test_numerical_label)"
   ]
  },
  {
   "cell_type": "code",
   "execution_count": 118,
   "metadata": {},
   "outputs": [
    {
     "name": "stdout",
     "output_type": "stream",
     "text": [
      "training... please wait\n",
      "836/836 [==============================] - 0s 82us/step\n",
      "836/836 [==============================] - 0s 50us/step\n",
      "836/836 [==============================] - 0s 56us/step\n",
      "836/836 [==============================] - 0s 55us/step\n",
      "836/836 [==============================] - 0s 61us/step\n",
      "train finished\n"
     ]
    }
   ],
   "source": [
    "# cluster1\n",
    "# score1_test, loss1_test, val_loss1_test, acc1_test, val_acc1_test = k_fold(5,\n",
    "#                                                                            cluster_test_1_ready,\n",
    "#                                                                            cat_label_test1,\n",
    "#                                                                           40, build_model,\n",
    "#                                                                           'categorical_crossentropy',\n",
    "#                                                                           128)\n",
    "\n",
    "score1_test, loss1_test, val_loss1_test, acc1_test, val_acc1_test = k_fold(5,\n",
    "                                                                           cluster_test_1_ready,\n",
    "                                                                           cat_label_test1,\n",
    "                                                                          40, build_model2,\n",
    "                                                                          'mse', 128)"
   ]
  },
  {
   "cell_type": "code",
   "execution_count": 119,
   "metadata": {},
   "outputs": [
    {
     "name": "stdout",
     "output_type": "stream",
     "text": [
      "0.9832535885167465\n"
     ]
    }
   ],
   "source": [
    "print(np.mean(score1_test))"
   ]
  },
  {
   "cell_type": "code",
   "execution_count": 120,
   "metadata": {},
   "outputs": [],
   "source": [
    "avg_loss1_test = averages(loss1_test, 40)\n",
    "avg_val_loss1_test = averages(val_loss1_test, 40)\n",
    "avg_acc1_test = averages(acc1_test, 40)\n",
    "avg_val_acc1_test = averages(val_acc1_test, 40)"
   ]
  },
  {
   "cell_type": "code",
   "execution_count": 121,
   "metadata": {},
   "outputs": [
    {
     "data": {
      "image/png": "[encoded data removed]",
      "text/plain": [
       "<Figure size 432x288 with 1 Axes>"
      ]
     },
     "metadata": {},
     "output_type": "display_data"
    }
   ],
   "source": [
    "plots(avg_loss1_test, avg_val_loss1_test, 'Loss', epochs)"
   ]
  },
  {
   "cell_type": "code",
   "execution_count": 122,
   "metadata": {},
   "outputs": [
    {
     "data": {
      "image/png": "[encoded data removed]",
      "text/plain": [
       "<Figure size 432x288 with 1 Axes>"
      ]
     },
     "metadata": {},
     "output_type": "display_data"
    }
   ],
   "source": [
    "plots(avg_acc1_test, avg_val_acc1_test, 'Accuracy', epochs)"
   ]
  },
  {
   "cell_type": "code",
   "execution_count": 123,
   "metadata": {
    "scrolled": false
   },
   "outputs": [
    {
     "name": "stdout",
     "output_type": "stream",
     "text": [
      "Epoch 1/40\n",
      "4181/4181 [==============================] - 2s 431us/step - loss: 0.7520 - acc: 0.7630\n",
      "Epoch 2/40\n",
      "4181/4181 [==============================] - 0s 41us/step - loss: 0.3482 - acc: 0.8873\n",
      "Epoch 3/40\n",
      "4181/4181 [==============================] - 0s 44us/step - loss: 0.1853 - acc: 0.9605\n",
      "Epoch 4/40\n",
      "4181/4181 [==============================] - 0s 44us/step - loss: 0.1268 - acc: 0.9665\n",
      "Epoch 5/40\n",
      "4181/4181 [==============================] - 0s 40us/step - loss: 0.0961 - acc: 0.9756\n",
      "Epoch 6/40\n",
      "4181/4181 [==============================] - 0s 40us/step - loss: 0.0802 - acc: 0.9778\n",
      "Epoch 7/40\n",
      "4181/4181 [==============================] - 0s 44us/step - loss: 0.0708 - acc: 0.9780\n",
      "Epoch 8/40\n",
      "4181/4181 [==============================] - 0s 46us/step - loss: 0.0649 - acc: 0.9785\n",
      "Epoch 9/40\n",
      "4181/4181 [==============================] - 0s 44us/step - loss: 0.0591 - acc: 0.9785\n",
      "Epoch 10/40\n",
      "4181/4181 [==============================] - 0s 42us/step - loss: 0.0557 - acc: 0.9797\n",
      "Epoch 11/40\n",
      "4181/4181 [==============================] - 0s 43us/step - loss: 0.0521 - acc: 0.9804\n",
      "Epoch 12/40\n",
      "4181/4181 [==============================] - 0s 44us/step - loss: 0.0484 - acc: 0.9804\n",
      "Epoch 13/40\n",
      "4181/4181 [==============================] - 0s 46us/step - loss: 0.0453 - acc: 0.9797\n",
      "Epoch 14/40\n",
      "4181/4181 [==============================] - 0s 41us/step - loss: 0.0434 - acc: 0.9818\n",
      "Epoch 15/40\n",
      "4181/4181 [==============================] - 0s 41us/step - loss: 0.0420 - acc: 0.9840\n",
      "Epoch 16/40\n",
      "4181/4181 [==============================] - 0s 44us/step - loss: 0.0388 - acc: 0.9837\n",
      "Epoch 17/40\n",
      "4181/4181 [==============================] - 0s 46us/step - loss: 0.0409 - acc: 0.9840\n",
      "Epoch 18/40\n",
      "4181/4181 [==============================] - 0s 40us/step - loss: 0.0364 - acc: 0.9849\n",
      "Epoch 19/40\n",
      "4181/4181 [==============================] - 0s 43us/step - loss: 0.0354 - acc: 0.9854\n",
      "Epoch 20/40\n",
      "4181/4181 [==============================] - 0s 42us/step - loss: 0.0347 - acc: 0.9852\n",
      "Epoch 21/40\n",
      "4181/4181 [==============================] - 0s 44us/step - loss: 0.0344 - acc: 0.9859\n",
      "Epoch 22/40\n",
      "4181/4181 [==============================] - 0s 41us/step - loss: 0.0331 - acc: 0.9859\n",
      "Epoch 23/40\n",
      "4181/4181 [==============================] - 0s 47us/step - loss: 0.0329 - acc: 0.9864\n",
      "Epoch 24/40\n",
      "4181/4181 [==============================] - 0s 47us/step - loss: 0.0323 - acc: 0.9852\n",
      "Epoch 25/40\n",
      "4181/4181 [==============================] - 0s 44us/step - loss: 0.0300 - acc: 0.9854\n",
      "Epoch 26/40\n",
      "4181/4181 [==============================] - 0s 47us/step - loss: 0.0315 - acc: 0.9868\n",
      "Epoch 27/40\n",
      "4181/4181 [==============================] - 0s 42us/step - loss: 0.0301 - acc: 0.9856\n",
      "Epoch 28/40\n",
      "4181/4181 [==============================] - 0s 43us/step - loss: 0.0305 - acc: 0.9873\n",
      "Epoch 29/40\n",
      "4181/4181 [==============================] - 0s 44us/step - loss: 0.0291 - acc: 0.9873\n",
      "Epoch 30/40\n",
      "4181/4181 [==============================] - 0s 45us/step - loss: 0.0280 - acc: 0.9876\n",
      "Epoch 31/40\n",
      "4181/4181 [==============================] - 0s 42us/step - loss: 0.0281 - acc: 0.9885\n",
      "Epoch 32/40\n",
      "4181/4181 [==============================] - 0s 43us/step - loss: 0.0290 - acc: 0.9873\n",
      "Epoch 33/40\n",
      "4181/4181 [==============================] - 0s 43us/step - loss: 0.0281 - acc: 0.9876\n",
      "Epoch 34/40\n",
      "4181/4181 [==============================] - 0s 43us/step - loss: 0.0267 - acc: 0.9873\n",
      "Epoch 35/40\n",
      "4181/4181 [==============================] - 0s 43us/step - loss: 0.0271 - acc: 0.9880\n",
      "Epoch 36/40\n",
      "4181/4181 [==============================] - 0s 45us/step - loss: 0.0259 - acc: 0.9873\n",
      "Epoch 37/40\n",
      "4181/4181 [==============================] - 0s 44us/step - loss: 0.0265 - acc: 0.9876\n",
      "Epoch 38/40\n",
      "4181/4181 [==============================] - 0s 40us/step - loss: 0.0262 - acc: 0.9873\n",
      "Epoch 39/40\n",
      "4181/4181 [==============================] - 0s 45us/step - loss: 0.0276 - acc: 0.9868\n",
      "Epoch 40/40\n",
      "4181/4181 [==============================] - 0s 44us/step - loss: 0.0253 - acc: 0.9880\n"
     ]
    },
    {
     "data": {
      "text/plain": [
       "<keras.callbacks.History at 0x7fe0657b9828>"
      ]
     },
     "execution_count": 123,
     "metadata": {},
     "output_type": "execute_result"
    }
   ],
   "source": [
    "# k fold zade shod\n",
    "ms_c1_network_test = 0\n",
    "ms_c1_network_test = build_model('categorical_crossentropy')\n",
    "ms_c1_network_test.fit(cluster_test_1_ready, cat_label_test1, epochs=40, batch_size=128)\n",
    "\n",
    "# ms_c1_network_test = build_model2('mse')\n",
    "# ms_c1_network_test.fit(cluster_test_1_ready, cat_label_test1, epochs=40, batch_size=16)"
   ]
  },
  {
   "cell_type": "code",
   "execution_count": 124,
   "metadata": {},
   "outputs": [
    {
     "name": "stdout",
     "output_type": "stream",
     "text": [
      "22544/22544 [==============================] - 2s 71us/step\n",
      "[4.216429004439062, 0.2956884315117104]\n"
     ]
    }
   ],
   "source": [
    "print(ms_c1_network_test.evaluate(ids_test2_pred, cat_test_numerical_label))"
   ]
  },
  {
   "cell_type": "code",
   "execution_count": 125,
   "metadata": {},
   "outputs": [
    {
     "name": "stdout",
     "output_type": "stream",
     "text": [
      "precision 0.3879773379413731\n",
      "FPR 0.8565544228106625\n",
      "TPR 0.41089378944587474\n",
      "Recall 0.41089378944587474\n",
      "FNR 0.5891062105463328\n",
      "specificity 0.14344557717903977\n",
      "accuracy 0.2956884315103988\n",
      "F_score 0.399106822578245\n",
      "FN 7560.0\n",
      "FP 8318.0\n",
      "TP 5273.0\n",
      "TN 1393.0\n",
      "Cohens_kappa [-0.45]\n"
     ]
    }
   ],
   "source": [
    "prd_c1_test_svm = ms_c1_network_test.predict(ids_test2_pred)\n",
    "_ = metrics_binary_1node(prd_c1_test_svm, cat_test_numerical_label)"
   ]
  },
  {
   "cell_type": "code",
   "execution_count": 126,
   "metadata": {},
   "outputs": [
    {
     "name": "stderr",
     "output_type": "stream",
     "text": [
      "/home/siamak/Projects/PycharmProjects/deep/lib/python3.6/site-packages/sklearn/multiclass.py:76: UserWarning: Label not 4 is present in all training examples.\n",
      "  str(classes[c]))\n"
     ]
    },
    {
     "name": "stdout",
     "output_type": "stream",
     "text": [
      "0.3284108638763428\n",
      "precision 0.36552583267528505\n",
      "FPR 0.9964988157656626\n",
      "TPR 0.43442686822695836\n",
      "Recall 0.43442686822695836\n",
      "FNR 0.5655731317652491\n",
      "specificity 0.0035011842240397365\n",
      "accuracy 0.2488023420854826\n",
      "F_score 0.3970090299479567\n",
      "FN 7258.0\n",
      "FP 9677.0\n",
      "TP 5575.0\n",
      "TN 34.0\n",
      "Cohens_kappa [-0.58]\n"
     ]
    }
   ],
   "source": [
    "# svm for cluster1 test \n",
    "from sklearn.multiclass import OneVsRestClassifier\n",
    "from sklearn.svm import SVC\n",
    "\n",
    "t1 = time.time()\n",
    "ovr_svm_c1_test = OneVsRestClassifier(SVC(random_state=0)).fit(cluster_test_1_ready, cat_label_test1)\n",
    "t2 = time.time()\n",
    "print(t2 - t1)\n",
    "\n",
    "prd_c1_test_svm = ovr_svm_c1_test.predict(ids_test2_pred)\n",
    "\n",
    "_ = metrics_binary_1node(prd_c1_test_svm, cat_test_numerical_label)"
   ]
  },
  {
   "cell_type": "code",
   "execution_count": 127,
   "metadata": {},
   "outputs": [
    {
     "name": "stdout",
     "output_type": "stream",
     "text": [
      "training... please wait\n",
      "507/507 [==============================] - 0s 65us/step\n",
      "507/507 [==============================] - 0s 67us/step\n",
      "507/507 [==============================] - 0s 69us/step\n",
      "507/507 [==============================] - 0s 67us/step\n",
      "507/507 [==============================] - 0s 68us/step\n",
      "train finished\n"
     ]
    }
   ],
   "source": [
    "# cluster2\n",
    "score2_test, loss2_test, val_loss2_test, acc2_test, val_acc2_test = k_fold(5,\n",
    "                                                                           cluster_test_2_ready,\n",
    "                                                                           cat_label_test2,\n",
    "                                                                          40, build_model,\n",
    "                                                                          'categorical_crossentropy',\n",
    "                                                                          128)\n",
    "\n",
    "# score2_test, loss2_test, val_loss2_test, acc2_test, val_acc2_test = k_fold(5,\n",
    "#                                                                            cluster_test_2_ready,\n",
    "#                                                                            cat_label_test2,\n",
    "#                                                                           40, build_model2,\n",
    "#                                                                           'mse', 128)"
   ]
  },
  {
   "cell_type": "code",
   "execution_count": 128,
   "metadata": {},
   "outputs": [
    {
     "name": "stdout",
     "output_type": "stream",
     "text": [
      "0.9822485211803128\n"
     ]
    }
   ],
   "source": [
    "print(np.mean(score2_test))"
   ]
  },
  {
   "cell_type": "code",
   "execution_count": 129,
   "metadata": {},
   "outputs": [],
   "source": [
    "avg_loss2_test = averages(loss2_test, 40)\n",
    "avg_val_loss2_test = averages(val_loss2_test, 40)\n",
    "avg_acc2_test = averages(acc2_test, 40)\n",
    "avg_val_acc2_test = averages(val_acc2_test, 40)"
   ]
  },
  {
   "cell_type": "code",
   "execution_count": 130,
   "metadata": {},
   "outputs": [
    {
     "data": {
      "image/png": "[encoded data removed]",
      "text/plain": [
       "<Figure size 432x288 with 1 Axes>"
      ]
     },
     "metadata": {},
     "output_type": "display_data"
    }
   ],
   "source": [
    "plots(avg_loss2_test, avg_val_loss2_test, 'Loss', epochs)"
   ]
  },
  {
   "cell_type": "code",
   "execution_count": 131,
   "metadata": {},
   "outputs": [
    {
     "data": {
      "image/png": "[encoded data removed]",
      "text/plain": [
       "<Figure size 432x288 with 1 Axes>"
      ]
     },
     "metadata": {},
     "output_type": "display_data"
    }
   ],
   "source": [
    "plots(avg_acc2_test, avg_val_acc2_test, 'Accuracy', epochs)"
   ]
  },
  {
   "cell_type": "code",
   "execution_count": 132,
   "metadata": {
    "scrolled": false
   },
   "outputs": [
    {
     "name": "stdout",
     "output_type": "stream",
     "text": [
      "Epoch 1/60\n",
      "2535/2535 [==============================] - 2s 755us/step - loss: 1.3569 - acc: 0.0122\n",
      "Epoch 2/60\n",
      "2535/2535 [==============================] - 0s 87us/step - loss: 1.1612 - acc: 0.0694\n",
      "Epoch 3/60\n",
      "2535/2535 [==============================] - 0s 86us/step - loss: 0.9361 - acc: 0.1373\n",
      "Epoch 4/60\n",
      "2535/2535 [==============================] - 0s 92us/step - loss: 0.4950 - acc: 0.6406\n",
      "Epoch 5/60\n",
      "2535/2535 [==============================] - 0s 94us/step - loss: 0.3050 - acc: 0.8284\n",
      "Epoch 6/60\n",
      "2535/2535 [==============================] - 0s 81us/step - loss: 0.2202 - acc: 0.8817\n",
      "Epoch 7/60\n",
      "2535/2535 [==============================] - 0s 89us/step - loss: 0.1961 - acc: 0.8911\n",
      "Epoch 8/60\n",
      "2535/2535 [==============================] - 0s 89us/step - loss: 0.1750 - acc: 0.8951\n",
      "Epoch 9/60\n",
      "2535/2535 [==============================] - 0s 94us/step - loss: 0.1586 - acc: 0.8998\n",
      "Epoch 10/60\n",
      "2535/2535 [==============================] - 0s 88us/step - loss: 0.1443 - acc: 0.9085\n",
      "Epoch 11/60\n",
      "2535/2535 [==============================] - 0s 83us/step - loss: 0.1305 - acc: 0.9160\n",
      "Epoch 12/60\n",
      "2535/2535 [==============================] - 0s 83us/step - loss: 0.1185 - acc: 0.9345\n",
      "Epoch 13/60\n",
      "2535/2535 [==============================] - 0s 85us/step - loss: 0.1086 - acc: 0.9385\n",
      "Epoch 14/60\n",
      "2535/2535 [==============================] - 0s 83us/step - loss: 0.1004 - acc: 0.9385\n",
      "Epoch 15/60\n",
      "2535/2535 [==============================] - 0s 92us/step - loss: 0.0933 - acc: 0.9396\n",
      "Epoch 16/60\n",
      "2535/2535 [==============================] - 0s 82us/step - loss: 0.0869 - acc: 0.9400\n",
      "Epoch 17/60\n",
      "2535/2535 [==============================] - 0s 85us/step - loss: 0.0811 - acc: 0.9408\n",
      "Epoch 18/60\n",
      "2535/2535 [==============================] - 0s 86us/step - loss: 0.0758 - acc: 0.9416\n",
      "Epoch 19/60\n",
      "2535/2535 [==============================] - 0s 89us/step - loss: 0.0714 - acc: 0.9424\n",
      "Epoch 20/60\n",
      "2535/2535 [==============================] - 0s 93us/step - loss: 0.0677 - acc: 0.9440\n",
      "Epoch 21/60\n",
      "2535/2535 [==============================] - 0s 88us/step - loss: 0.0648 - acc: 0.9440\n",
      "Epoch 22/60\n",
      "2535/2535 [==============================] - 0s 84us/step - loss: 0.0623 - acc: 0.9460\n",
      "Epoch 23/60\n",
      "2535/2535 [==============================] - 0s 94us/step - loss: 0.0602 - acc: 0.9467\n",
      "Epoch 24/60\n",
      "2535/2535 [==============================] - 0s 86us/step - loss: 0.0584 - acc: 0.9471\n",
      "Epoch 25/60\n",
      "2535/2535 [==============================] - 0s 86us/step - loss: 0.0565 - acc: 0.9491\n",
      "Epoch 26/60\n",
      "2535/2535 [==============================] - 0s 84us/step - loss: 0.0547 - acc: 0.9499\n",
      "Epoch 27/60\n",
      "2535/2535 [==============================] - 0s 90us/step - loss: 0.0532 - acc: 0.9507\n",
      "Epoch 28/60\n",
      "2535/2535 [==============================] - 0s 85us/step - loss: 0.0519 - acc: 0.9515\n",
      "Epoch 29/60\n",
      "2535/2535 [==============================] - 0s 94us/step - loss: 0.0506 - acc: 0.9511\n",
      "Epoch 30/60\n",
      "2535/2535 [==============================] - 0s 94us/step - loss: 0.0493 - acc: 0.9527\n",
      "Epoch 31/60\n",
      "2535/2535 [==============================] - 0s 91us/step - loss: 0.0479 - acc: 0.9542\n",
      "Epoch 32/60\n",
      "2535/2535 [==============================] - 0s 89us/step - loss: 0.0458 - acc: 0.9554\n",
      "Epoch 33/60\n",
      "2535/2535 [==============================] - 0s 91us/step - loss: 0.0427 - acc: 0.9566\n",
      "Epoch 34/60\n",
      "2535/2535 [==============================] - 0s 91us/step - loss: 0.0374 - acc: 0.9574\n",
      "Epoch 35/60\n",
      "2535/2535 [==============================] - 0s 87us/step - loss: 0.0334 - acc: 0.9578\n",
      "Epoch 36/60\n",
      "2535/2535 [==============================] - 0s 87us/step - loss: 0.0316 - acc: 0.9594\n",
      "Epoch 37/60\n",
      "2535/2535 [==============================] - 0s 86us/step - loss: 0.0304 - acc: 0.9586\n",
      "Epoch 38/60\n",
      "2535/2535 [==============================] - 0s 90us/step - loss: 0.0292 - acc: 0.9594\n",
      "Epoch 39/60\n",
      "2535/2535 [==============================] - 0s 86us/step - loss: 0.0282 - acc: 0.9594\n",
      "Epoch 40/60\n",
      "2535/2535 [==============================] - 0s 86us/step - loss: 0.0272 - acc: 0.9598\n",
      "Epoch 41/60\n",
      "2535/2535 [==============================] - 0s 84us/step - loss: 0.0262 - acc: 0.9609\n",
      "Epoch 42/60\n",
      "2535/2535 [==============================] - 0s 89us/step - loss: 0.0253 - acc: 0.9598\n",
      "Epoch 43/60\n",
      "2535/2535 [==============================] - 0s 80us/step - loss: 0.0244 - acc: 0.9613\n",
      "Epoch 44/60\n",
      "2535/2535 [==============================] - 0s 85us/step - loss: 0.0237 - acc: 0.9629\n",
      "Epoch 45/60\n",
      "2535/2535 [==============================] - 0s 92us/step - loss: 0.0229 - acc: 0.9625\n",
      "Epoch 46/60\n",
      "2535/2535 [==============================] - 0s 96us/step - loss: 0.0222 - acc: 0.9629\n",
      "Epoch 47/60\n",
      "2535/2535 [==============================] - 0s 86us/step - loss: 0.0216 - acc: 0.9629\n",
      "Epoch 48/60\n",
      "2535/2535 [==============================] - 0s 92us/step - loss: 0.0210 - acc: 0.9637\n",
      "Epoch 49/60\n",
      "2535/2535 [==============================] - 0s 90us/step - loss: 0.0204 - acc: 0.9637\n",
      "Epoch 50/60\n",
      "2535/2535 [==============================] - 0s 86us/step - loss: 0.0198 - acc: 0.9649\n",
      "Epoch 51/60\n",
      "2535/2535 [==============================] - 0s 90us/step - loss: 0.0193 - acc: 0.9649\n",
      "Epoch 52/60\n",
      "2535/2535 [==============================] - 0s 87us/step - loss: 0.0190 - acc: 0.9661\n",
      "Epoch 53/60\n",
      "2535/2535 [==============================] - 0s 84us/step - loss: 0.0185 - acc: 0.9661\n",
      "Epoch 54/60\n",
      "2535/2535 [==============================] - 0s 83us/step - loss: 0.0181 - acc: 0.9665\n",
      "Epoch 55/60\n",
      "2535/2535 [==============================] - 0s 91us/step - loss: 0.0178 - acc: 0.9680\n",
      "Epoch 56/60\n",
      "2535/2535 [==============================] - 0s 83us/step - loss: 0.0175 - acc: 0.9669\n",
      "Epoch 57/60\n",
      "2535/2535 [==============================] - 0s 86us/step - loss: 0.0171 - acc: 0.9669\n",
      "Epoch 58/60\n",
      "2535/2535 [==============================] - 0s 90us/step - loss: 0.0168 - acc: 0.9669\n",
      "Epoch 59/60\n",
      "2535/2535 [==============================] - 0s 83us/step - loss: 0.0165 - acc: 0.9680\n",
      "Epoch 60/60\n",
      "2535/2535 [==============================] - 0s 83us/step - loss: 0.0163 - acc: 0.9677\n"
     ]
    },
    {
     "data": {
      "text/plain": [
       "<keras.callbacks.History at 0x7fe0cfae44e0>"
      ]
     },
     "execution_count": 132,
     "metadata": {},
     "output_type": "execute_result"
    }
   ],
   "source": [
    "ms_c2_network_test = 0\n",
    "# ms_c2_network_test = build_model('categorical_crossentropy')\n",
    "# ms_c2_network_test.fit(cluster_test_2_ready, cat_label_test2, epochs=40, batch_size=128)\n",
    "ms_c2_network_test = Sequential()\n",
    "ms_c2_network_test.add(Dense(5, activation='tanh', kernel_initializer=initializer, bias_initializer='zeros', input_shape=(25, )))\n",
    "# ms_c2_network_test.add(Dense(10, activation='relu', kernel_initializer=initializer, bias_initializer='zeros'))\n",
    "# ms_c2_network_test.add(Dense(5, activation='sigmoid', kernel_initializer=initializer, bias_initializer='zeros'))\n",
    "ms_c2_network_test.compile(optimizer=adam, loss='mse', metrics=['accuracy'])\n",
    "ms_c2_network_test.fit(cluster_test_2_ready, cat_label_test2, epochs=60, batch_size=32)\n",
    "# ms_c2_network_test = build_model2('mse')\n",
    "# ms_c2_network_test.fit(cluster_test_2_ready, cat_label_test2, epochs=40, batch_size=128)"
   ]
  },
  {
   "cell_type": "code",
   "execution_count": 133,
   "metadata": {},
   "outputs": [
    {
     "name": "stdout",
     "output_type": "stream",
     "text": [
      "22544/22544 [==============================] - 2s 76us/step\n",
      "[0.4816074127039222, 0.2956884315117104]\n"
     ]
    }
   ],
   "source": [
    "print(ms_c2_network_test.evaluate(ids_test2_pred, cat_test_numerical_label))"
   ]
  },
  {
   "cell_type": "code",
   "execution_count": 134,
   "metadata": {},
   "outputs": [
    {
     "name": "stdout",
     "output_type": "stream",
     "text": [
      "precision 0.4070229007608731\n",
      "FPR 0.9998970239831129\n",
      "TPR 0.5193641393242471\n",
      "Recall 0.5193641393242471\n",
      "FNR 0.48063586066796044\n",
      "specificity 0.000102976006589404\n",
      "accuracy 0.2956884315103988\n",
      "F_score 0.4563817639340409\n",
      "FN 6168.0\n",
      "FP 9710.0\n",
      "TP 6665.0\n",
      "TN 1.0\n",
      "Cohens_kappa [-0.503]\n"
     ]
    }
   ],
   "source": [
    "prd_c2_test = ms_c2_network_test.predict(ids_test2_pred)\n",
    "_ = metrics_binary_1node(prd_c2_test, cat_test_numerical_label)"
   ]
  },
  {
   "cell_type": "code",
   "execution_count": 135,
   "metadata": {},
   "outputs": [
    {
     "name": "stdout",
     "output_type": "stream",
     "text": [
      "0.2395007610321045\n",
      "precision 0.4693520140079392\n",
      "FPR 0.9984553598908613\n",
      "TPR 0.6682770981012368\n",
      "Recall 0.6682770981012368\n",
      "FNR 0.33172290189097076\n",
      "specificity 0.00154464009884106\n",
      "accuracy 0.3810770049663721\n",
      "F_score 0.551422552393276\n",
      "FN 4257.0\n",
      "FP 9696.0\n",
      "TP 8576.0\n",
      "TN 15.0\n",
      "Cohens_kappa [-0.354]\n"
     ]
    }
   ],
   "source": [
    "# svm for cluster2 test \n",
    "t1 = time.time()\n",
    "ovr_svm_c2_test = OneVsRestClassifier(SVC(random_state=0)).fit(cluster_test_2_ready, cat_label_test2)\n",
    "t2 = time.time()\n",
    "print(t2 - t1)\n",
    "\n",
    "prd_c2_test_svm = ovr_svm_c2_test.predict(ids_test2_pred)\n",
    "_ = metrics_binary_1node(prd_c2_test_svm, cat_test_numerical_label)"
   ]
  },
  {
   "cell_type": "code",
   "execution_count": 136,
   "metadata": {},
   "outputs": [],
   "source": [
    "result_c0_test = ms_c0_network_test.predict(ids_test2_pred)\n",
    "result_c1_test = ms_c1_network_test.predict(ids_test2_pred)\n",
    "result_c2_test = ovr_svm_c2_test.predict(ids_test2_pred)"
   ]
  },
  {
   "cell_type": "code",
   "execution_count": 137,
   "metadata": {},
   "outputs": [
    {
     "name": "stdout",
     "output_type": "stream",
     "text": [
      "[[-0.071 -0.021  1.074  0.008 -0.014]\n",
      " [-0.044 -0.037  1.061 -0.007 -0.008]\n",
      " [ 0.896  0.033  0.039  0.016  0.033]\n",
      " [-0.035  0.038  0.979  0.041 -0.026]\n",
      " [-0.043 -0.041  1.041  0.008 -0.009]\n",
      " [ 0.988  0.007  0.007  0.003 -0.004]\n",
      " [ 0.874  0.043  0.114  0.045  0.026]\n",
      " [ 0.016  0.013  0.019  0.953  0.004]\n",
      " [ 0.988  0.007  0.007  0.003 -0.004]\n",
      " [ 0.039  0.005 -0.017  0.968  0.014]\n",
      " [-0.027  0.632  0.108  0.251  0.01 ]\n",
      " [ 0.943  0.028  0.034  0.013  0.021]\n",
      " [-0.035 -0.042  1.056 -0.012 -0.006]\n",
      " [-0.021  0.01   0.147  0.882  0.001]\n",
      " [ 0.919  0.038  0.054  0.014  0.019]\n",
      " [ 0.991  0.006  0.005  0.002 -0.005]\n",
      " [ 1.015 -0.02   0.005  0.002  0.01 ]\n",
      " [ 0.991  0.006  0.005  0.002 -0.005]\n",
      " [ 0.993  0.005  0.005  0.001 -0.   ]\n",
      " [-0.069 -0.023  1.073  0.007 -0.014]]\n",
      "*******************************************************************\n",
      "[[0.    0.519 0.    0.    0.   ]\n",
      " [0.    0.284 0.    0.    0.   ]\n",
      " [0.46  0.    0.529 0.    0.   ]\n",
      " [0.111 0.    0.999 0.    0.   ]\n",
      " [0.004 0.    0.001 0.169 0.   ]\n",
      " [0.016 0.    0.888 0.    0.   ]\n",
      " [0.014 0.    1.    0.    0.   ]\n",
      " [0.148 0.    0.963 0.    0.   ]\n",
      " [0.009 0.    0.813 0.    0.   ]\n",
      " [0.335 0.    0.199 0.    0.   ]\n",
      " [0.225 0.006 0.971 0.002 0.   ]\n",
      " [0.354 0.053 0.78  0.031 0.002]\n",
      " [0.    0.227 0.    0.    0.   ]\n",
      " [0.046 0.005 0.168 0.    0.   ]\n",
      " [0.616 0.    0.894 0.    0.   ]\n",
      " [0.11  0.    0.806 0.    0.   ]\n",
      " [0.1   0.    0.94  0.    0.   ]\n",
      " [0.226 0.    0.79  0.    0.   ]\n",
      " [0.055 0.018 0.927 0.    0.   ]\n",
      " [0.    0.55  0.    0.    0.   ]]\n",
      "*******************************************************************\n",
      "[[0 1 0 0 0]\n",
      " [0 1 0 0 0]\n",
      " [0 1 0 0 0]\n",
      " [0 1 0 0 0]\n",
      " [0 0 1 0 0]\n",
      " [0 1 0 0 0]\n",
      " [0 1 0 0 0]\n",
      " [0 1 0 0 0]\n",
      " [0 1 0 0 0]\n",
      " [0 1 0 0 0]\n",
      " [0 1 0 0 0]\n",
      " [0 1 0 0 0]\n",
      " [0 1 0 0 0]\n",
      " [0 1 0 0 0]\n",
      " [0 1 0 0 0]\n",
      " [0 1 0 0 0]\n",
      " [0 1 0 0 0]\n",
      " [0 1 0 0 0]\n",
      " [0 1 0 0 0]\n",
      " [0 1 0 0 0]]\n"
     ]
    }
   ],
   "source": [
    "print(result_c0_test[:20])\n",
    "print('*******************************************************************')\n",
    "print(result_c1_test[:20])\n",
    "print('*******************************************************************')\n",
    "print(result_c2_test[:20])"
   ]
  },
  {
   "cell_type": "code",
   "execution_count": 138,
   "metadata": {},
   "outputs": [],
   "source": [
    "lbl_c0_test = np.array(ms_test_labels)\n",
    "for i in range(len(lbl_c0_test)):\n",
    "    if lbl_c0_test[i] == 0:\n",
    "        lbl_c0_test[i] = 100\n",
    "for j in range(len(lbl_c0_test)):\n",
    "    if lbl_c0_test[j] != 100:\n",
    "        lbl_c0_test[j] = 0\n",
    "for k in range(len(lbl_c0_test)):\n",
    "    if lbl_c0_test[k] == 100:\n",
    "        lbl_c0_test[k] = 1"
   ]
  },
  {
   "cell_type": "code",
   "execution_count": 139,
   "metadata": {},
   "outputs": [],
   "source": [
    "lbl_c1_test = np.array(ms_test_labels)\n",
    "for i in range(len(lbl_c1_test)):\n",
    "    if lbl_c1_test[i] == 1:\n",
    "        lbl_c1_test[i] = 100\n",
    "for j in range(len(lbl_c1_test)):\n",
    "    if lbl_c1_test[j] != 100:\n",
    "        lbl_c1_test[j] = 0\n",
    "for k in range(len(lbl_c1_test)):\n",
    "    if lbl_c1_test[k] == 100:\n",
    "        lbl_c1_test[k] = 1"
   ]
  },
  {
   "cell_type": "code",
   "execution_count": 140,
   "metadata": {},
   "outputs": [],
   "source": [
    "lbl_c2_test = np.array(ms_test_labels)\n",
    "for i in range(len(lbl_c2_test)):\n",
    "    if lbl_c2_test[i] == 2:\n",
    "        lbl_c2_test[i] = 100\n",
    "for j in range(len(lbl_c2_test)):\n",
    "    if lbl_c2_test[j] != 100:\n",
    "        lbl_c2_test[j] = 0\n",
    "for k in range(len(lbl_c2_test)):\n",
    "    if lbl_c2_test[k] == 100:\n",
    "        lbl_c2_test[k] = 1"
   ]
  },
  {
   "cell_type": "code",
   "execution_count": 141,
   "metadata": {
    "scrolled": true
   },
   "outputs": [
    {
     "name": "stdout",
     "output_type": "stream",
     "text": [
      "[[0 0 1 1 1 1 1 1 1 1 1 1 0 0 1 1 1 1 1 0 0 0 1 1 0]]\n",
      "[[1 1 0 0 0 0 0 0 0 0 0 0 1 0 0 0 0 0 0 1 1 0 0 0 1]]\n",
      "[[0 0 0 0 0 0 0 0 0 0 0 0 0 1 0 0 0 0 0 0 0 1 0 0 0]]\n"
     ]
    }
   ],
   "source": [
    "print(lbl_c0_test[:25].T)\n",
    "print(lbl_c1_test[:25].T)\n",
    "print(lbl_c2_test[:25].T)"
   ]
  },
  {
   "cell_type": "code",
   "execution_count": 142,
   "metadata": {},
   "outputs": [],
   "source": [
    "lbl_c0_test = np.reshape(lbl_c0_test, (-1, 1))\n",
    "lbl_c1_test = np.reshape(lbl_c1_test, (-1, 1))\n",
    "lbl_c2_test = np.reshape(lbl_c2_test, (-1, 1))"
   ]
  },
  {
   "cell_type": "code",
   "execution_count": 143,
   "metadata": {},
   "outputs": [],
   "source": [
    "res0_test = result_c0_test * lbl_c0_test\n",
    "res1_test = result_c1_test * lbl_c1_test\n",
    "res2_test = result_c2_test * lbl_c2_test"
   ]
  },
  {
   "cell_type": "code",
   "execution_count": 144,
   "metadata": {},
   "outputs": [],
   "source": [
    "final_result_with_degree_test = np.hstack((res0_test, res1_test, res2_test))\n",
    "final_result_without_degree_test = np.hstack((result_c0_test, result_c1_test, result_c2_test))"
   ]
  },
  {
   "cell_type": "code",
   "execution_count": 145,
   "metadata": {},
   "outputs": [
    {
     "name": "stdout",
     "output_type": "stream",
     "text": [
      "[[-0.    -0.     0.     0.    -0.     0.     0.519  0.     0.     0.\n",
      "   0.     0.     0.     0.     0.   ]\n",
      " [-0.    -0.     0.    -0.    -0.     0.     0.284  0.     0.     0.\n",
      "   0.     0.     0.     0.     0.   ]\n",
      " [ 0.896  0.033  0.039  0.016  0.033  0.     0.     0.     0.     0.\n",
      "   0.     0.     0.     0.     0.   ]\n",
      " [-0.035  0.038  0.979  0.041 -0.026  0.     0.     0.     0.     0.\n",
      "   0.     0.     0.     0.     0.   ]\n",
      " [-0.043 -0.041  1.041  0.008 -0.009  0.     0.     0.     0.     0.\n",
      "   0.     0.     0.     0.     0.   ]\n",
      " [ 0.988  0.007  0.007  0.003 -0.004  0.     0.     0.     0.     0.\n",
      "   0.     0.     0.     0.     0.   ]\n",
      " [ 0.874  0.043  0.114  0.045  0.026  0.     0.     0.     0.     0.\n",
      "   0.     0.     0.     0.     0.   ]\n",
      " [ 0.016  0.013  0.019  0.953  0.004  0.     0.     0.     0.     0.\n",
      "   0.     0.     0.     0.     0.   ]\n",
      " [ 0.988  0.007  0.007  0.003 -0.004  0.     0.     0.     0.     0.\n",
      "   0.     0.     0.     0.     0.   ]\n",
      " [ 0.039  0.005 -0.017  0.968  0.014  0.     0.     0.     0.     0.\n",
      "   0.     0.     0.     0.     0.   ]]\n",
      "*****************************************************************************\n",
      "[[-0.071 -0.021  1.074  0.008 -0.014  0.     0.519  0.     0.     0.\n",
      "   0.     1.     0.     0.     0.   ]\n",
      " [-0.044 -0.037  1.061 -0.007 -0.008  0.     0.284  0.     0.     0.\n",
      "   0.     1.     0.     0.     0.   ]\n",
      " [ 0.896  0.033  0.039  0.016  0.033  0.46   0.     0.529  0.     0.\n",
      "   0.     1.     0.     0.     0.   ]\n",
      " [-0.035  0.038  0.979  0.041 -0.026  0.111  0.     0.999  0.     0.\n",
      "   0.     1.     0.     0.     0.   ]\n",
      " [-0.043 -0.041  1.041  0.008 -0.009  0.004  0.     0.001  0.169  0.\n",
      "   0.     0.     1.     0.     0.   ]\n",
      " [ 0.988  0.007  0.007  0.003 -0.004  0.016  0.     0.888  0.     0.\n",
      "   0.     1.     0.     0.     0.   ]\n",
      " [ 0.874  0.043  0.114  0.045  0.026  0.014  0.     1.     0.     0.\n",
      "   0.     1.     0.     0.     0.   ]\n",
      " [ 0.016  0.013  0.019  0.953  0.004  0.148  0.     0.963  0.     0.\n",
      "   0.     1.     0.     0.     0.   ]\n",
      " [ 0.988  0.007  0.007  0.003 -0.004  0.009  0.     0.813  0.     0.\n",
      "   0.     1.     0.     0.     0.   ]\n",
      " [ 0.039  0.005 -0.017  0.968  0.014  0.335  0.     0.199  0.     0.\n",
      "   0.     1.     0.     0.     0.   ]]\n"
     ]
    }
   ],
   "source": [
    "print(final_result_with_degree_test[:10])\n",
    "print('*****************************************************************************')\n",
    "print(final_result_without_degree_test[:10])"
   ]
  },
  {
   "cell_type": "code",
   "execution_count": 146,
   "metadata": {},
   "outputs": [],
   "source": [
    "val_X = final_result_with_degree[:20000]\n",
    "val_y = cat_train_numerical_label[:20000]\n",
    "partial_X = final_result_with_degree[20000:]\n",
    "partial_y = cat_train_numerical_label[20000:]\n",
    "\n",
    "val_X_without_degree = final_result_without_degree[:20000]\n",
    "val_y_without_degree = cat_train_numerical_label[:20000]\n",
    "partial_X_without_degree = final_result_without_degree[20000:]\n",
    "partial_y_without_degree = cat_train_numerical_label[20000:]\n"
   ]
  },
  {
   "cell_type": "code",
   "execution_count": 148,
   "metadata": {
    "scrolled": false
   },
   "outputs": [
    {
     "name": "stdout",
     "output_type": "stream",
     "text": [
      "Train on 189885 samples, validate on 20000 samples\n",
      "Epoch 1/40\n",
      "189885/189885 [==============================] - 18s 97us/step - loss: 0.2721 - acc: 0.9137 - val_loss: 0.1584 - val_acc: 0.9231\n",
      "Epoch 2/40\n",
      "189885/189885 [==============================] - 16s 87us/step - loss: 0.1466 - acc: 0.9467 - val_loss: 0.1484 - val_acc: 0.9258\n",
      "Epoch 3/40\n",
      "189885/189885 [==============================] - 17s 88us/step - loss: 0.1378 - acc: 0.9523 - val_loss: 0.1451 - val_acc: 0.9357\n",
      "Epoch 4/40\n",
      "189885/189885 [==============================] - 17s 87us/step - loss: 0.1319 - acc: 0.9578 - val_loss: 0.1417 - val_acc: 0.9445\n",
      "Epoch 5/40\n",
      "189885/189885 [==============================] - 16s 85us/step - loss: 0.1270 - acc: 0.9625 - val_loss: 0.1355 - val_acc: 0.9525\n",
      "Epoch 6/40\n",
      "189885/189885 [==============================] - 16s 86us/step - loss: 0.1223 - acc: 0.9660 - val_loss: 0.1323 - val_acc: 0.9556\n",
      "Epoch 7/40\n",
      "189885/189885 [==============================] - 16s 87us/step - loss: 0.1178 - acc: 0.9682 - val_loss: 0.1262 - val_acc: 0.9611\n",
      "Epoch 8/40\n",
      "189885/189885 [==============================] - 16s 86us/step - loss: 0.1142 - acc: 0.9699 - val_loss: 0.1203 - val_acc: 0.9706\n",
      "Epoch 9/40\n",
      "189885/189885 [==============================] - 17s 87us/step - loss: 0.1110 - acc: 0.9712 - val_loss: 0.1206 - val_acc: 0.9694\n",
      "Epoch 10/40\n",
      "189885/189885 [==============================] - 16s 85us/step - loss: 0.1077 - acc: 0.9725 - val_loss: 0.1188 - val_acc: 0.9702\n",
      "Epoch 11/40\n",
      "189885/189885 [==============================] - 16s 85us/step - loss: 0.1056 - acc: 0.9735 - val_loss: 0.1154 - val_acc: 0.9705\n",
      "Epoch 12/40\n",
      "189885/189885 [==============================] - 17s 87us/step - loss: 0.1034 - acc: 0.9745 - val_loss: 0.1157 - val_acc: 0.9667\n",
      "Epoch 13/40\n",
      "189885/189885 [==============================] - 16s 86us/step - loss: 0.1010 - acc: 0.9750 - val_loss: 0.1145 - val_acc: 0.9669\n",
      "Epoch 14/40\n",
      "189885/189885 [==============================] - 16s 85us/step - loss: 0.0996 - acc: 0.9756 - val_loss: 0.1129 - val_acc: 0.9715\n",
      "Epoch 15/40\n",
      "189885/189885 [==============================] - 16s 84us/step - loss: 0.0984 - acc: 0.9760 - val_loss: 0.1113 - val_acc: 0.9707\n",
      "Epoch 16/40\n",
      "189885/189885 [==============================] - 16s 85us/step - loss: 0.0977 - acc: 0.9763 - val_loss: 0.1105 - val_acc: 0.9708\n",
      "Epoch 17/40\n",
      "189885/189885 [==============================] - 16s 86us/step - loss: 0.0971 - acc: 0.9765 - val_loss: 0.1115 - val_acc: 0.9696\n",
      "Epoch 18/40\n",
      "189885/189885 [==============================] - 17s 87us/step - loss: 0.0969 - acc: 0.9770 - val_loss: 0.1108 - val_acc: 0.9733\n",
      "Epoch 19/40\n",
      "189885/189885 [==============================] - 17s 87us/step - loss: 0.0963 - acc: 0.9770 - val_loss: 0.1097 - val_acc: 0.9747\n",
      "Epoch 20/40\n",
      "189885/189885 [==============================] - 16s 86us/step - loss: 0.0959 - acc: 0.9771 - val_loss: 0.1080 - val_acc: 0.9773\n",
      "Epoch 21/40\n",
      "189885/189885 [==============================] - 16s 83us/step - loss: 0.0953 - acc: 0.9772 - val_loss: 0.1136 - val_acc: 0.9711\n",
      "Epoch 22/40\n",
      "189885/189885 [==============================] - 16s 83us/step - loss: 0.0948 - acc: 0.9774 - val_loss: 0.1060 - val_acc: 0.9779\n",
      "Epoch 23/40\n",
      "189885/189885 [==============================] - 16s 83us/step - loss: 0.0946 - acc: 0.9776 - val_loss: 0.1045 - val_acc: 0.9768\n",
      "Epoch 24/40\n",
      "189885/189885 [==============================] - 16s 84us/step - loss: 0.0942 - acc: 0.9777 - val_loss: 0.1102 - val_acc: 0.9718\n",
      "Epoch 25/40\n",
      "189885/189885 [==============================] - 16s 83us/step - loss: 0.0940 - acc: 0.9777 - val_loss: 0.1047 - val_acc: 0.9765\n",
      "Epoch 26/40\n",
      "189885/189885 [==============================] - 16s 82us/step - loss: 0.0937 - acc: 0.9778 - val_loss: 0.1082 - val_acc: 0.9754\n",
      "Epoch 27/40\n",
      "189885/189885 [==============================] - 16s 83us/step - loss: 0.0938 - acc: 0.9777 - val_loss: 0.1037 - val_acc: 0.9779\n",
      "Epoch 28/40\n",
      "189885/189885 [==============================] - 16s 82us/step - loss: 0.0940 - acc: 0.9778 - val_loss: 0.1052 - val_acc: 0.9770\n",
      "Epoch 29/40\n",
      "189885/189885 [==============================] - 16s 83us/step - loss: 0.0933 - acc: 0.9780 - val_loss: 0.1071 - val_acc: 0.9758\n",
      "Epoch 30/40\n",
      "189885/189885 [==============================] - 16s 82us/step - loss: 0.0933 - acc: 0.9781 - val_loss: 0.1087 - val_acc: 0.9761\n",
      "Epoch 31/40\n",
      "189885/189885 [==============================] - 16s 82us/step - loss: 0.0934 - acc: 0.9781 - val_loss: 0.1077 - val_acc: 0.9748\n",
      "Epoch 32/40\n",
      "189885/189885 [==============================] - 16s 82us/step - loss: 0.0934 - acc: 0.9782 - val_loss: 0.1105 - val_acc: 0.9746\n",
      "Epoch 33/40\n",
      "189885/189885 [==============================] - 16s 84us/step - loss: 0.0933 - acc: 0.9784 - val_loss: 0.1102 - val_acc: 0.9728\n",
      "Epoch 34/40\n",
      "189885/189885 [==============================] - 15s 81us/step - loss: 0.0933 - acc: 0.9783 - val_loss: 0.1072 - val_acc: 0.9729\n",
      "Epoch 35/40\n",
      "189885/189885 [==============================] - 16s 82us/step - loss: 0.0936 - acc: 0.9784 - val_loss: 0.1045 - val_acc: 0.9775\n",
      "Epoch 36/40\n",
      "189885/189885 [==============================] - 16s 82us/step - loss: 0.0933 - acc: 0.9785 - val_loss: 0.1070 - val_acc: 0.9775\n",
      "Epoch 37/40\n",
      "189885/189885 [==============================] - 15s 82us/step - loss: 0.0934 - acc: 0.9784 - val_loss: 0.1092 - val_acc: 0.9772\n",
      "Epoch 38/40\n",
      "189885/189885 [==============================] - 15s 81us/step - loss: 0.0935 - acc: 0.9784 - val_loss: 0.1046 - val_acc: 0.9762\n",
      "Epoch 39/40\n",
      "189885/189885 [==============================] - 16s 82us/step - loss: 0.0938 - acc: 0.9784 - val_loss: 0.1067 - val_acc: 0.9742\n",
      "Epoch 40/40\n",
      "189885/189885 [==============================] - 15s 80us/step - loss: 0.0935 - acc: 0.9785 - val_loss: 0.1064 - val_acc: 0.9776\n"
     ]
    }
   ],
   "source": [
    "final_model = 0\n",
    "final_model = Sequential()\n",
    "final_model.add(Dense(10, activation='relu', kernel_initializer=initializer, input_shape=(15,)))\n",
    "final_model.add(Dense(5, activation='softmax', kernel_initializer=initializer))\n",
    "final_model.compile(optimizer=adam, loss='categorical_crossentropy', metrics=['accuracy'])\n",
    "\n",
    "histor = final_model.fit(partial_X, partial_y,\n",
    "                         batch_size=32, epochs=40,\n",
    "                         validation_data=(val_X, val_y))\n",
    "\n",
    "# final_model.add(Dense(10, activation='sigmoid', kernel_initializer=initializer, input_shape=(10,)))\n",
    "# final_model.add(Dense(5, activation='linear', kernel_initializer=initializer))\n",
    "# final_model.compile(optimizer=adam, loss='mse', metrics=['accuracy'])\n",
    "\n",
    "# histor = final_model.fit(partial_X, partial_y,\n",
    "#                          batch_size=128, epochs=40,\n",
    "#                          validation_data=(val_X, val_y))"
   ]
  },
  {
   "cell_type": "code",
   "execution_count": 149,
   "metadata": {},
   "outputs": [],
   "source": [
    "val_loss = histor.history['val_loss']\n",
    "loss = histor.history['loss']\n",
    "\n",
    "accuracy = histor.history['acc']\n",
    "val_accuracy = histor.history['val_acc']"
   ]
  },
  {
   "cell_type": "code",
   "execution_count": 150,
   "metadata": {},
   "outputs": [],
   "source": [
    "epochs = range(40)"
   ]
  },
  {
   "cell_type": "code",
   "execution_count": 151,
   "metadata": {},
   "outputs": [
    {
     "data": {
      "image/png": "[encoded data removed]",
      "text/plain": [
       "<Figure size 432x288 with 1 Axes>"
      ]
     },
     "metadata": {},
     "output_type": "display_data"
    }
   ],
   "source": [
    "plots(loss, val_loss, 'Loss', epochs)"
   ]
  },
  {
   "cell_type": "code",
   "execution_count": 152,
   "metadata": {},
   "outputs": [
    {
     "data": {
      "image/png": "[encoded data removed]",
      "text/plain": [
       "<Figure size 432x288 with 1 Axes>"
      ]
     },
     "metadata": {},
     "output_type": "display_data"
    }
   ],
   "source": [
    "plots(accuracy, val_accuracy, 'Accuracy', epochs)"
   ]
  },
  {
   "cell_type": "code",
   "execution_count": 153,
   "metadata": {},
   "outputs": [],
   "source": [
    "def newsig(weight_matrix):\n",
    "    return 10 * (1 / (1 + (K.exp(-0.05 * weight_matrix))))"
   ]
  },
  {
   "cell_type": "code",
   "execution_count": 154,
   "metadata": {},
   "outputs": [],
   "source": [
    "from keras import regularizers"
   ]
  },
  {
   "cell_type": "code",
   "execution_count": 358,
   "metadata": {
    "scrolled": false
   },
   "outputs": [
    {
     "name": "stdout",
     "output_type": "stream",
     "text": [
      "Epoch 1/30\n",
      "209885/209885 [==============================] - 5s 24us/step - loss: 0.3331 - acc: 0.1509\n",
      "Epoch 2/30\n",
      "209885/209885 [==============================] - 2s 8us/step - loss: 0.1748 - acc: 0.3168\n",
      "Epoch 3/30\n",
      "209885/209885 [==============================] - 2s 8us/step - loss: 0.1048 - acc: 0.5646\n",
      "Epoch 4/30\n",
      "209885/209885 [==============================] - 2s 8us/step - loss: 0.0780 - acc: 0.7702\n",
      "Epoch 5/30\n",
      "209885/209885 [==============================] - 2s 8us/step - loss: 0.0626 - acc: 0.8410\n",
      "Epoch 6/30\n",
      "209885/209885 [==============================] - 2s 8us/step - loss: 0.0546 - acc: 0.8261\n",
      "Epoch 7/30\n",
      "209885/209885 [==============================] - 2s 8us/step - loss: 0.0495 - acc: 0.8213\n",
      "Epoch 8/30\n",
      "209885/209885 [==============================] - 2s 8us/step - loss: 0.0466 - acc: 0.8419\n",
      "Epoch 9/30\n",
      "209885/209885 [==============================] - 2s 8us/step - loss: 0.0448 - acc: 0.8426\n",
      "Epoch 10/30\n",
      "209885/209885 [==============================] - 2s 8us/step - loss: 0.0433 - acc: 0.8429\n",
      "Epoch 11/30\n",
      "209885/209885 [==============================] - 2s 8us/step - loss: 0.0421 - acc: 0.8432\n",
      "Epoch 12/30\n",
      "209885/209885 [==============================] - 2s 8us/step - loss: 0.0412 - acc: 0.8435\n",
      "Epoch 13/30\n",
      "209885/209885 [==============================] - 2s 8us/step - loss: 0.0405 - acc: 0.8449\n",
      "Epoch 14/30\n",
      "209885/209885 [==============================] - 2s 8us/step - loss: 0.0400 - acc: 0.8460\n",
      "Epoch 15/30\n",
      "209885/209885 [==============================] - 2s 8us/step - loss: 0.0397 - acc: 0.8461\n",
      "Epoch 16/30\n",
      "209885/209885 [==============================] - 2s 8us/step - loss: 0.0395 - acc: 0.8463\n",
      "Epoch 17/30\n",
      "209885/209885 [==============================] - 2s 8us/step - loss: 0.0394 - acc: 0.8462\n",
      "Epoch 18/30\n",
      "209885/209885 [==============================] - 2s 8us/step - loss: 0.0393 - acc: 0.8460\n",
      "Epoch 19/30\n",
      "209885/209885 [==============================] - 2s 8us/step - loss: 0.0393 - acc: 0.8459\n",
      "Epoch 20/30\n",
      "209885/209885 [==============================] - 2s 8us/step - loss: 0.0393 - acc: 0.8457\n",
      "Epoch 21/30\n",
      "209885/209885 [==============================] - 2s 8us/step - loss: 0.0394 - acc: 0.8455\n",
      "Epoch 22/30\n",
      "209885/209885 [==============================] - 2s 8us/step - loss: 0.0394 - acc: 0.8452\n",
      "Epoch 23/30\n",
      "209885/209885 [==============================] - 2s 8us/step - loss: 0.0394 - acc: 0.8452\n",
      "Epoch 24/30\n",
      "209885/209885 [==============================] - 2s 8us/step - loss: 0.0395 - acc: 0.8450\n",
      "Epoch 25/30\n",
      "209885/209885 [==============================] - 2s 8us/step - loss: 0.0395 - acc: 0.8449\n",
      "Epoch 26/30\n",
      "209885/209885 [==============================] - 2s 8us/step - loss: 0.0395 - acc: 0.8449\n",
      "Epoch 27/30\n",
      "209885/209885 [==============================] - 2s 8us/step - loss: 0.0395 - acc: 0.8450\n",
      "Epoch 28/30\n",
      "209885/209885 [==============================] - 2s 8us/step - loss: 0.0395 - acc: 0.8450\n",
      "Epoch 29/30\n",
      "209885/209885 [==============================] - 2s 8us/step - loss: 0.0395 - acc: 0.8451\n",
      "Epoch 30/30\n",
      "209885/209885 [==============================] - 2s 8us/step - loss: 0.0395 - acc: 0.8452\n"
     ]
    },
    {
     "data": {
      "text/plain": [
       "<keras.callbacks.History at 0x7fe0bdd59dd8>"
      ]
     },
     "execution_count": 358,
     "metadata": {},
     "output_type": "execute_result"
    }
   ],
   "source": [
    "final_model = 0\n",
    "final_model = Sequential()\n",
    "final_model.add(Dense(5, activation='tanh', kernel_initializer=initializer, bias_initializer='zeros', input_shape=(15,)))\n",
    "# final_model.add(Dense(15, activation='tanh', kernel_initializer=initializer))\n",
    "# final_model.add(Dense(15, activation='tanh', kernel_initializer=initializer))\n",
    "# final_model.add(Dense(25, activation='tanh', kernel_initializer=initializer))\n",
    "# final_model.add(Dense(15, activation='tanh', kernel_initializer=initializer))\n",
    "# final_model.add(Dense(10, activation='tanh', kernel_initializer=initializer))\n",
    "# final_model.add(Dense(5, activation='linear', kernel_initializer=initializer))\n",
    "\n",
    "final_model.compile(optimizer=adam, loss='mse', metrics=['accuracy'])\n",
    "final_model.fit(final_result_with_degree, cat_train_numerical_label, batch_size=512, epochs=30, shuffle=False)"
   ]
  },
  {
   "cell_type": "code",
   "execution_count": 359,
   "metadata": {},
   "outputs": [
    {
     "name": "stdout",
     "output_type": "stream",
     "text": [
      "22544/22544 [==============================] - 3s 149us/step\n",
      "[0.0765531347777676, 0.9545777146912704]\n"
     ]
    }
   ],
   "source": [
    "print(final_model.evaluate(final_result_with_degree_test, cat_test_numerical_label))"
   ]
  },
  {
   "cell_type": "code",
   "execution_count": 360,
   "metadata": {},
   "outputs": [],
   "source": [
    "prdd = final_model.predict(final_result_with_degree_test)"
   ]
  },
  {
   "cell_type": "code",
   "execution_count": 361,
   "metadata": {},
   "outputs": [
    {
     "name": "stdout",
     "output_type": "stream",
     "text": [
      "[[-0.121  0.989  0.148  0.047  0.036]\n",
      " [-0.113  0.937  0.216  0.047  0.037]\n",
      " [ 0.915  0.018  0.043  0.107  0.081]\n",
      " [-0.201  0.012  0.901  0.102  0.07 ]\n",
      " [-0.205 -0.061  0.919  0.063  0.072]\n",
      " [ 0.939 -0.004 -0.002  0.094  0.082]\n",
      " [ 0.908 -0.025  0.13   0.135  0.084]\n",
      " [ 0.015  0.019  0.009  0.741  0.079]\n",
      " [ 0.939 -0.004 -0.002  0.094  0.082]\n",
      " [ 0.061  0.008 -0.047  0.747  0.08 ]\n",
      " [-0.243  0.66   0.172  0.344  0.043]\n",
      " [ 0.928 -0.002  0.028  0.105  0.083]\n",
      " [-0.111  0.904  0.232  0.047  0.037]\n",
      " [-0.999  1.    -1.     0.207 -0.957]\n",
      " [ 0.922  0.006  0.057  0.106  0.082]\n",
      " [ 0.94  -0.003 -0.004  0.093  0.082]\n",
      " [ 0.946 -0.045 -0.008  0.092  0.085]\n",
      " [ 0.94  -0.003 -0.004  0.093  0.082]\n",
      " [ 0.94  -0.008 -0.005  0.092  0.083]\n",
      " [-0.122  0.992  0.138  0.047  0.036]]\n",
      "-----------------------------------------------\n",
      "[[0. 1. 0. 0. 0.]\n",
      " [0. 1. 0. 0. 0.]\n",
      " [1. 0. 0. 0. 0.]\n",
      " [0. 0. 1. 0. 0.]\n",
      " [0. 0. 1. 0. 0.]\n",
      " [1. 0. 0. 0. 0.]\n",
      " [1. 0. 0. 0. 0.]\n",
      " [0. 0. 0. 1. 0.]\n",
      " [1. 0. 0. 0. 0.]\n",
      " [0. 0. 0. 1. 0.]\n",
      " [0. 0. 1. 0. 0.]\n",
      " [1. 0. 0. 0. 0.]\n",
      " [0. 1. 0. 0. 0.]\n",
      " [0. 1. 0. 0. 0.]\n",
      " [1. 0. 0. 0. 0.]\n",
      " [1. 0. 0. 0. 0.]\n",
      " [1. 0. 0. 0. 0.]\n",
      " [1. 0. 0. 0. 0.]\n",
      " [1. 0. 0. 0. 0.]\n",
      " [0. 1. 0. 0. 0.]]\n"
     ]
    }
   ],
   "source": [
    "print(prdd[:20])\n",
    "print('-----------------------------------------------')\n",
    "print(cat_test_numerical_label[:20])"
   ]
  },
  {
   "cell_type": "code",
   "execution_count": 362,
   "metadata": {},
   "outputs": [
    {
     "name": "stdout",
     "output_type": "stream",
     "text": [
      "precision 0.9656913005681387\n",
      "FPR 0.04479456286639075\n",
      "TPR 0.954102703958902\n",
      "Recall 0.954102703958902\n",
      "FNR 0.04589729603330556\n",
      "specificity 0.9552054371233116\n",
      "accuracy 0.9545777146870361\n",
      "F_score 0.9598619757076895\n",
      "FN 589.0\n",
      "FP 435.0\n",
      "TP 12244.0\n",
      "TN 9276.0\n",
      "Cohens_kappa [0.908]\n"
     ]
    }
   ],
   "source": [
    "_ = metrics_binary_1node(prdd, cat_test_numerical_label)"
   ]
  },
  {
   "cell_type": "code",
   "execution_count": 200,
   "metadata": {},
   "outputs": [],
   "source": [
    "siamak2 = time.time()\n",
    "print(siamak2 - siamak)"
   ]
  },
  {
   "cell_type": "code",
   "execution_count": null,
   "metadata": {},
   "outputs": [],
   "source": []
  }
 ],
 "metadata": {
  "kernelspec": {
   "display_name": "Python 3",
   "language": "python",
   "name": "python3"
  },
  "language_info": {
   "codemirror_mode": {
    "name": "ipython",
    "version": 3
   },
   "file_extension": ".py",
   "mimetype": "text/x-python",
   "name": "python",
   "nbconvert_exporter": "python",
   "pygments_lexer": "ipython3",
   "version": "3.6.6"
  }
 },
 "nbformat": 4,
 "nbformat_minor": 2
}
